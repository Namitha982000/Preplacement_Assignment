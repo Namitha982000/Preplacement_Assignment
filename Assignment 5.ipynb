{
 "cells": [
  {
   "cell_type": "markdown",
   "id": "4feb1a4b-128f-4704-8fa3-529b9e524541",
   "metadata": {},
   "source": [
    "# Assignment 5"
   ]
  },
  {
   "cell_type": "markdown",
   "id": "76d76b11-5064-4530-b461-c248e9c4709b",
   "metadata": {},
   "source": [
    "#### Question 1 Convert 1D Array Into 2D Array You are given a 0-indexed 1-dimensional (1D) integer array original, and two integers, m and n. You are tasked with creating a 2-dimensional (2D) array with  m rows and n columns using all the elements from original. The elements from indices 0 to n - 1 (inclusive) of original should form the first row of the constructed 2D array, the elements from indices n to 2 * n - 1 (inclusive) should form the second row of the constructed 2D array, and so on.\n",
    "\n",
    "Return an m x n 2D array constructed according to the above procedure, or an empty 2D array if it is impossible.\n",
    "\n",
    "Example 1:\n",
    "\n",
    "Input: original = [1,2,3,4], m = 2, n = 2\n",
    "\n",
    "Output: [[1,2],[3,4]]\n",
    "\n",
    "Explanation: The constructed 2D array should contain 2 rows and 2 columns.\n",
    "\n",
    "The first group of n=2 elements in original, [1,2], becomes the first row in the constructed 2D array.\n",
    "\n",
    "The second group of n=2 elements in original, [3,4], becomes the second row in the constructed 2D array.\n"
   ]
  },
  {
   "cell_type": "code",
   "execution_count": 16,
   "id": "837bd22e-6013-4c29-863f-b87ee0fe8756",
   "metadata": {},
   "outputs": [
    {
     "name": "stdout",
     "output_type": "stream",
     "text": [
      "[[1, 2], [3, 4]]\n"
     ]
    }
   ],
   "source": [
    "def Array_1D_to_2D(arr, m, n):\n",
    "    if len(arr) != m * n:\n",
    "        return []\n",
    "    \n",
    "    resultant_array =[[0] * n for _ in range(m)]\n",
    "    r = 0\n",
    "    c = 0\n",
    "    for i in arr:\n",
    "        resultant_array[r][c] = i\n",
    "        c += 1\n",
    "        if c == n:\n",
    "            r += 1\n",
    "            c = 0\n",
    "           \n",
    "    return resultant_array\n",
    "    \n",
    "arr = [1,2,3,4]\n",
    "m = 2\n",
    "n = 2\n",
    "print(Array_1D_to_2D(arr, m, n))"
   ]
  },
  {
   "cell_type": "markdown",
   "id": "33d0f3c4-fef9-4367-b6eb-238c319a068e",
   "metadata": {},
   "source": [
    "#### Question 2 You have n coins and you want to build a staircase with these coins. The staircase consists of k rows where the ith row has exactly i coins. The last row of the staircase may be incomplete. Given the integer n, return the number of complete rows of the staircase you will build.\n",
    "\n",
    "Example 1:\n",
    "\n",
    "Input: n = 5\n",
    "\n",
    "Output: 2\n",
    "\n",
    "Explanation: Because the 3rd row is incomplete, we return 2.\n"
   ]
  },
  {
   "cell_type": "code",
   "execution_count": 26,
   "id": "63fc4e86-e868-46c0-96e4-944927eba91f",
   "metadata": {},
   "outputs": [
    {
     "name": "stdout",
     "output_type": "stream",
     "text": [
      "3\n"
     ]
    }
   ],
   "source": [
    "def coins(n):\n",
    "    \n",
    "    c = 0\n",
    "    i = 1\n",
    "    while n >= i:\n",
    "        if i <= n:\n",
    "            n = n -1\n",
    "            c += 1\n",
    "            i += 1\n",
    "            \n",
    "    return c\n",
    "\n",
    "n = 5\n",
    "print(coins(n))"
   ]
  },
  {
   "cell_type": "markdown",
   "id": "747085d7-3bc8-4b55-8b39-0e105f227a27",
   "metadata": {},
   "source": [
    "####  Question 3 Given an integer array nums sorted in non-decreasing order, return an array of the squares of each number sorted in non-decreasing order.\n",
    "\n",
    "Example 1:\n",
    "\n",
    "Input: nums = [-4,-1,0,3,10]\n",
    "\n",
    "Output: [0,1,9,16,100]\n",
    "\n",
    "Explanation: After squaring, the array becomes [16,1,0,9,100].\n",
    "\n",
    "After sorting, it becomes [0,1,9,16,100].\n"
   ]
  },
  {
   "cell_type": "code",
   "execution_count": 27,
   "id": "0c713cc2-7107-43f7-b835-ef1eea76581e",
   "metadata": {},
   "outputs": [
    {
     "name": "stdout",
     "output_type": "stream",
     "text": [
      "[0, 1, 9, 16, 100]\n"
     ]
    }
   ],
   "source": [
    "def Square_nums(nums):\n",
    "    \n",
    "    for i in range(len(nums)):\n",
    "        nums[i] = nums[i] ** 2\n",
    "        \n",
    "    return sorted(nums)\n",
    "\n",
    "nums = [-4, -1, 0, 3, 10]\n",
    "print(Square_nums(nums))"
   ]
  },
  {
   "cell_type": "markdown",
   "id": "b1535f16-b7b8-4d8d-8ac3-ad05747a0d42",
   "metadata": {},
   "source": [
    "#### Question 4: Given two 0-indexed integer arrays nums1 and nums2, return a list answer of size 2 where: answer[0] is a list of all distinct integers in nums1 which are not present in nums2*.* answer[1] is a list of all distinct integers in nums2 which are not present in nums1. Note that the integers in the lists may be returned in any order.\n",
    "\n",
    "Example 1:\n",
    "\n",
    "Input: nums1 = [1,2,3], nums2 = [2,4,6]\n",
    "\n",
    "Output: [[1,3],[4,6]]\n",
    "\n",
    "Explanation:\n",
    "\n",
    "For nums1, nums1[1] = 2 is present at index 0 of nums2, whereas nums1[0] = 1 and nums1[2] = 3 are not present in nums2. Therefore, answer[0] = [1,3].\n",
    "\n",
    "For nums2, nums2[0] = 2 is present at index 1 of nums1, whereas nums2[1] = 4 and nums2[2] = 6 are not present in nums2. Therefore, answer[1] = [4,6].\n"
   ]
  },
  {
   "cell_type": "code",
   "execution_count": 30,
   "id": "e30fe7bd-5403-44e9-9130-3d836ad75770",
   "metadata": {},
   "outputs": [
    {
     "name": "stdout",
     "output_type": "stream",
     "text": [
      "[[1, 3], [4, 6]]\n"
     ]
    }
   ],
   "source": [
    "def distinct_element(nums1, nums2):\n",
    "    \n",
    "    nums1 = set(nums1)\n",
    "    nums2 = set(nums2)\n",
    "    \n",
    "    s1 = list(nums1 - nums2)\n",
    "    s2 = list(nums2 - nums1)\n",
    "    \n",
    "    return [s1, s2]\n",
    "    \n",
    "nums1 = [1, 2, 3]\n",
    "nums2 = [2, 4, 6]\n",
    "print(distinct_element(nums1, nums2))"
   ]
  },
  {
   "cell_type": "markdown",
   "id": "81849d33-fc31-4d0c-ab17-e5ad855a7626",
   "metadata": {},
   "source": [
    "#### Question 5 Given two integer arrays arr1 and arr2, and the integer d, return the distance value between the two arrays. The distance value is defined as the number of elements arr1[i] such that there is not any element arr2[j] where |arr1[i]-arr2[j]| <= d.\n",
    "\n",
    "Example 1:\n",
    "\n",
    "Input: arr1 = [4,5,8], arr2 = [10,9,1,8], d = 2\n",
    "\n",
    "Output: 2\n",
    "\n",
    "Explanation:\n",
    "\n",
    "For arr1[0]=4 we have:\n",
    "\n",
    "|4-10|=6 > d=2\n",
    "\n",
    "|4-9|=5 > d=2\n",
    "\n",
    "|4-1|=3 > d=2\n",
    "\n",
    "|4-8|=4 > d=2\n",
    "\n",
    "For arr1[1]=5 we have:\n",
    "\n",
    "|5-10|=5 > d=2\n",
    "\n",
    "|5-9|=4 > d=2\n",
    "\n",
    "|5-1|=4 > d=2\n",
    "\n",
    "|5-8|=3 > d=2\n",
    "\n",
    "For arr1[2]=8 we have:\n",
    "\n",
    "|8-10|=2 <= d=2\n",
    "\n",
    "|8-9|=1 <= d=2\n",
    "\n",
    "|8-1|=7 > d=2\n",
    "\n",
    "|8-8|=0 <= d=2\n"
   ]
  },
  {
   "cell_type": "code",
   "execution_count": 34,
   "id": "ceb500b3-1a31-43be-8276-94fa57910f7e",
   "metadata": {},
   "outputs": [
    {
     "name": "stdout",
     "output_type": "stream",
     "text": [
      "2\n"
     ]
    }
   ],
   "source": [
    "def find_distance(arr1, arr2, d):\n",
    "    \n",
    "    c = 0\n",
    "    for i in range(len(arr1)):\n",
    "        for j in range(len(arr2)):\n",
    "            dist = abs(arr1[i] - arr2[j])\n",
    "            if dist <= d:\n",
    "                break\n",
    "                \n",
    "        else:\n",
    "            c +=1\n",
    "        \n",
    "    return c\n",
    "\n",
    "arr1 = [4,5,8]\n",
    "arr2 = [10,9,1,8]\n",
    "d = 2\n",
    "print(find_distance(arr1, arr2, d))"
   ]
  },
  {
   "cell_type": "markdown",
   "id": "ef6c90ee-9647-4d31-89ee-12206557918f",
   "metadata": {},
   "source": [
    "#### Question 6 Given an integer array nums of length n where all the integers of nums are in the range [1, n] and each integer appears once or twice, return an array of all the integers that appears twice. You must write an algorithm that runs in O(n) time and uses only constant extra space.\n",
    "\n",
    "Example 1:\n",
    "\n",
    "Input: nums = [4,3,2,7,8,2,3,1]\n",
    "\n",
    "Output:\n",
    "\n",
    "[2,3]\n"
   ]
  },
  {
   "cell_type": "code",
   "execution_count": 36,
   "id": "e34a21f0-48b6-4d9d-8bef-95cdf5d0708c",
   "metadata": {},
   "outputs": [
    {
     "name": "stdout",
     "output_type": "stream",
     "text": [
      "[2, 3]\n"
     ]
    }
   ],
   "source": [
    "def find_duplicates(nums):\n",
    "    d = []\n",
    "    \n",
    "    for num in nums:\n",
    "        idx = abs(num) - 1\n",
    "        if nums[idx] > 0:\n",
    "            nums[idx] *= -1\n",
    "        else:\n",
    "            d.append(abs(num))\n",
    "\n",
    "    return d\n",
    "\n",
    "nums = [4, 3, 2, 7, 8, 2, 3, 1]\n",
    "print(find_duplicates(nums))"
   ]
  },
  {
   "cell_type": "markdown",
   "id": "ef2eab77-2c30-48a2-be31-924c4874deae",
   "metadata": {},
   "source": [
    "#### Question 7 Suppose an array of length n sorted in ascending order is rotated between 1 and n times. For example, the array nums = [0,1,2,4,5,6,7] might become:\n",
    "\n",
    "[4,5,6,7,0,1,2] if it was rotated 4 times.\n",
    "\n",
    "[0,1,2,4,5,6,7] if it was rotated 7 times.\n",
    "\n",
    "Notice that rotating an array [a[0], a[1], a[2], ..., a[n-1]] 1 time results in the array [a[n-1], a[0], a[1], a[2], ..., a[n-2]].\n",
    "\n",
    "Given the sorted rotated array nums of unique elements, return the minimum element of this array.\n",
    "\n",
    "You must write an algorithm that runs in O(log n) time.\n",
    "\n",
    "Example 1:\n",
    "\n",
    "Input: nums = [3,4,5,1,2]\n",
    "\n",
    "Output: 1\n",
    "\n",
    "Explanation:\n",
    "\n",
    "The original array was [1,2,3,4,5] rotated 3 times.\n"
   ]
  },
  {
   "cell_type": "code",
   "execution_count": 37,
   "id": "4d506a5e-6996-4e73-9dcd-c0555f100307",
   "metadata": {},
   "outputs": [
    {
     "name": "stdout",
     "output_type": "stream",
     "text": [
      "1\n"
     ]
    }
   ],
   "source": [
    "def find_min(nums):\n",
    "    l, r = 0, len(nums) - 1\n",
    "\n",
    "    while l < r:\n",
    "        m = (l + r) // 2\n",
    "\n",
    "        if nums[m] > nums[r]:\n",
    "            l = m + 1\n",
    "        elif nums[m] < nums[r]:\n",
    "            r = m\n",
    "        else:\n",
    "            r -= 1\n",
    "\n",
    "    return nums[l]\n",
    "\n",
    "nums = [3, 4, 5, 1, 2]\n",
    "print(find_min(nums))"
   ]
  },
  {
   "cell_type": "markdown",
   "id": "476c7991-68e5-41d3-98f0-a573a84c69c3",
   "metadata": {},
   "source": [
    "#### Question 8 An integer array original is transformed into a doubled array changed by appending twice the value of every element in original, and then randomly shuffling the resulting array. Given an array changed, return original if changed is a doubled array. If changed is not a doubled array, return an empty array. The elements in original may be returned in any order.\n",
    "\n",
    "Example 1:\n",
    "\n",
    "Input: changed = [1,3,4,2,6,8]\n",
    "\n",
    "Output: [1,3,4]\n",
    "\n",
    "Explanation: One possible original array could be [1,3,4]:\n",
    "\n",
    "Twice the value of 1 is 1 * 2 = 2.\n",
    "\n",
    "Twice the value of 3 is 3 * 2 = 6.\n",
    "\n",
    "Twice the value of 4 is 4 * 2 = 8.\n",
    "\n",
    "Other original arrays could be [4,3,1] or [3,1,4].\n"
   ]
  },
  {
   "cell_type": "code",
   "execution_count": 41,
   "id": "452b346e-5e1e-4de9-b80b-7dad1be3c4c5",
   "metadata": {},
   "outputs": [
    {
     "name": "stdout",
     "output_type": "stream",
     "text": [
      "[1, 3, 4]\n",
      "[]\n"
     ]
    }
   ],
   "source": [
    "def doubled_array(changed):\n",
    "    \n",
    "    mid = len(changed)//2\n",
    "    res = []\n",
    "    \n",
    "    for i in range(mid):\n",
    "        if changed[i] * 2 == changed[mid]:\n",
    "            res.append(changed[i])\n",
    "            mid +=1\n",
    "        \n",
    "    \n",
    "    print(res)\n",
    "    \n",
    "changed = [1,3,4,2,6,8]\n",
    "doubled_array(changed)\n",
    "\n",
    "changed = [5,6,7,2,6,8]\n",
    "doubled_array(changed)"
   ]
  },
  {
   "cell_type": "code",
   "execution_count": null,
   "id": "7f5fc314-021a-4366-a565-7eb07fae065f",
   "metadata": {},
   "outputs": [],
   "source": []
  }
 ],
 "metadata": {
  "kernelspec": {
   "display_name": "Python 3 (ipykernel)",
   "language": "python",
   "name": "python3"
  },
  "language_info": {
   "codemirror_mode": {
    "name": "ipython",
    "version": 3
   },
   "file_extension": ".py",
   "mimetype": "text/x-python",
   "name": "python",
   "nbconvert_exporter": "python",
   "pygments_lexer": "ipython3",
   "version": "3.10.6"
  }
 },
 "nbformat": 4,
 "nbformat_minor": 5
}
