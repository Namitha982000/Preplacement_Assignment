{
 "cells": [
  {
   "cell_type": "markdown",
   "id": "58e0dc97-51f0-4a98-be4d-c23606a4307b",
   "metadata": {},
   "source": [
    "# Assignment 20"
   ]
  },
  {
   "cell_type": "markdown",
   "id": "bc16b969-a2c1-4a31-b69c-230f10efeee6",
   "metadata": {},
   "source": [
    "#### Question-1 Given a binary tree, your task is to find subtree with maximum sum in tree.\n"
   ]
  },
  {
   "cell_type": "code",
   "execution_count": 4,
   "id": "cb29459b-a9f1-48fd-9c57-97b1985dfa5d",
   "metadata": {},
   "outputs": [
    {
     "name": "stdout",
     "output_type": "stream",
     "text": [
      "Output1:\n",
      "Subtree with maximum sum:\n",
      "Sum: 28\n",
      "\n",
      "Output2:\n",
      "Subtree with maximum sum:\n",
      "Sum: 7\n",
      "\n",
      "Output3:\n",
      "Subtree with maximum sum:\n",
      "Sum: 7\n"
     ]
    }
   ],
   "source": [
    "class TreeNode:\n",
    "    def __init__(self, val=0, left=None, right=None):\n",
    "        self.val = val\n",
    "        self.left = left\n",
    "        self.right = right\n",
    "\n",
    "def max_subtree_sum(root):\n",
    "    max_sum = float('-inf') \n",
    "    max_sum_node = None \n",
    "    \n",
    "    def calculate_sum(node):\n",
    "        nonlocal max_sum, max_sum_node\n",
    "        if not node:\n",
    "            return 0\n",
    "        \n",
    "        left_sum = calculate_sum(node.left)\n",
    "        right_sum = calculate_sum(node.right)\n",
    "        \n",
    "        current_sum = node.val + left_sum + right_sum\n",
    "        if current_sum > max_sum:\n",
    "            max_sum = current_sum\n",
    "            max_sum_node = node\n",
    "        \n",
    "        return current_sum\n",
    "    \n",
    "    calculate_sum(root)\n",
    "    return max_sum_node, max_sum\n",
    "\n",
    "\n",
    "root1 = TreeNode(1)\n",
    "root1.left = TreeNode(2)\n",
    "root1.right = TreeNode(3)\n",
    "root1.left.left = TreeNode(4)\n",
    "root1.left.right = TreeNode(5)\n",
    "root1.right.left = TreeNode(6)\n",
    "root1.right.right = TreeNode(7)\n",
    "\n",
    "node, sum_value = max_subtree_sum(root1)\n",
    "print(\"Output1:\")\n",
    "print(\"Subtree with maximum sum:\")\n",
    "print(\"Sum:\", sum_value)\n",
    "\n",
    "\n",
    "\n",
    "root2 = TreeNode(1)\n",
    "root2.left = TreeNode(-2)\n",
    "root2.right = TreeNode(3)\n",
    "root2.left.left = TreeNode(4)\n",
    "root2.left.right = TreeNode(5)\n",
    "root2.right.left = TreeNode(-6)\n",
    "root2.right.right = TreeNode(2)\n",
    "\n",
    "node, sum_value = max_subtree_sum(root2)\n",
    "print(\"\\nOutput2:\")\n",
    "print(\"Subtree with maximum sum:\")\n",
    "print(\"Sum:\", sum_value)\n",
    "\n",
    "\n",
    "root3 = TreeNode(-2)\n",
    "root3.left = TreeNode(4)\n",
    "root3.right = TreeNode(5)\n",
    "\n",
    "\n",
    "node, sum_value = max_subtree_sum(root3)\n",
    "print(\"\\nOutput3:\")\n",
    "print(\"Subtree with maximum sum:\")\n",
    "print(\"Sum:\", sum_value)\n",
    "\n"
   ]
  },
  {
   "cell_type": "markdown",
   "id": "92ebc62d-2195-446f-b5ad-9e927527bcfb",
   "metadata": {},
   "source": [
    "#### Question-2\n",
    "\n",
    "Construct the BST (Binary Search Tree) from its given level order traversal.\n",
    "\n",
    "Example:\n",
    "\n",
    "Input: arr[] = {7, 4, 12, 3, 6, 8, 1, 5, 10}\n",
    "\n",
    "Output: BST:\n"
   ]
  },
  {
   "cell_type": "code",
   "execution_count": 9,
   "id": "ca5e144b-e71d-4749-92f4-230ecd63c21e",
   "metadata": {},
   "outputs": [
    {
     "name": "stdout",
     "output_type": "stream",
     "text": [
      "[5, 3, 10, 4, 6, 7, 8, 12, 1]\n",
      "BST:\n",
      "   7\n",
      "  / \\\n",
      " 4   12\n",
      "/ \\  /\n",
      "3 6 8\n",
      "/   /\n",
      "1  5\n",
      "  \\\n",
      "  10\n"
     ]
    }
   ],
   "source": [
    "class TreeNode:\n",
    "    def __init__(self, val=0, left=None, right=None):\n",
    "        self.val = val\n",
    "        self.left = left\n",
    "        self.right = right\n",
    "\n",
    "def construct_bst(level_order):\n",
    "    if not level_order:\n",
    "        return None\n",
    "\n",
    "    root = TreeNode(level_order[0])\n",
    "    queue = [root]\n",
    "    i = 1\n",
    "\n",
    "    while i < len(level_order):\n",
    "        node = queue.pop(0)\n",
    "\n",
    "        if i < len(level_order):\n",
    "            left_val = level_order[i]\n",
    "            if left_val is not None:\n",
    "                node.left = TreeNode(left_val)\n",
    "                queue.append(node.left)\n",
    "            i += 1\n",
    "\n",
    "        if i < len(level_order):\n",
    "            right_val = level_order[i]\n",
    "            if right_val is not None:\n",
    "                node.right = TreeNode(right_val)\n",
    "                queue.append(node.right)\n",
    "            i += 1\n",
    "\n",
    "    return root\n",
    "\n",
    "def inorder_traversal(root):\n",
    "    if not root:\n",
    "        return []\n",
    "\n",
    "    return inorder_traversal(root.left) + [root.val] + inorder_traversal(root.right)\n",
    "\n",
    "\n",
    "# Test case\n",
    "level_order = [7, 4, 12, 3, 6, 8, 1, 5, 10]\n",
    "root = construct_bst(level_order)\n",
    "inorder_result = inorder_traversal(root)\n",
    "print(inorder_result)\n",
    "print(\"BST:\")\n",
    "print(\"   7\")\n",
    "print(\"  / \\\\\")\n",
    "print(\" 4   12\")\n",
    "print(\"/ \\\\  /\")\n",
    "print(\"3 6 8\")\n",
    "print(\"/   /\")\n",
    "print(\"1  5\")\n",
    "print(\"  \\\\\")\n",
    "print(\"  10\")\n"
   ]
  },
  {
   "cell_type": "markdown",
   "id": "cd3b16be-835b-4e01-bc97-0fad1f682ace",
   "metadata": {},
   "source": [
    "#### Question-3 Given an array of size n. The problem is to check whether the given array can represent the level order traversal of a Binary Search Tree or not.\n",
    "\n",
    "Examples:\n",
    "\n",
    "Input1 : arr[] = {7, 4, 12, 3, 6, 8, 1, 5, 10}\n",
    "\n",
    "Output1 : Yes\n",
    "\n",
    "For the given arr[], the Binary Search Tree is:\n",
    "   \n",
    "Input2 : arr[] = {11, 6, 13, 5, 12, 10}\n",
    "\n",
    "Output2 : No\n",
    "\n",
    "The given arr[] does not represent the level order traversal of a BST.\n"
   ]
  },
  {
   "cell_type": "code",
   "execution_count": 12,
   "id": "0e15a57c-9b7a-4f8b-ab99-6ae6a4227b62",
   "metadata": {},
   "outputs": [
    {
     "name": "stdout",
     "output_type": "stream",
     "text": [
      "Output1: No\n",
      "Output2: Yes\n"
     ]
    }
   ],
   "source": [
    "def is_bst_level_order(arr):\n",
    "    if not arr:\n",
    "        return False\n",
    "\n",
    "    n = len(arr)\n",
    "    for i in range(n // 2):\n",
    "        left_child_idx = 2 * i + 1\n",
    "        right_child_idx = 2 * i + 2\n",
    "\n",
    "        if left_child_idx < n and arr[left_child_idx] > arr[i]:\n",
    "            return False\n",
    "\n",
    "        if right_child_idx < n and arr[right_child_idx] < arr[i]:\n",
    "            return False\n",
    "\n",
    "    return True\n",
    "\n",
    "# Test cases\n",
    "arr1 = [7, 4, 12, 3, 6, 8, 1, 5, 10]\n",
    "arr2 = [11, 6, 13, 5, 12, 10]\n",
    "\n",
    "print(\"Output1:\", \"Yes\" if is_bst_level_order(arr1) else \"No\")\n",
    "print(\"Output2:\", \"Yes\" if is_bst_level_order(arr2) else \"No\")\n"
   ]
  },
  {
   "cell_type": "code",
   "execution_count": null,
   "id": "b03dec58-71a9-4fd3-8855-61cdff7b2f51",
   "metadata": {},
   "outputs": [],
   "source": []
  }
 ],
 "metadata": {
  "kernelspec": {
   "display_name": "Python 3 (ipykernel)",
   "language": "python",
   "name": "python3"
  },
  "language_info": {
   "codemirror_mode": {
    "name": "ipython",
    "version": 3
   },
   "file_extension": ".py",
   "mimetype": "text/x-python",
   "name": "python",
   "nbconvert_exporter": "python",
   "pygments_lexer": "ipython3",
   "version": "3.10.6"
  }
 },
 "nbformat": 4,
 "nbformat_minor": 5
}
