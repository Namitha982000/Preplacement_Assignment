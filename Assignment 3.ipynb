{
 "cells": [
  {
   "cell_type": "markdown",
   "id": "6d91edf0-71a9-41ba-ba0a-8650e684555a",
   "metadata": {},
   "source": [
    "# Assignment 3"
   ]
  },
  {
   "cell_type": "markdown",
   "id": "e1ff87dd-d0f2-437c-8e05-b47826abcf2c",
   "metadata": {},
   "source": [
    "#### Question 1Given an integer array nums of length n and an integer target, find three integers in nums such that the sum is closest to the target.\n",
    "\n",
    "Return the sum of the three integers.\n",
    "\n",
    "You may assume that each input would have exactly one solution.\n",
    "\n",
    "Example 1:\n",
    "\n",
    "Input: nums = [-1,2,1,-4], target = 1\n",
    "\n",
    "Output: 2\n",
    "\n",
    "Explanation: The sum that is closest to the target is 2. (-1 + 2 + 1 = 2).\n"
   ]
  },
  {
   "cell_type": "code",
   "execution_count": 3,
   "id": "1b683f83-8af4-47a9-8454-32646fce3add",
   "metadata": {},
   "outputs": [
    {
     "name": "stdout",
     "output_type": "stream",
     "text": [
      "2\n"
     ]
    }
   ],
   "source": [
    "def threeSumClosest(nums, target):\n",
    "\n",
    "    nums.sort()\n",
    "\n",
    "    n = len(nums)\n",
    "\n",
    "    close_sum = float('inf')\n",
    "\n",
    "    for i in range(n-2):\n",
    "\n",
    "        l = i + 1\n",
    "\n",
    "        r = n - 1\n",
    "\n",
    "        while l < r:\n",
    "\n",
    "            curr_sum = nums[i] + nums[l] + nums[r]\n",
    "\n",
    "            if abs(curr_sum - target) < abs(close_sum - target):\n",
    "\n",
    "                close_sum = curr_sum\n",
    "\n",
    "            if curr_sum > target:\n",
    "\n",
    "                r -= 1\n",
    "\n",
    "            elif curr_sum < target:\n",
    "\n",
    "                l += 1\n",
    "\n",
    "            else:\n",
    "\n",
    "                return target\n",
    "\n",
    "    return close_sum\n",
    "\n",
    "\n",
    "nums = [-1, 2, 1, -4]\n",
    "\n",
    "target = 2\n",
    "\n",
    "res = threeSumClosest(nums, target)\n",
    "\n",
    "print(res)\n"
   ]
  },
  {
   "cell_type": "markdown",
   "id": "abaaf7a7-b949-488c-92af-f6264d0311cb",
   "metadata": {},
   "source": [
    "#### Question 2 Given an array nums of n integers, return an array of all the unique quadruplets\n",
    "\n",
    "[nums[a], nums[b], nums[c], nums[d]] such that:\n",
    "\n",
    "           ● 0 <= a, b, c, d < n\n",
    "           \n",
    "           ● a, b, c, and d are distinct.\n",
    "           \n",
    "           ● nums[a] + nums[b] + nums[c] + nums[d] == target\n",
    "\n",
    "You may return the answer in any order.\n",
    "\n",
    "Example 1:\n",
    "\n",
    "Input: nums = [1,0,-1,0,-2,2], target = 0\n",
    "\n",
    "Output: [[-2,-1,1,2],[-2,0,0,2],[-1,0,0,1]]\n"
   ]
  },
  {
   "cell_type": "code",
   "execution_count": 4,
   "id": "369657a7-bb3c-4924-9402-ffbbc6b488ce",
   "metadata": {},
   "outputs": [
    {
     "name": "stdout",
     "output_type": "stream",
     "text": [
      "[[-2, -1, 1, 2], [-2, 0, 0, 2], [-1, 0, 0, 1]]\n"
     ]
    }
   ],
   "source": [
    "def Sum_four(nums, target):\n",
    "\n",
    "    nums.sort()\n",
    "\n",
    "    n = len(nums)\n",
    "\n",
    "    result = []\n",
    "\n",
    "    for i in range(n-3):\n",
    "\n",
    "        if i > 0 and nums[i] == nums[i-1]:\n",
    "\n",
    "            continue\n",
    "\n",
    "        for j in range(i+1, n-2):\n",
    "\n",
    "            if j > i+1 and nums[j] == nums[j-1]:\n",
    "\n",
    "                continue\n",
    "\n",
    "            l = j + 1\n",
    "\n",
    "            r = n - 1\n",
    "\n",
    "            while l < r:\n",
    "\n",
    "                curr_sum = nums[i] + nums[j] + nums[l] + nums[r]\n",
    "\n",
    "                if curr_sum == target:\n",
    "\n",
    "                    result.append([nums[i], nums[j], nums[l], nums[r]])\n",
    "\n",
    "                    while l < r and nums[l] == nums[l+1]:\n",
    "\n",
    "                        l += 1\n",
    "\n",
    "                    while l < r and nums[r] == nums[r-1]:\n",
    "\n",
    "                        r -= 1\n",
    "\n",
    "                    l += 1\n",
    "\n",
    "                    r -= 1\n",
    "\n",
    "                elif curr_sum < target:\n",
    "\n",
    "                    l += 1\n",
    "\n",
    "                else:\n",
    "\n",
    "                    r -= 1\n",
    "\n",
    "    return result\n",
    "\n",
    "\n",
    "nums = [1, 0, -1, 0, -2, 2]\n",
    "\n",
    "target = 0\n",
    "\n",
    "res = Sum_four(nums, target)\n",
    "\n",
    "print(res)\n"
   ]
  },
  {
   "cell_type": "markdown",
   "id": "2d334341-0d6b-48bf-bee4-48e064144e24",
   "metadata": {},
   "source": [
    "#### Question 3 A permutation of an array of integers is an arrangement of its members into a sequence or linear order.\n",
    "\n",
    "For example, for arr = [1,2,3], the following are all the permutations of arr:\n",
    "\n",
    "[1,2,3], [1,3,2], [2, 1, 3], [2, 3, 1], [3,1,2], [3,2,1].\n",
    "\n",
    "The next permutation of an array of integers is the next lexicographically greater\n",
    "permutation of its integer. More formally, if all the permutations of the array are\n",
    "sorted in one container according to their lexicographical order, then the next\n",
    "permutation of that array is the permutation that follows it in the sorted container.\n",
    "\n",
    "If such an arrangement is not possible, the array must be rearranged as the\n",
    "lowest possible order (i.e., sorted in ascending order).\n",
    "\n",
    "● For example, the next permutation of arr = [1,2,3] is [1,3,2].\n",
    "\n",
    "● Similarly, the next permutation of arr = [2,3,1] is [3,1,2].\n",
    "\n",
    "● While the next permutation of arr = [3,2,1] is [1,2,3] because [3,2,1] does not\n",
    "have a lexicographical larger rearrangement.\n",
    "\n",
    "Given an array of integers nums, find the next permutation of nums.\n",
    "\n",
    "The replacement must be in place and use only constant extra memory.\n",
    "\n",
    "Example 1:\n",
    "\n",
    "Input: nums = [1,2,3]\n",
    "\n",
    "Output: [1,3,2]\n"
   ]
  },
  {
   "cell_type": "code",
   "execution_count": 5,
   "id": "3f8f1cb8-d446-430e-b809-1cf9edc17de7",
   "metadata": {},
   "outputs": [
    {
     "name": "stdout",
     "output_type": "stream",
     "text": [
      "[1, 3, 2]\n"
     ]
    }
   ],
   "source": [
    "def permutation(nums):\n",
    "\n",
    "    n = len(nums)\n",
    "\n",
    "    i = n - 2\n",
    "\n",
    "    while i >= 0 and nums[i] >= nums[i + 1]:\n",
    "\n",
    "        i -= 1\n",
    "\n",
    "    if i >= 0:\n",
    "\n",
    "        j = n - 1\n",
    "\n",
    "        while j > i and nums[j] <= nums[i]:\n",
    "\n",
    "            j -= 1\n",
    "\n",
    "        nums[i], nums[j] = nums[j], nums[i]\n",
    "\n",
    "    l = i + 1\n",
    "\n",
    "    r = n - 1\n",
    "\n",
    "    while l < r:\n",
    "\n",
    "        nums[l], nums[r] = nums[r], nums[l]\n",
    "\n",
    "        l += 1\n",
    "\n",
    "        r -= 1\n",
    "\n",
    "    return nums\n",
    "\n",
    "\n",
    "nums = [1, 2, 3]\n",
    "\n",
    "res = permutation(nums)\n",
    "\n",
    "print(res)\n"
   ]
  },
  {
   "cell_type": "markdown",
   "id": "2c7a3146-41d5-4ebc-82be-a096164459ca",
   "metadata": {},
   "source": [
    "#### Question 4 Given a sorted array of distinct integers and a target value, return the index if the target is found. If not, return the index where it would be if it were inserted in order.\n",
    "\n",
    "You must write an algorithm with O(log n) runtime complexity.\n",
    "\n",
    "Example 1:\n",
    "\n",
    "Input: nums = [1,3,5,6], target = 5\n",
    "\n",
    "Output: 2\n"
   ]
  },
  {
   "cell_type": "code",
   "execution_count": 6,
   "id": "bd2e2907-e759-49fd-a8de-e6bdfb82783d",
   "metadata": {},
   "outputs": [
    {
     "name": "stdout",
     "output_type": "stream",
     "text": [
      "2\n"
     ]
    }
   ],
   "source": [
    "def search(nums, target):\n",
    "\n",
    "    l = 0\n",
    "\n",
    "    r = len(nums) - 1\n",
    "\n",
    "    while l <= r:\n",
    "\n",
    "        m = (l + r) // 2\n",
    "\n",
    "        if nums[m] == target:\n",
    "\n",
    "            return m\n",
    "\n",
    "        elif nums[m] < target:\n",
    "\n",
    "            l = m + 1\n",
    "\n",
    "        else:\n",
    "\n",
    "            r = m - 1\n",
    "\n",
    "    return l\n",
    "\n",
    "\n",
    "nums = [1, 3, 5, 6]\n",
    "\n",
    "target = 5\n",
    "\n",
    "res = search(nums, target)\n",
    "\n",
    "print(res)\n"
   ]
  },
  {
   "cell_type": "markdown",
   "id": "502048c9-df55-47d9-8ebf-64f5c946b67e",
   "metadata": {},
   "source": [
    "#### Question 5 You are given a large integer represented as an integer array digits, where each digits[i] is the ith digit of the integer. The digits are ordered from most significant to least significant in left-to-right order. The large integer does not contain any leading 0's.\n",
    "\n",
    "Increment the large integer by one and return the resulting array of digits.\n",
    "\n",
    "Example 1:\n",
    "\n",
    "Input: digits = [1,2,3]\n",
    "\n",
    "Output: [1,2,4]\n",
    "\n",
    "Explanation: The array represents the integer 123.\n",
    "\n",
    "Incrementing by one gives 123 + 1 = 124.\n",
    "\n",
    "Thus, the result should be [1,2,4].\n"
   ]
  },
  {
   "cell_type": "code",
   "execution_count": 7,
   "id": "b9736de5-e015-4802-8c47-b8f2ca60ed06",
   "metadata": {},
   "outputs": [
    {
     "name": "stdout",
     "output_type": "stream",
     "text": [
      "[1, 2, 4]\n"
     ]
    }
   ],
   "source": [
    "def addOne(digits):\n",
    "\n",
    "    n = len(digits)\n",
    "\n",
    "    c = 1\n",
    "\n",
    "    for i in range(n - 1, -1, -1):\n",
    "\n",
    "        digits[i] += c\n",
    "\n",
    "        if digits[i] > 9:\n",
    "\n",
    "            digits[i] = 0\n",
    "\n",
    "            c = 1\n",
    "\n",
    "        else:\n",
    "\n",
    "            c = 0\n",
    "\n",
    "            break\n",
    "\n",
    "    if c == 1:\n",
    "\n",
    "        digits.insert(0, 1)\n",
    "\n",
    "    return digits\n",
    "\n",
    "\n",
    "digits = [1, 2, 3]\n",
    "\n",
    "res = addOne(digits)\n",
    "\n",
    "print(res)\n"
   ]
  },
  {
   "cell_type": "markdown",
   "id": "37de0c57-a291-4070-a4b9-1a6abe4e1b76",
   "metadata": {},
   "source": [
    "#### Question 6 Given a non-empty array of integers nums, every element appears twice except for one. Find that single one.\n",
    "\n",
    "You must implement a solution with a linear runtime complexity and use only\n",
    "constant extra space.\n",
    "\n",
    "Example 1:\n",
    "\n",
    "Input: nums = [2,2,1]\n",
    "\n",
    "Output: 1\n"
   ]
  },
  {
   "cell_type": "code",
   "execution_count": 8,
   "id": "8035cf5c-611f-4031-9812-d82068508852",
   "metadata": {},
   "outputs": [
    {
     "name": "stdout",
     "output_type": "stream",
     "text": [
      "1\n"
     ]
    }
   ],
   "source": [
    "def singlenum(nums):\n",
    "\n",
    "    result = 0\n",
    "\n",
    "    for num in nums:\n",
    "\n",
    "        result ^= num\n",
    "\n",
    "    return result\n",
    "\n",
    "nums = [2, 2, 1]\n",
    "\n",
    "res = singlenum(nums)\n",
    "\n",
    "print(res)\n"
   ]
  },
  {
   "cell_type": "markdown",
   "id": "b7f53d77-e042-4b25-a5cc-c6ed448fb5da",
   "metadata": {},
   "source": [
    "#### Question 7 You are given an inclusive range [lower, upper] and a sorted unique integer array nums, where all elements are within the inclusive range.\n",
    "\n",
    "A number x is considered missing if x is in the range [lower, upper] and x is not in nums.\n",
    "\n",
    "Return the shortest sorted list of ranges that exactly covers all the missing\n",
    "numbers. That is, no element of nums is included in any of the ranges, and each\n",
    "missing number is covered by one of the ranges.\n",
    "\n",
    "Example 1:\n",
    "\n",
    "Input: nums = [0,1,3,50,75], lower = 0, upper = 99\n",
    "\n",
    "Output: [[2,2],[4,49],[51,74],[76,99]]\n",
    "\n",
    "Explanation: The ranges are:\n",
    "\n",
    "[2,2]\n",
    "\n",
    "[4,49]\n",
    "\n",
    "[51,74]\n",
    "\n",
    "[76,99]"
   ]
  },
  {
   "cell_type": "code",
   "execution_count": 9,
   "id": "3727e55a-2e2d-4a16-99b9-18398e8e64ad",
   "metadata": {},
   "outputs": [
    {
     "name": "stdout",
     "output_type": "stream",
     "text": [
      "[[2, 2], [4, 49], [51, 74], [76, 99]]\n"
     ]
    }
   ],
   "source": [
    "def missingNums(nums, lower, upper):\n",
    "\n",
    "    result = []\n",
    "\n",
    "    start = lower\n",
    "\n",
    "    for num in nums:\n",
    "\n",
    "        if num > start:\n",
    "\n",
    "            result.append(Range(start, num - 1))\n",
    "\n",
    "        start = num + 1\n",
    "\n",
    "    if start <= upper:\n",
    "\n",
    "        result.append(Range(start, upper))\n",
    "\n",
    "    return result\n",
    "\n",
    "\n",
    "def Range(start, end):\n",
    "\n",
    "    if start == end:\n",
    "\n",
    "        return [start, start]\n",
    "\n",
    "    else:\n",
    "\n",
    "        return [start, end]\n",
    "\n",
    "\n",
    "nums = [0, 1, 3, 50, 75]\n",
    "\n",
    "lower = 0\n",
    "\n",
    "upper = 99\n",
    "\n",
    "res = missingNums(nums, lower, upper)\n",
    "\n",
    "print(res)\n"
   ]
  },
  {
   "cell_type": "markdown",
   "id": "11880c16-8a83-4b09-8c55-d1948a48f4f8",
   "metadata": {},
   "source": [
    "#### Question 8 Given an array of meeting time intervals where intervals[i] = [starti, endi], determine if a person could attend all meetings.\n",
    "\n",
    "Example 1:\n",
    "\n",
    "Input: intervals = [[0,30],[5,10],[15,20]]\n",
    "\n",
    "Output: false\n"
   ]
  },
  {
   "cell_type": "code",
   "execution_count": 10,
   "id": "40a2b34b-c0de-45bd-a103-2d431785916d",
   "metadata": {},
   "outputs": [
    {
     "name": "stdout",
     "output_type": "stream",
     "text": [
      "False\n"
     ]
    }
   ],
   "source": [
    "def meetings(intervals):\n",
    "\n",
    "    intervals.sort(key=lambda x: x[0])\n",
    "\n",
    "    n = len(intervals)\n",
    "\n",
    "    for i in range(1, n):\n",
    "\n",
    "        if intervals[i][0] < intervals[i - 1][1]:\n",
    "\n",
    "            return False\n",
    "\n",
    "    return True\n",
    "\n",
    "\n",
    "intervals = [[0, 30], [5, 10], [15, 20]]\n",
    "\n",
    "res = meetings(intervals)\n",
    "\n",
    "print(res)\n"
   ]
  },
  {
   "cell_type": "code",
   "execution_count": null,
   "id": "5fbcf7a5-6cac-4358-9762-1af23f9f4bbb",
   "metadata": {},
   "outputs": [],
   "source": []
  }
 ],
 "metadata": {
  "kernelspec": {
   "display_name": "Python 3 (ipykernel)",
   "language": "python",
   "name": "python3"
  },
  "language_info": {
   "codemirror_mode": {
    "name": "ipython",
    "version": 3
   },
   "file_extension": ".py",
   "mimetype": "text/x-python",
   "name": "python",
   "nbconvert_exporter": "python",
   "pygments_lexer": "ipython3",
   "version": "3.10.6"
  }
 },
 "nbformat": 4,
 "nbformat_minor": 5
}
