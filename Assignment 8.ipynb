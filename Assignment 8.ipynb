{
 "cells": [
  {
   "cell_type": "markdown",
   "id": "bb0a1831-e249-4b16-ac40-4951ea5670de",
   "metadata": {},
   "source": [
    "# Assignment 8"
   ]
  },
  {
   "cell_type": "markdown",
   "id": "a89ceb0d-f895-467b-ae9e-fca25750d721",
   "metadata": {},
   "source": [
    "#### Question 1 Given two strings s1 and s2, return the lowest ASCII sum of deleted characters to make two strings equal.\n",
    "\n",
    "Example 1:\n",
    "\n",
    "Input: s1 = \"sea\", s2 = \"eat\"\n",
    "\n",
    "Output: 231\n",
    "\n",
    "Explanation: Deleting \"s\" from \"sea\" adds the ASCII value of \"s\" (115) to the sum.\n",
    "\n",
    "Deleting \"t\" from \"eat\" adds 116 to the sum.\n",
    "\n",
    "At the end, both strings are equal, and 115 + 116 = 231 is the minimum sum possible to achieve this.\n"
   ]
  },
  {
   "cell_type": "code",
   "execution_count": 1,
   "id": "e6bafff1-4eb5-4fc9-8334-fec7ddc5c653",
   "metadata": {},
   "outputs": [
    {
     "name": "stdout",
     "output_type": "stream",
     "text": [
      "231\n"
     ]
    }
   ],
   "source": [
    "def min_delete_sum(s1, s2):\n",
    "    m, n = len(s1), len(s2)\n",
    "    \n",
    "    # Create a 2D table to store the minimum ASCII sum of deleted characters\n",
    "    dp = [[0] * (n+1) for _ in range(m+1)]\n",
    "    \n",
    "    # Fill in the table starting from the last characters of s1 and s2\n",
    "    for i in range(m-1, -1, -1):\n",
    "        dp[i][n] = dp[i+1][n] + ord(s1[i])\n",
    "    for j in range(n-1, -1, -1):\n",
    "        dp[m][j] = dp[m][j+1] + ord(s2[j])\n",
    "    \n",
    "    # Fill in the rest of the table\n",
    "    for i in range(m-1, -1, -1):\n",
    "        for j in range(n-1, -1, -1):\n",
    "            if s1[i] == s2[j]:\n",
    "                dp[i][j] = dp[i+1][j+1]\n",
    "            else:\n",
    "                dp[i][j] = min(dp[i+1][j] + ord(s1[i]), dp[i][j+1] + ord(s2[j]))\n",
    "    \n",
    "    return dp[0][0]  # Return the minimum ASCII sum for the whole strings\n",
    "\n",
    "s1 = \"sea\"\n",
    "s2 = \"eat\"\n",
    "print(min_delete_sum(s1, s2))"
   ]
  },
  {
   "cell_type": "markdown",
   "id": "c469865d-0dda-4e9b-b9f1-eb65e53af7b9",
   "metadata": {},
   "source": [
    "#### Question 2 Given a string s containing only three types of characters: '(', ')' and '*', return true if s is valid.\n",
    "\n",
    "The following rules define a valid string:\n",
    "\n",
    "Any left parenthesis '(' must have a corresponding right parenthesis ')'.\n",
    "\n",
    "Any right parenthesis ')' must have a corresponding left parenthesis '('.\n",
    "\n",
    "Left parenthesis '(' must go before the corresponding right parenthesis ')'.\n",
    "\n",
    "'*' could be treated as a single right parenthesis ')' or a single left parenthesis '(' or an empty string \"\".\n",
    "\n",
    "Example 1:\n",
    "\n",
    "Input: s = \"()\"\n",
    "\n",
    "Output:\n",
    "\n",
    "True\n"
   ]
  },
  {
   "cell_type": "code",
   "execution_count": 2,
   "id": "aa300231-51d7-445d-9cb0-17454b0de755",
   "metadata": {},
   "outputs": [
    {
     "name": "stdout",
     "output_type": "stream",
     "text": [
      "True\n"
     ]
    }
   ],
   "source": [
    "def check_valid_string(s):\n",
    "    stk = []\n",
    "    s_stk = []\n",
    "    \n",
    "    for i, char in enumerate(s):\n",
    "        if char == '(':\n",
    "            stk.append(i)\n",
    "        elif char == '*':\n",
    "            s_stk.append(i)\n",
    "        else:  # char == ')'\n",
    "            if stk:\n",
    "                stk.pop()\n",
    "            elif s_stk:\n",
    "                s_stk.pop()\n",
    "            else:\n",
    "                return False\n",
    "    \n",
    "    while stk and s_stk:\n",
    "        if stk[-1] > s_stk[-1]:\n",
    "            return False\n",
    "        stk.pop()\n",
    "        s_stk.pop()\n",
    "    \n",
    "    return len(stk) == 0\n",
    "\n",
    "s = \"()\"\n",
    "print(check_valid_string(s))\n"
   ]
  },
  {
   "cell_type": "markdown",
   "id": "2519c71c-92d6-4020-a9ec-33672623ca23",
   "metadata": {},
   "source": [
    "#### Question 3 Given two strings word1 and word2, return the minimum number of steps required to make word1 and word2 the same. In one step, you can delete exactly one character in either string.\n",
    "\n",
    "Example 1:\n",
    "\n",
    "Input: word1 = \"sea\", word2 = \"eat\"\n",
    "\n",
    "Output: 2\n",
    "\n",
    "Explanation: You need one step to make \"sea\" to \"ea\" and another step to make \"eat\" to \"ea\".\n"
   ]
  },
  {
   "cell_type": "code",
   "execution_count": 3,
   "id": "dc88917f-83fb-4ab5-9847-a235a291a936",
   "metadata": {},
   "outputs": [
    {
     "name": "stdout",
     "output_type": "stream",
     "text": [
      "2\n"
     ]
    }
   ],
   "source": [
    "def min_dist(word1, word2):\n",
    "    m, n = len(word1), len(word2)\n",
    "    \n",
    "    dp = [[0] * (n+1) for _ in range(m+1)]\n",
    "    \n",
    "    for i in range(m+1):\n",
    "        dp[i][0] = i\n",
    "    for j in range(n+1):\n",
    "        dp[0][j] = j\n",
    "    \n",
    "    for i in range(1, m+1):\n",
    "        for j in range(1, n+1):\n",
    "            if word1[i-1] == word2[j-1]:\n",
    "                dp[i][j] = dp[i-1][j-1]\n",
    "            else:\n",
    "                dp[i][j] = 1 + min(dp[i-1][j], dp[i][j-1])\n",
    "    \n",
    "    return dp[m][n]\n",
    "\n",
    "word1 = \"sea\"\n",
    "word2 = \"eat\"\n",
    "print(min_dist(word1, word2)) "
   ]
  },
  {
   "cell_type": "markdown",
   "id": "0f55a5b4-fc76-465a-aa96-51ee11d06599",
   "metadata": {},
   "source": [
    "####  Question 4 You need to construct a binary tree from a string consisting of parenthesis and integers. The whole input represents a binary tree. It contains an integer followed by zero, one or two pairs of parenthesis. The integer represents the root's value and a pair of parenthesis contains a child binary tree with the same structure. You always start to construct the left child node of the parent first if it exists.\n",
    "\n",
    "Input: s = \"4(2(3)(1))(6(5))\"\n",
    "\n",
    "Output: [4,2,6,3,1,5]\n"
   ]
  },
  {
   "cell_type": "code",
   "execution_count": 14,
   "id": "787f6928-fca7-48a8-ab52-c602e64e4ecb",
   "metadata": {},
   "outputs": [
    {
     "name": "stdout",
     "output_type": "stream",
     "text": [
      "[3, 2, 1, 4, 5, 6]\n"
     ]
    }
   ],
   "source": [
    "class TreeNode:\n",
    "    def __init__(self, val=0, left=None, right=None):\n",
    "        self.val = val\n",
    "        self.left = left\n",
    "        self.right = right\n",
    "\n",
    "\n",
    "def constructBinaryTree(s):\n",
    "    def buildTree(s, index):\n",
    "        if index >= len(s) or s[index] == ')':\n",
    "            return None\n",
    "\n",
    "        root_val = ''\n",
    "        while index < len(s) and s[index] != '(' and s[index] != ')':\n",
    "            root_val += s[index]\n",
    "            index += 1\n",
    "\n",
    "        root = TreeNode(int(root_val))\n",
    "\n",
    "        if index < len(s) and s[index] == '(':\n",
    "            index += 1\n",
    "            root.left, index = buildTree(s, index)\n",
    "        if index < len(s) and s[index] == '(':\n",
    "            index += 1\n",
    "            root.right, index = buildTree(s, index)\n",
    "\n",
    "        if index < len(s) and s[index] == ')':\n",
    "            index += 1\n",
    "\n",
    "        return root, index\n",
    "\n",
    "    if not s:\n",
    "        return None\n",
    "\n",
    "    root, _ = buildTree(s, 0)\n",
    "    return root\n",
    "\n",
    "\n",
    "def inorderTraversal(root):\n",
    "    if root is None:\n",
    "        return []\n",
    "\n",
    "    result = []\n",
    "    stack = []\n",
    "\n",
    "    while root or stack:\n",
    "        while root:\n",
    "            stack.append(root)\n",
    "            root = root.left\n",
    "\n",
    "        root = stack.pop()\n",
    "        result.append(root.val)\n",
    "        root = root.right\n",
    "\n",
    "    return result\n",
    "\n",
    "s = \"4(2(3)(1))(6(5))\"\n",
    "root = constructBinaryTree(s)\n",
    "inorder = inorderTraversal(root)\n",
    "print(inorder)"
   ]
  },
  {
   "cell_type": "markdown",
   "id": "fece5deb-537a-47df-a3cf-ce7bf4148adc",
   "metadata": {},
   "source": [
    "#### Question 5 Given an array of characters chars, compress it using the following algorithm: Begin with an empty string s. For each group of consecutive repeating characters in chars: If the group's length is 1, append the character to s. Otherwise, append the character followed by the group's length. The compressed string s should not be returned separately, but instead, be stored in the input character array chars. Note that group lengths that are 10 or longer will be split into multiple characters in chars. After you are done modifying the input array, return the new length of the array. You must write an algorithm that uses only constant extra space.\n",
    "\n",
    "Example 1:\n",
    "\n",
    "Input: chars = [\"a\",\"a\",\"b\",\"b\",\"c\",\"c\",\"c\"]\n",
    "\n",
    "Output: Return 6, and the first 6 characters of the input array should be: [\"a\",\"2\",\"b\",\"2\",\"c\",\"3\"]\n",
    "\n",
    "Explanation:\n",
    "\n",
    "The groups are \"aa\", \"bb\", and \"ccc\". This compresses to \"a2b2c3\".\n"
   ]
  },
  {
   "cell_type": "code",
   "execution_count": 6,
   "id": "412f309e-b00c-47f8-b5e5-01d3bc050f0f",
   "metadata": {},
   "outputs": [
    {
     "name": "stdout",
     "output_type": "stream",
     "text": [
      "6\n",
      "['a', '2', 'b', '2', 'c', '3']\n"
     ]
    }
   ],
   "source": [
    "def compress(chars):\n",
    "    r_ptr = 0\n",
    "    w_ptr = 0\n",
    "    cnt = 1 \n",
    "    \n",
    "    for i in range(1, len(chars) + 1):\n",
    "        if i < len(chars) and chars[i] == chars[i - 1]:\n",
    "            cnt += 1\n",
    "        else:\n",
    "            chars[w_ptr] = chars[r_ptr]\n",
    "            w_ptr += 1\n",
    "            if cnt > 1:\n",
    "                cnt_str = str(cnt)\n",
    "                for j in range(len(cnt_str)):\n",
    "                    chars[w_ptr] = cnt_str[j]\n",
    "                    w_ptr += 1\n",
    "            cnt = 1\n",
    "            r_ptr = i\n",
    "    \n",
    "    return w_ptr\n",
    "\n",
    "chars = [\"a\",\"a\",\"b\",\"b\",\"c\",\"c\",\"c\"]\n",
    "length = compress(chars)\n",
    "print(length)\n",
    "print(chars[:length])"
   ]
  },
  {
   "cell_type": "markdown",
   "id": "fcdf1c6e-2bd0-45ec-a81f-1eddb2c84f64",
   "metadata": {},
   "source": [
    "#### Question 6 Given two strings s and p, return an array of all the start indices of p*'s anagrams in* s. You may return the answer in any order.An Anagram is a word or phrase formed by rearranging the letters of a different word or phrase, typically using all the original letters exactly once.\n",
    "\n",
    "Example 1:\n",
    "\n",
    "Input: s = \"cbaebabacd\", p = \"abc\"\n",
    "\n",
    "Output: [0,6]\n",
    "\n",
    "Explanation:\n",
    "\n",
    "The substring with start index = 0 is \"cba\", which is an anagram of \"abc\".\n",
    "\n",
    "The substring with start index = 6 is \"bac\", which is an anagram of \"abc\".\n"
   ]
  },
  {
   "cell_type": "code",
   "execution_count": 8,
   "id": "667f9a09-7c7d-48e7-bc8a-28adf3bfaae4",
   "metadata": {},
   "outputs": [
    {
     "name": "stdout",
     "output_type": "stream",
     "text": [
      "[0, 6]\n"
     ]
    }
   ],
   "source": [
    "from collections import Counter\n",
    "\n",
    "def find_anagrams(s, p):\n",
    "    res = []\n",
    "    p_freq = Counter(p) \n",
    "    s_freq = Counter(s[:len(p)])\n",
    "    \n",
    "    if s_freq == p_freq:\n",
    "        res.append(0)\n",
    "    \n",
    "    for i in range(1, len(s) - len(p) + 1):\n",
    "        if s_freq[s[i-1]] == 1:\n",
    "            del s_freq[s[i-1]]\n",
    "        else:\n",
    "            s_freq[s[i-1]] -= 1\n",
    "        \n",
    "        if s[i + len(p) - 1] in s_freq:\n",
    "            s_freq[s[i + len(p) - 1]] += 1\n",
    "        else:\n",
    "            s_freq[s[i + len(p) - 1]] = 1\n",
    "        \n",
    "        if s_freq == p_freq:\n",
    "            res.append(i)\n",
    "    \n",
    "    return res\n",
    "\n",
    "s = \"cbaebabacd\"\n",
    "p = \"abc\"\n",
    "print(find_anagrams(s, p))\n"
   ]
  },
  {
   "cell_type": "markdown",
   "id": "36d7396f-4124-4708-a58b-04c53a29cdd4",
   "metadata": {},
   "source": [
    "#### Question 7 Given an encoded string, return its decoded string. The encoding rule is: k[encoded_string], where the encoded_string inside the square brackets is being repeated exactly k times. Note that k is guaranteed to be a positive integer. You may assume that the input string is always valid; there are no extra white spaces, square brackets are well-formed, etc. Furthermore, you may assume that the original data does not contain any digits and that digits are only for those repeat numbers, k. For example, there will not be input like 3a or 2[4]. The test cases are generated so that the length of the output will never exceed 105.\n",
    "\n",
    "Example 1:\n",
    "\n",
    "Input: s = \"3[a]2[bc]\"\n",
    "\n",
    "Output: \"aaabcbc\"\n"
   ]
  },
  {
   "cell_type": "code",
   "execution_count": 9,
   "id": "1b739ea7-cdf3-4af8-a6c8-4006b3ebb55f",
   "metadata": {},
   "outputs": [
    {
     "name": "stdout",
     "output_type": "stream",
     "text": [
      "aaabcbc\n"
     ]
    }
   ],
   "source": [
    "def decode_str(s):\n",
    "    stk = []\n",
    "    curr_cnt = 0\n",
    "    curr_str = \"\"\n",
    "    \n",
    "    for char in s:\n",
    "        if char.isdigit():\n",
    "            curr_cnt = curr_cnt * 10 + int(char)\n",
    "        elif char == '[':\n",
    "            stk.append(curr_cnt) \n",
    "            stk.append(curr_str)\n",
    "            curr_cnt = 0\n",
    "            curr_str = \"\"\n",
    "        elif char == ']':\n",
    "            prev_str = stk.pop()\n",
    "            prev_cnt = stk.pop()\n",
    "            curr_str = prev_str + prev_cnt * curr_str\n",
    "        else:\n",
    "            curr_str += char\n",
    "    \n",
    "    return curr_str\n",
    "\n",
    "s = \"3[a]2[bc]\"\n",
    "print(decode_str(s))\n"
   ]
  },
  {
   "cell_type": "markdown",
   "id": "0dd47bd6-e461-4bc4-b208-fb9d5d96ab62",
   "metadata": {},
   "source": [
    "#### Question 8 Given two strings s and goal, return true if you can swap two letters in s so the result is equal to goal*, otherwise, return* false*.* Swapping letters is defined as taking two indices i and j (0-indexed) such that i != j and swapping the characters at s[i] and s[j]. For example, swapping at indices 0 and 2 in \"abcd\" results in \"cbad\".\n",
    "\n",
    "Example 1:\n",
    "\n",
    "Input: s = \"ab\", goal = \"ba\"\n",
    "\n",
    "Output: true\n",
    "\n",
    "Explanation: You can swap s[0] = 'a' and s[1] = 'b' to get \"ba\", which is equal to goal.\n"
   ]
  },
  {
   "cell_type": "code",
   "execution_count": 10,
   "id": "a7738b37-13c8-451b-9333-0ce213b67a35",
   "metadata": {},
   "outputs": [
    {
     "name": "stdout",
     "output_type": "stream",
     "text": [
      "True\n"
     ]
    }
   ],
   "source": [
    "def Strings(s, goal):\n",
    "    if len(s) != len(goal):\n",
    "        return False\n",
    "\n",
    "    if s == goal:\n",
    "        seen = set()\n",
    "        for char in s:\n",
    "            if char in seen:\n",
    "                return True\n",
    "            seen.add(char)\n",
    "        return False\n",
    "\n",
    "    diff_pos = []\n",
    "    for i in range(len(s)):\n",
    "        if s[i] != goal[i]:\n",
    "            diff_pos.append(i)\n",
    "\n",
    "    if len(diff_pos) != 2:\n",
    "        return False\n",
    "\n",
    "    return s[diff_pos[0]] == goal[diff_pos[1]] and s[diff_pos[1]] == goal[diff_pos[0]]\n",
    "\n",
    "s = \"ab\"\n",
    "goal = \"ba\"\n",
    "print(Strings(s, goal))\n"
   ]
  },
  {
   "cell_type": "code",
   "execution_count": null,
   "id": "efec52a3-d9b9-47a9-bae5-be2737b658be",
   "metadata": {},
   "outputs": [],
   "source": []
  }
 ],
 "metadata": {
  "kernelspec": {
   "display_name": "Python 3 (ipykernel)",
   "language": "python",
   "name": "python3"
  },
  "language_info": {
   "codemirror_mode": {
    "name": "ipython",
    "version": 3
   },
   "file_extension": ".py",
   "mimetype": "text/x-python",
   "name": "python",
   "nbconvert_exporter": "python",
   "pygments_lexer": "ipython3",
   "version": "3.10.6"
  }
 },
 "nbformat": 4,
 "nbformat_minor": 5
}
