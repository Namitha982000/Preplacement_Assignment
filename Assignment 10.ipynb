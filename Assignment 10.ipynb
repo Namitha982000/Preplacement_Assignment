{
 "cells": [
  {
   "cell_type": "markdown",
   "id": "33eae5a0-8ed2-49f4-af4c-ac4a03fb1128",
   "metadata": {},
   "source": [
    "# Assignment 10"
   ]
  },
  {
   "cell_type": "markdown",
   "id": "f6b22f1a-eb70-47f1-85dc-01629723008d",
   "metadata": {},
   "source": [
    "#### Question 1 Given an integer n, return true if it is a power of three. Otherwise, return false. An integer n is a power of three, if there exists an integer x such that n == 3x.\n",
    "\n",
    "Example 1:\n",
    "\n",
    "Input: n = 27\n",
    "\n",
    "Output: true\n",
    "\n",
    "Explanation: 27 = 33"
   ]
  },
  {
   "cell_type": "code",
   "execution_count": 1,
   "id": "044197ff-fda7-4a33-bd3d-8b546d3d7f5b",
   "metadata": {},
   "outputs": [
    {
     "name": "stdout",
     "output_type": "stream",
     "text": [
      "True\n",
      "False\n",
      "False\n"
     ]
    }
   ],
   "source": [
    "def Power_of_three(n):\n",
    "    if n <= 0:\n",
    "        return False\n",
    "\n",
    "    while n % 3 == 0:\n",
    "        n //= 3\n",
    "\n",
    "    return n == 1\n",
    "\n",
    "n = 27\n",
    "print(Power_of_three(n))\n",
    "\n",
    "n = 0\n",
    "print(Power_of_three(n))\n",
    "\n",
    "n = -1\n",
    "print(Power_of_three(n))"
   ]
  },
  {
   "cell_type": "markdown",
   "id": "57fa4726-14f0-4a74-97d9-d5bf971bae4f",
   "metadata": {},
   "source": [
    "#### Question 2 You have a list arr of all integers in the range [1, n] sorted in a strictly increasing order. Apply the following algorithm on arr: Starting from left to right, remove the first number and every other number afterward until you reach the end of the list. Repeat the previous step again, but this time from right to left, remove the rightmost number and every other number from the remaining numbers. Keep repeating the steps again, alternating left to right and right to left, until a single number remains. Given the integer n, return the last number that remains in arr.\n",
    "\n",
    "Example 1:\n",
    "\n",
    "Input: n = 9\n",
    "\n",
    "Output: 6\n",
    "\n",
    "Explanation:\n",
    "\n",
    "arr = [1, 2,3, 4,5, 6,7, 8,9]\n",
    "\n",
    "arr = [2,4, 6,8]\n",
    "\n",
    "arr = [2, 6]\n",
    "\n",
    "arr = [6]\n",
    "\n",
    "Example 2:\n",
    "\n",
    "Input: n = 1\n",
    "\n",
    "Output: 1\n"
   ]
  },
  {
   "cell_type": "code",
   "execution_count": 48,
   "id": "56a2971b-b9c3-43d1-ba8f-a9f992d87105",
   "metadata": {},
   "outputs": [
    {
     "name": "stdout",
     "output_type": "stream",
     "text": [
      "5\n",
      "6\n",
      "1\n"
     ]
    }
   ],
   "source": [
    "def remaining(n: int):\n",
    "    arr = list(range(1, n + 1))\n",
    "    a = len(arr)\n",
    "    c = 0\n",
    "    while a > 1:\n",
    "        if c % 2 == 0:\n",
    "            arr.pop(0)\n",
    "        else:\n",
    "            arr.pop()\n",
    "        c += 1\n",
    "        a -= 1\n",
    "    \n",
    "\n",
    "    return arr[0]\n",
    "\n",
    "print(remaining(9))\n",
    "print(remaining(10))\n",
    "print(remaining(1))"
   ]
  },
  {
   "cell_type": "markdown",
   "id": "38d1e633-3e2c-4f26-b5db-33254b4ee3e6",
   "metadata": {},
   "source": [
    "#### Question 3 Given a set represented as a string, write a recursive code to print all subsets of it. The subsets can be printed in any order.\n",
    "\n",
    "Example 1:\n",
    "\n",
    "Input :  set = “abc”\n",
    "\n",
    "Output : { “”, “a”, “b”, “c”, “ab”, “ac”, “bc”, “abc”}\n",
    "\n",
    "Example 2:\n",
    "\n",
    "Input : set = “abcd”\n",
    "\n",
    "Output : { “”, “a” ,”ab” ,”abc” ,”abcd”, “abd” ,”ac” ,”acd”, “ad” ,”b”, “bc” ,”bcd” ,”bd” ,”c” ,”cd” ,”d” }\n"
   ]
  },
  {
   "cell_type": "code",
   "execution_count": null,
   "id": "db829240-3b0b-43ee-9709-2b6b79605dcb",
   "metadata": {},
   "outputs": [],
   "source": [
    "def gen_subsets(set_str, curr_subset, index, sub):\n",
    "    if index == len(set_str):\n",
    "        sub.append(curr_subset)\n",
    "        return\n",
    "\n",
    "    gen_subsets(set_str, curr_subset, index + 1, sub)\n",
    "    gen_subsets(set_str, curr_subset + set_str[index], index + 1, sub)\n",
    "\n",
    "\n",
    "def get_subsets(set_str):\n",
    "    sub = []\n",
    "    gen_subsets(set_str, \"\", 0, sub)\n",
    "    return sub\n",
    "\n",
    "print(get_subsets(\"abc\"))  \n",
    "print(get_subsets(\"abcd\"))"
   ]
  },
  {
   "cell_type": "markdown",
   "id": "2209ae73-13b5-47b2-8917-d93074fa653f",
   "metadata": {},
   "source": [
    "#### Question 4 Given a string calculate length of the string using recursion.\n",
    "\n",
    "Examples:\n",
    "\n",
    "Input : str = \"abcd\"\n",
    "\n",
    "Output :4\n",
    "\n",
    "Input : str = \"GEEKSFORGEEKS\"\n",
    "\n",
    "Output :13\n"
   ]
  },
  {
   "cell_type": "code",
   "execution_count": 7,
   "id": "7c39cebd-0e53-4a88-8ae6-c897f802b7b9",
   "metadata": {},
   "outputs": [
    {
     "name": "stdout",
     "output_type": "stream",
     "text": [
      "4\n",
      "13\n"
     ]
    }
   ],
   "source": [
    "def calc_len(string):\n",
    "    if string == \"\":\n",
    "        return 0\n",
    "    else:\n",
    "        return 1 + calc_len(string[1:])\n",
    "\n",
    "\n",
    "print(calc_len(\"abcd\"))\n",
    "print(calc_len(\"GEEKSFORGEEKS\"))"
   ]
  },
  {
   "cell_type": "markdown",
   "id": "f2d00848-1ac7-45bb-ab75-51039d17baaf",
   "metadata": {},
   "source": [
    "#### Question 5 We are given a string S, we need to find count of all contiguous substrings starting and ending with same character.\n",
    "\n",
    "Examples :\n",
    "\n",
    "Input  : S = \"abcab\"\n",
    "\n",
    "Output : 7\n",
    "\n",
    "There are 15 substrings of \"abcab\"\n",
    "a, ab, abc, abca, abcab, b, bc, bca\n",
    "bcab, c, ca, cab, a, ab, b\n",
    "Out of the above substrings, there\n",
    "are 7 substrings : a, abca, b, bcab,\n",
    "c, a and b.\n",
    "\n",
    "Input  : S = \"aba\"\n",
    "\n",
    "Output : 4\n",
    "\n",
    "The substrings are a, b, a and aba\n"
   ]
  },
  {
   "cell_type": "code",
   "execution_count": 45,
   "id": "f3d02fc4-1e4d-4017-8495-8a0e20c9445e",
   "metadata": {},
   "outputs": [
    {
     "name": "stdout",
     "output_type": "stream",
     "text": [
      "7\n",
      "4\n"
     ]
    }
   ],
   "source": [
    "def count_substrings(S):\n",
    "    s = []\n",
    "    c = 0\n",
    "    for i in range(len(S)):\n",
    "        for j in range(i+1, len(S)+1):\n",
    "            s.append(S[i:j])\n",
    "            \n",
    "    for j in s:\n",
    "        if j[0] == j[-1]:\n",
    "            c +=1\n",
    "            \n",
    "    return c\n",
    "\n",
    "print(count_substrings(\"abcab\"))\n",
    "print(count_substrings(\"aba\"))"
   ]
  },
  {
   "cell_type": "markdown",
   "id": "227ffe75-eda1-4558-81c0-97253dd3a513",
   "metadata": {},
   "source": [
    "#### Question 6 The tower of Hanoi is a famous puzzle where we have three rods and N disks. The objective of the puzzle is to move the entire stack to another rod. You are given the number of discs N. Initially, these discs are in the rod 1. You need to print all the steps of discs movement so that all the discs reach the 3rd rod. Also, you need to find the total moves.Note: The discs are arranged such that the top disc is numbered 1 and the bottom-most disc is numbered N. Also, all the discs have different sizes and a bigger disc cannot be put on the top of a smaller disc. Refer the provided link to get a better clarity about the puzzle.\n",
    "\n",
    "Example 1:\n",
    "\n",
    "Input:\n",
    "\n",
    "N = 2\n",
    "\n",
    "Output:\n",
    "\n",
    "move disk 1 from rod 1 to rod 2\n",
    "\n",
    "move disk 2 from rod 1 to rod 3\n",
    "\n",
    "move disk 1 from rod 2 to rod 3\n",
    "\n",
    "3\n",
    "\n",
    "Explanation:For N=2 , steps will be\n",
    "as follows in the example and total\n",
    "3 steps will be taken.\n",
    "\n",
    "Example 2:\n",
    "\n",
    "Input:\n",
    "\n",
    "N = 3\n",
    "\n",
    "Output:\n",
    "\n",
    "move disk 1 from rod 1 to rod 3\n",
    "\n",
    "move disk 2 from rod 1 to rod 2\n",
    "\n",
    "move disk 1 from rod 3 to rod 2\n",
    "\n",
    "move disk 3 from rod 1 to rod 3\n",
    "\n",
    "move disk 1 from rod 2 to rod 1\n",
    "\n",
    "move disk 2 from rod 2 to rod 3\n",
    "\n",
    "move disk 1 from rod 1 to rod 3\n",
    "\n",
    "7\n",
    "\n",
    "Explanation:For N=3 , steps will be\n",
    "as follows in the example and total\n",
    "7 steps will be taken.\n"
   ]
  },
  {
   "cell_type": "code",
   "execution_count": 24,
   "id": "718d91fa-f0fa-4130-98bc-84a1ee9c09a1",
   "metadata": {},
   "outputs": [
    {
     "name": "stdout",
     "output_type": "stream",
     "text": [
      "move disk 1 from rod 1 to rod 2\n",
      "move disk 2 from rod 1 to rod 3\n",
      "move disk 1 from rod 2 to rod 3\n",
      "3\n",
      "move disk 1 from rod 1 to rod 3\n",
      "move disk 2 from rod 1 to rod 2\n",
      "move disk 1 from rod 3 to rod 2\n",
      "move disk 3 from rod 1 to rod 3\n",
      "move disk 1 from rod 2 to rod 1\n",
      "move disk 2 from rod 2 to rod 3\n",
      "move disk 1 from rod 1 to rod 3\n",
      "7\n"
     ]
    }
   ],
   "source": [
    "def tower_Hanoi(N, src, dest, aux, moves):\n",
    "    if N == 1:\n",
    "        step = f\"move disk 1 from rod {src} to rod {dest}\"\n",
    "        moves.append(step)\n",
    "        return 1\n",
    "\n",
    "    moves_count = tower_Hanoi(N - 1, src, aux, dest, moves)\n",
    "\n",
    "    step = f\"move disk {N} from rod {src} to rod {dest}\"\n",
    "    moves.append(step)\n",
    "\n",
    "    moves_count += tower_Hanoi(N - 1, aux, dest, src, moves)\n",
    "\n",
    "    return moves_count + 1\n",
    "\n",
    "\n",
    "def solveTowerOfHanoi(N):\n",
    "    moves = []\n",
    "    tower_Hanoi(N, 1, 3, 2, moves)\n",
    "    \n",
    "    for move in moves:\n",
    "        print(move)\n",
    "\n",
    "    return len(moves)\n",
    "\n",
    "\n",
    "print(solveTowerOfHanoi(2))\n",
    "print(solveTowerOfHanoi(3))\n"
   ]
  },
  {
   "cell_type": "markdown",
   "id": "18014d0e-3229-4820-9fe7-ec7ec53feb9f",
   "metadata": {},
   "source": [
    "####  Question 7 Given a string str, the task is to print all the permutations of str. A permutation is an arrangement of all or part of a set of objects, with regard to the order of the arrangement. For instance, the words ‘bat’ and ‘tab’ represents two distinct permutation (or arrangements) of a similar three letter word.\n",
    "\n",
    "Examples:\n",
    "\n",
    "Input: str = “cd”\n",
    "\n",
    "Output: cd dc\n",
    "\n",
    "Input: str = “abb”\n",
    "\n",
    "Output: abb abb bab bba bab bba\n"
   ]
  },
  {
   "cell_type": "code",
   "execution_count": 26,
   "id": "de34bc59-e338-4bb7-ba63-3d92f4a96b30",
   "metadata": {},
   "outputs": [
    {
     "name": "stdout",
     "output_type": "stream",
     "text": [
      "cd\n",
      "dc\n",
      "abb\n",
      "abb\n",
      "bab\n",
      "bba\n",
      "bab\n",
      "bba\n"
     ]
    }
   ],
   "source": [
    "def permutations(string, curr_perm, rem_char):\n",
    "    if len(rem_char) == 0:\n",
    "        print(curr_perm)\n",
    "        return\n",
    "\n",
    "    for i in range(len(rem_char)):\n",
    "        char = rem_char[i]\n",
    "        rem = rem_char[:i] + rem_char[i+1:]\n",
    "        permutations(string, curr_perm + char, rem)\n",
    "\n",
    "\n",
    "def printAllPermutations(string):\n",
    "    permutations(string, \"\", string)\n",
    "\n",
    "\n",
    "printAllPermutations(\"cd\")\n",
    "printAllPermutations(\"abb\")\n"
   ]
  },
  {
   "cell_type": "markdown",
   "id": "c53f78ce-33e9-4fb7-a6b4-cdef77a0eb96",
   "metadata": {},
   "source": [
    "####  Question 8 Given a string, count total number of consonants in it. A consonant is an English alphabet character that is not vowel (a, e, i, o and u). Examples of constants are b, c, d, f, and g.\n",
    "\n",
    "Examples :\n",
    "\n",
    "Input : abc de\n",
    "\n",
    "Output : 3\n",
    "\n",
    "There are three consonants b, c and d.\n",
    "\n",
    "Input : geeksforgeeks portal\n",
    "\n",
    "Output : 12\n"
   ]
  },
  {
   "cell_type": "code",
   "execution_count": 27,
   "id": "6339ffb4-5754-4253-b032-e23beaff2a84",
   "metadata": {},
   "outputs": [
    {
     "name": "stdout",
     "output_type": "stream",
     "text": [
      "3\n",
      "12\n"
     ]
    }
   ],
   "source": [
    "def count_consonants(string):\n",
    "    consonant_count = 0\n",
    "    vowels = \"aeiou\"\n",
    "\n",
    "    string = string.lower()\n",
    "\n",
    "    for char in string:\n",
    "        if char.isalpha() and char not in vowels:\n",
    "            consonant_count += 1\n",
    "\n",
    "    return consonant_count\n",
    "\n",
    "print(count_consonants(\"abc de\"))\n",
    "print(count_consonants(\"geeksforgeeks portal\"))\n"
   ]
  },
  {
   "cell_type": "code",
   "execution_count": null,
   "id": "745578bf-b057-49b1-9a0a-c8d21b22d760",
   "metadata": {},
   "outputs": [],
   "source": []
  }
 ],
 "metadata": {
  "kernelspec": {
   "display_name": "Python 3 (ipykernel)",
   "language": "python",
   "name": "python3"
  },
  "language_info": {
   "codemirror_mode": {
    "name": "ipython",
    "version": 3
   },
   "file_extension": ".py",
   "mimetype": "text/x-python",
   "name": "python",
   "nbconvert_exporter": "python",
   "pygments_lexer": "ipython3",
   "version": "3.10.6"
  }
 },
 "nbformat": 4,
 "nbformat_minor": 5
}
