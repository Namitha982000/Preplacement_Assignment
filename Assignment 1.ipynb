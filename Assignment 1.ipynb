{
 "cells": [
  {
   "cell_type": "markdown",
   "id": "79dd6d6b-8e4a-4cd1-94ec-468adec5e696",
   "metadata": {},
   "source": [
    "# Assignment 1"
   ]
  },
  {
   "cell_type": "markdown",
   "id": "25183b62-343c-4eb7-95c9-376b39c55b9c",
   "metadata": {},
   "source": [
    "#### Q1. Given an array of integers nums and an integer target, return indices of the two numbers such that they add up to target.\n",
    "\n",
    "You may assume that each input would have exactly one solution, and you may not use the same element twice.\n",
    "\n",
    "You can return the answer in any order.\n",
    "\n",
    "Example: Input: nums = [2,7,11,15], target = 9 Output0 [0,1]\n",
    "\n",
    "Explanation: Because nums[0] + nums[1] == 9, we return [0, 1]\n"
   ]
  },
  {
   "cell_type": "code",
   "execution_count": 9,
   "id": "5b168c6f-2d17-4b77-9d22-cd7950c88dc9",
   "metadata": {},
   "outputs": [
    {
     "name": "stdout",
     "output_type": "stream",
     "text": [
      "[0, 1]\n"
     ]
    }
   ],
   "source": [
    "def two_sum(nums, target):\n",
    "    num_map = {} \n",
    "\n",
    "    for i, num in enumerate(nums):\n",
    "        comp = target - num \n",
    "\n",
    "        if comp in num_map:\n",
    "    \n",
    "            return [num_map[comp], i]\n",
    "        else:\n",
    "            \n",
    "            num_map[num] = i\n",
    "\n",
    "   \n",
    "    return []\n",
    "\n",
    "nums = [2, 7, 11, 15]\n",
    "target = 9\n",
    "res = two_sum(nums, target)\n",
    "print(res)\n"
   ]
  },
  {
   "cell_type": "markdown",
   "id": "70ca2e00-a267-4706-a700-ee1abf0d8a33",
   "metadata": {},
   "source": [
    "#### Q2. Given an integer array nums and an integer val, remove all occurrences of val in nums in-place. The order of the elements may be changed. Then return the number of elements in nums which are not equal to val.\n",
    "\n",
    "Consider the number of elements in nums which are not equal to val be k, to get accepted, you need to do the following things:\n",
    "\n",
    "Change the array nums such that the first k elements of nums contain the elements which are not equal to val. The remaining elements of nums are not important as well as the size of nums.\n",
    "\n",
    "Return k.\n",
    "\n",
    "Example : \n",
    "\n",
    "Input: nums = [3,2,2,3], val = 3 Output: 2, nums = [2,2,*,*]\n",
    "\n",
    "Explanation: Your function should return k = 2, with the first two elements of nums being 2. It does not matter what you leave beyond the returned k (hence they are underscores)[\n"
   ]
  },
  {
   "cell_type": "code",
   "execution_count": 2,
   "id": "32ab353e-4a41-4397-9f9f-364f8534f3f9",
   "metadata": {},
   "outputs": [
    {
     "name": "stdout",
     "output_type": "stream",
     "text": [
      "2\n",
      "[2, 2, '*', '*']\n"
     ]
    }
   ],
   "source": [
    "def Remove(nums, val):\n",
    "\n",
    "  k = 0\n",
    "\n",
    "  for i in range(len(nums)):\n",
    "\n",
    "    if nums[i] != val:\n",
    "\n",
    "      continue\n",
    "\n",
    "    else:\n",
    "\n",
    "      nums[i] = '*'\n",
    "\n",
    "      k +=1\n",
    "\n",
    "  return k\n",
    "\n",
    "\n",
    "\n",
    "nums = [3, 2, 2, 3]\n",
    "\n",
    "nums = sorted(nums)\n",
    "\n",
    "val = 3\n",
    "\n",
    "result = Remove(nums, val)\n",
    "\n",
    "print(result)\n",
    "\n",
    "print(nums)\n",
    "\n"
   ]
  },
  {
   "cell_type": "markdown",
   "id": "bc68b1f2-5a30-4606-b0d8-134013c41613",
   "metadata": {},
   "source": [
    "#### Q3. Given a sorted array of distinct integers and a target value, return the index if the target is found. If not, return the index where it would be if it were inserted in order.\n",
    "\n",
    "You must write an algorithm with O(log n) runtime complexity.\n",
    "\n",
    "Example 1: Input: nums = [1,3,5,6], target = 5\n",
    "Output: 2\n"
   ]
  },
  {
   "cell_type": "code",
   "execution_count": 3,
   "id": "ef987fd1-b0aa-401a-a509-b97bafc7bfbe",
   "metadata": {},
   "outputs": [
    {
     "name": "stdout",
     "output_type": "stream",
     "text": [
      "2\n"
     ]
    }
   ],
   "source": [
    "def search(nums, target):\n",
    "\n",
    "  l = 0\n",
    "\n",
    "  r = len(nums) - 1\n",
    "\n",
    "\n",
    "\n",
    "  while l <= r:\n",
    "\n",
    "    m = (l + r) // 2\n",
    "\n",
    "    if nums[m] == target:\n",
    "\n",
    "      return m\n",
    "\n",
    "    elif nums[m] < target:\n",
    "\n",
    "      l = m + 1\n",
    "\n",
    "    else:\n",
    "\n",
    "      r = m - 1\n",
    "\n",
    "  return l\n",
    "\n",
    "nums = [1, 3, 5, 6]\n",
    "\n",
    "target = 5\n",
    "\n",
    "res = search(nums, target)\n",
    "\n",
    "print(res)"
   ]
  },
  {
   "cell_type": "markdown",
   "id": "2a4e2c63-365a-4e54-acbc-1a342b113015",
   "metadata": {},
   "source": [
    "#### Q4. You are given a large integer represented as an integer array digits, where each digits[i] is the ith digit of the integer. The digits are ordered from most significant to least significant in left-to-right order. The large integer does not contain any leading 0's.\n",
    "\n",
    "Increment the large integer by one and return the resulting array of digits.\n",
    "\n",
    "Example 1: Input: digits = [1,2,3] Output: [1,2,4]\n",
    "\n",
    "Explanation: The array represents the integer 123.\n",
    "\n",
    "Incrementing by one gives 123 + 1 = 124. Thus, the result should be [1,2,4].\n"
   ]
  },
  {
   "cell_type": "code",
   "execution_count": 4,
   "id": "95d10faa-23c0-46d3-a5f3-3eb01e55034d",
   "metadata": {},
   "outputs": [
    {
     "name": "stdout",
     "output_type": "stream",
     "text": [
      "[1, 2, 4]\n"
     ]
    }
   ],
   "source": [
    "def addOne(digits):\n",
    "\n",
    "  c = 1\n",
    "\n",
    "  for i in range(len(digits) - 1, -1, -1):\n",
    "\n",
    "    digit = digits[i]\n",
    "\n",
    "    digits[i] = (digit + c) % 10\n",
    "\n",
    "    c = (digit + c) // 10\n",
    "\n",
    "  if c > 0:\n",
    "\n",
    "    digits.insert(0, c)\n",
    "\n",
    "  return digits\n",
    "\n",
    "digits = [1, 2, 3]\n",
    "\n",
    "res = addOne(digits)\n",
    "\n",
    "print(res)"
   ]
  },
  {
   "cell_type": "markdown",
   "id": "baaff064-ee62-4cef-a7af-61d1ae7ed35a",
   "metadata": {},
   "source": [
    "#### Q5. You are given two integer arrays nums1 and nums2, sorted in non-decreasing order, and two integers m and n, representing the number of elements in nums1 and nums2 respectively.\n",
    "\n",
    "Merge nums1 and nums2 into a single array sorted in non-decreasing order.\n",
    "\n",
    "The final sorted array should not be returned by the function, but instead be stored inside the array nums1. To accommodate this, nums1 has a length of m + n, where the first m elements denote the elements that should be merged, and the last n elements are set to 0 and should be ignored. nums2 has a length of n.\n",
    "\n",
    "Example 1: Input: nums1 = [1,2,3,0,0,0], m = 3, nums2 = [2,5,6], n = 3 Output: [1,2,2,3,5,6]\n",
    "\n",
    "Explanation: The arrays we are merging are [1,2,3] and [2,5,6]. The result of the merge is [1,2,2,3,5,6] with the underlined elements coming from nums1.\n"
   ]
  },
  {
   "cell_type": "code",
   "execution_count": 5,
   "id": "8f871f9c-e6a2-4b67-8334-b6e81eee76a2",
   "metadata": {},
   "outputs": [
    {
     "name": "stdout",
     "output_type": "stream",
     "text": [
      "[1, 2, 2, 3, 5, 6]\n"
     ]
    }
   ],
   "source": [
    "def mergeTwoarrays(nums1, m, nums2, n):\n",
    "\n",
    "  p1 = m - 1\n",
    "\n",
    "  p2 = n - 1\n",
    "\n",
    "  p = m + n - 1\n",
    "\n",
    "  while p1 >= 0 and p2 >= 0:\n",
    "\n",
    "    if nums1[p1] > nums2[p2]:\n",
    "\n",
    "      nums1[p] = nums1[p1]\n",
    "\n",
    "      p1 -= 1\n",
    "\n",
    "    else:\n",
    "\n",
    "      nums1[p] = nums2[p2]\n",
    "\n",
    "      p2 -= 1\n",
    "\n",
    "    p -= 1\n",
    "\n",
    "  # Copy remaining elements from nums2 to nums1\n",
    "\n",
    "  while p2 >= 0:\n",
    "\n",
    "    nums1[p] = nums2[p2]\n",
    "\n",
    "    p2 -= 1\n",
    "\n",
    "    p -= 1\n",
    "\n",
    "  return nums1\n",
    "\n",
    "nums1 = [1, 2, 3, 0, 0, 0]\n",
    "\n",
    "m = 3\n",
    "\n",
    "nums2 = [2, 5, 6]\n",
    "\n",
    "n = 3\n",
    "\n",
    "res = mergeTwoarrays(nums1, m, nums2, n)\n",
    "\n",
    "print(res)"
   ]
  },
  {
   "cell_type": "markdown",
   "id": "69dae573-daab-4570-b155-1d60873a2aa1",
   "metadata": {},
   "source": [
    "#### Q6.  Given an integer array nums, return true if any value appears at least twice in the array, and return false if every element is distinct.\n",
    "\n",
    "Example 1: Input: nums = [1,2,3,1]\n",
    "\n",
    "Output: true\n"
   ]
  },
  {
   "cell_type": "code",
   "execution_count": 6,
   "id": "e3787594-0808-4f65-8ab4-dac573dfc6c7",
   "metadata": {},
   "outputs": [
    {
     "name": "stdout",
     "output_type": "stream",
     "text": [
      "True\n"
     ]
    }
   ],
   "source": [
    "def repeated(nums):\n",
    "\n",
    "  s = set()\n",
    "\n",
    "  for num in nums:\n",
    "\n",
    "    if num in s:\n",
    "\n",
    "      return True\n",
    "\n",
    "    s.add(num)\n",
    "\n",
    "  return False\n",
    "\n",
    "\n",
    "nums = [1, 2, 3, 1]\n",
    "\n",
    "res = repeated(nums)\n",
    "\n",
    "print(res)"
   ]
  },
  {
   "cell_type": "markdown",
   "id": "415ad225-d827-4303-8005-303cb84b50dc",
   "metadata": {},
   "source": [
    "#### Q7. Given an integer array nums, move all 0's to the end of it while maintaining the relative order of the nonzero elements.\n",
    "\n",
    "Note that you must do this in-place without making a copy of the array.\n",
    "\n",
    "Example 1: Input: nums = [0,1,0,3,12] Output: [1,3,12,0,0]"
   ]
  },
  {
   "cell_type": "code",
   "execution_count": 7,
   "id": "d14e9a05-bd75-4d0b-beef-485f211c2c64",
   "metadata": {},
   "outputs": [
    {
     "name": "stdout",
     "output_type": "stream",
     "text": [
      "[1, 3, 12, 0, 0]\n"
     ]
    }
   ],
   "source": [
    "def zero(nums):\n",
    "\n",
    "  a = 0\n",
    "\n",
    "  for i in range(len(nums)):\n",
    "\n",
    "    if nums[i] != 0:\n",
    "\n",
    "      nums[a] = nums[i]\n",
    "\n",
    "      a += 1\n",
    "\n",
    "  while a < len(nums):\n",
    "\n",
    "    nums[a] = 0\n",
    "\n",
    "    a += 1\n",
    "\n",
    "  return nums\n",
    "\n",
    "\n",
    "nums = [0, 1, 0, 3, 12]\n",
    "\n",
    "res = zero(nums)\n",
    "\n",
    "print(res)"
   ]
  },
  {
   "cell_type": "markdown",
   "id": "c9bf2a27-5751-45db-afc0-317b2ed4b677",
   "metadata": {},
   "source": [
    "#### Q8. You have a set of integers s, which originally contains all the numbers from 1 to n. Unfortunately, due to some error, one of the numbers in s got duplicated to another number in the set, which results in repetition of one number and loss of another number.\n",
    "\n",
    "You are given an integer array nums representing the data status of this set after the error.\n",
    "\n",
    "Find the number that occurs twice and the number that is missing and return them in the form of an array.\n",
    "\n",
    "Example 1: Input: nums = [1,2,2,4] Output: [2,3]\n"
   ]
  },
  {
   "cell_type": "code",
   "execution_count": 8,
   "id": "c83ab769-ae08-4751-98e0-f722fe443ebe",
   "metadata": {},
   "outputs": [
    {
     "name": "stdout",
     "output_type": "stream",
     "text": [
      "[2, 3]\n"
     ]
    }
   ],
   "source": [
    "def error(nums):\n",
    "\n",
    "  s = set()\n",
    "\n",
    "  d = 0\n",
    "\n",
    "  m = 0\n",
    "\n",
    "  for i in range(len(nums)):\n",
    "\n",
    "    if nums[i] in s:\n",
    "\n",
    "      d = nums[i]\n",
    "\n",
    "      m = nums[i-1] + 1\n",
    "\n",
    "    s.add(nums[i])\n",
    "\n",
    "  return [d, m]\n",
    "\n",
    "\n",
    "nums = [1, 2, 2, 4]\n",
    "\n",
    "res = error(nums)\n",
    "\n",
    "print(res)\n",
    "\n"
   ]
  },
  {
   "cell_type": "code",
   "execution_count": null,
   "id": "c0546f7c-4919-4992-81ad-dde4fed0ed1f",
   "metadata": {},
   "outputs": [],
   "source": []
  }
 ],
 "metadata": {
  "kernelspec": {
   "display_name": "Python 3 (ipykernel)",
   "language": "python",
   "name": "python3"
  },
  "language_info": {
   "codemirror_mode": {
    "name": "ipython",
    "version": 3
   },
   "file_extension": ".py",
   "mimetype": "text/x-python",
   "name": "python",
   "nbconvert_exporter": "python",
   "pygments_lexer": "ipython3",
   "version": "3.10.6"
  }
 },
 "nbformat": 4,
 "nbformat_minor": 5
}
