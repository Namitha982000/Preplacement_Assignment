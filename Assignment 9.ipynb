{
 "cells": [
  {
   "cell_type": "markdown",
   "id": "7fbd6e25-f2a0-447d-ab27-8cc8cc26b000",
   "metadata": {},
   "source": [
    "# Assignment  9"
   ]
  },
  {
   "cell_type": "markdown",
   "id": "7e321e0b-4cbb-41d4-96e7-7b779f4436c5",
   "metadata": {},
   "source": [
    "#### Question 1 Given an integer n, return true if it is a power of two. Otherwise, return false. An integer n is a power of two, if there exists an integer x such that n == 2x.\n",
    "\n",
    "Example 1: Input: n = 1\n",
    "\n",
    "Output: true\n",
    "\n",
    "Example 2: Input: n = 16\n",
    "\n",
    "Output: true\n",
    "\n",
    "Example 3: Input: n = 3\n",
    "\n",
    "Output: false\n"
   ]
  },
  {
   "cell_type": "code",
   "execution_count": 1,
   "id": "b9c4ca64-ca5f-451e-bf01-4ec1da0dc116",
   "metadata": {},
   "outputs": [
    {
     "name": "stdout",
     "output_type": "stream",
     "text": [
      "True\n",
      "True\n",
      "False\n"
     ]
    }
   ],
   "source": [
    "def power_of_two(n):\n",
    "    if n <= 0:\n",
    "        return False\n",
    "    return (n & (n - 1)) == 0\n",
    "\n",
    "print(power_of_two(1))\n",
    "print(power_of_two(16))\n",
    "print(power_of_two(3))\n"
   ]
  },
  {
   "cell_type": "markdown",
   "id": "fd0feb61-f78e-499c-bed3-812844d2e8de",
   "metadata": {},
   "source": [
    "#### Question 2 Given a number n, find the sum of the first natural numbers.\n",
    "\n",
    "Example 1:\n",
    "\n",
    "Input: n = 3\n",
    "\n",
    "Output: 6\n",
    "\n",
    "Example 2:\n",
    "\n",
    "Input : 5\n",
    "\n",
    "Output : 15\n"
   ]
  },
  {
   "cell_type": "code",
   "execution_count": 2,
   "id": "60c7b071-49c9-4920-921a-558bb013940a",
   "metadata": {},
   "outputs": [
    {
     "name": "stdout",
     "output_type": "stream",
     "text": [
      "6\n",
      "15\n"
     ]
    }
   ],
   "source": [
    "def natural_numbers(n):\n",
    "    return (n * (n + 1)) // 2\n",
    "\n",
    "print(natural_numbers(3))  # Output: 6\n",
    "print(natural_numbers(5))  # Output: 15\n"
   ]
  },
  {
   "cell_type": "markdown",
   "id": "86256b98-cbed-4350-b132-3aa18540c03b",
   "metadata": {
    "tags": []
   },
   "source": [
    "#### Question 3 Given a positive integer, N. Find the factorial of N.\n",
    "\n",
    "Example 1:\n",
    "\n",
    "Input: N = 5\n",
    "\n",
    "Output: 120\n",
    "\n",
    "Example 2:\n",
    "\n",
    "Input: N = 4\n",
    "\n",
    "Output: 24\n"
   ]
  },
  {
   "cell_type": "code",
   "execution_count": 3,
   "id": "2af18180-3a85-4adc-91ce-c72b0b13e637",
   "metadata": {},
   "outputs": [
    {
     "name": "stdout",
     "output_type": "stream",
     "text": [
      "120\n",
      "24\n"
     ]
    }
   ],
   "source": [
    "def fact(n):\n",
    "    res = 1\n",
    "    for i in range(1, n + 1):\n",
    "        res *= i\n",
    "    return res\n",
    "\n",
    "print(fact(5))\n",
    "print(fact(4))\n"
   ]
  },
  {
   "cell_type": "markdown",
   "id": "364ed328-0d9e-49df-baa9-032964ff04a0",
   "metadata": {},
   "source": [
    "#### Question 4 Given a number N and a power P, the task is to find the exponent of this number raised to the given power, i.e. N^P.\n",
    "\n",
    "Example 1 :\n",
    "\n",
    "Input: N = 5, P = 2\n",
    "\n",
    "Output: 25\n",
    "\n",
    "Example 2 : Input: N = 2, P = 5\n",
    "\n",
    "Output: 32\n"
   ]
  },
  {
   "cell_type": "code",
   "execution_count": 4,
   "id": "6fb71f03-d04e-48d9-bc4b-eae303f5316e",
   "metadata": {},
   "outputs": [
    {
     "name": "stdout",
     "output_type": "stream",
     "text": [
      "25\n",
      "32\n"
     ]
    }
   ],
   "source": [
    "def power_of_num(N, P):\n",
    "    res = N ** P\n",
    "    return res\n",
    "\n",
    "print(power_of_num(5, 2))\n",
    "print(power_of_num(2, 5))\n"
   ]
  },
  {
   "cell_type": "markdown",
   "id": "12daf72c-4386-4535-b679-624c36e0d5c8",
   "metadata": {},
   "source": [
    "#### Question 5 Given an array of integers arr, the task is to find maximum element of that array using recursion.\n",
    "\n",
    "Example 1:\n",
    "\n",
    "Input: arr = {1, 4, 3, -5, -4, 8, 6};\n",
    "\n",
    "Output: 8\n",
    "\n",
    "Example 2:\n",
    "\n",
    "Input: arr = {1, 4, 45, 6, 10, -8}; \n",
    "\n",
    "Output: 45\n"
   ]
  },
  {
   "cell_type": "code",
   "execution_count": 5,
   "id": "4aa19a7b-f89a-4641-b79d-cc88a67256fa",
   "metadata": {},
   "outputs": [
    {
     "name": "stdout",
     "output_type": "stream",
     "text": [
      "8\n",
      "45\n"
     ]
    }
   ],
   "source": [
    "def max_num(arr):\n",
    "    n = len(arr)\n",
    "\n",
    "    if n == 1:\n",
    "        return arr[0]\n",
    "    else:\n",
    "        m = n // 2\n",
    "        l_h = arr[:m]\n",
    "        r_h = arr[m:]\n",
    "        \n",
    "        m_l = max_num(l_h)\n",
    "        m_r = max_num(r_h)\n",
    "        \n",
    "        return max(m_l, m_r)\n",
    "    \n",
    "arr1 = [1, 4, 3, -5, -4, 8, 6]\n",
    "print(max_num(arr1))\n",
    "arr2 = [1, 4, 45, 6, 10, -8]\n",
    "print(max_num(arr2))\n"
   ]
  },
  {
   "cell_type": "markdown",
   "id": "855d1fee-1294-45e0-a874-249a6f5432c7",
   "metadata": {},
   "source": [
    "#### Question 6 Given first term (a), common difference (d) and a integer N of the Arithmetic Progression series, the task is to find Nth term of the series.\n",
    "\n",
    "Example 1:\n",
    "\n",
    "Input : a = 2 d = 1 N = 5 \n",
    "\n",
    "Output : 6 The 5th term of the series is : 6\n",
    "\n",
    "Example 2:\n",
    "\n",
    "Input : a = 5 d = 2 N = 10 \n",
    "\n",
    "Output : 23 The 10th term of the series is : 23\n"
   ]
  },
  {
   "cell_type": "code",
   "execution_count": 6,
   "id": "1a63358e-735c-4658-879d-0628ed77c744",
   "metadata": {},
   "outputs": [
    {
     "name": "stdout",
     "output_type": "stream",
     "text": [
      "6\n",
      "23\n"
     ]
    }
   ],
   "source": [
    "def find_num(a, d, N):\n",
    "    num = a + (N - 1) * d\n",
    "    return num\n",
    "\n",
    "print(find_num(2, 1, 5))\n",
    "print(find_num(5, 2, 10))"
   ]
  },
  {
   "cell_type": "markdown",
   "id": "cf58837c-40ae-44a8-87b9-4110d0441e27",
   "metadata": {},
   "source": [
    "#### Question 7 Given a string S, the task is to write a program to print all permutations of a given string.\n",
    "\n",
    "Example 1:\n",
    "\n",
    "Input:\n",
    "\n",
    "S = “ABC”\n",
    "\n",
    "Output:\n",
    "\n",
    "“ABC”, “ACB”, “BAC”, “BCA”, “CBA”, “CAB”\n",
    "\n",
    "Example 2:\n",
    "\n",
    "Input:\n",
    "\n",
    "S = “XY”\n",
    "\n",
    "Output:\n",
    "\n",
    "“XY”, “YX”\n"
   ]
  },
  {
   "cell_type": "code",
   "execution_count": 8,
   "id": "de5b853e-2d6a-48b6-bd8b-ef646fde53bc",
   "metadata": {},
   "outputs": [
    {
     "name": "stdout",
     "output_type": "stream",
     "text": [
      "ABC\n",
      "ACB\n",
      "BAC\n",
      "BCA\n",
      "CBA\n",
      "CAB\n",
      "\n",
      "XY\n",
      "YX\n"
     ]
    }
   ],
   "source": [
    "def permutation_str(s, l, r):\n",
    "    if l == r:\n",
    "        print(\"\".join(s))\n",
    "    else:\n",
    "        for i in range(l, r + 1):\n",
    "            s[l], s[i] = s[i], s[l]\n",
    "            permutation_str(s, l + 1, r)\n",
    "            s[l], s[i] = s[i], s[l]\n",
    "def print_permutations(s):\n",
    "    n = len(s)\n",
    "    permutation_str(list(s), 0, n - 1)\n",
    "\n",
    "print_permutations(\"ABC\")\n",
    "print()\n",
    "print_permutations(\"XY\")"
   ]
  },
  {
   "cell_type": "markdown",
   "id": "6b197718-9fe4-4fc3-8379-af7bfe2f999b",
   "metadata": {},
   "source": [
    "#### Question 8 Given an array, find a product of all array elements.\n",
    "\n",
    "Example 1:\n",
    "\n",
    "Input : arr[] = {1, 2, 3, 4, 5} \n",
    "\n",
    "Output : 120 \n",
    "\n",
    "Example 2:\n",
    "\n",
    "Input : arr[] = {1, 6, 3} \n",
    "\n",
    "Output : 18\n"
   ]
  },
  {
   "cell_type": "code",
   "execution_count": 9,
   "id": "e8f1539b-31c1-4f3c-a4fc-43058c843220",
   "metadata": {},
   "outputs": [
    {
     "name": "stdout",
     "output_type": "stream",
     "text": [
      "120\n",
      "18\n"
     ]
    }
   ],
   "source": [
    "def product(arr):\n",
    "    prod = 1\n",
    "    for num in arr:\n",
    "        prod *= num\n",
    "    return prod\n",
    "\n",
    "arr1 = [1, 2, 3, 4, 5]\n",
    "print(product(arr1))\n",
    "arr2 = [1, 6, 3]\n",
    "print(product(arr2))\n"
   ]
  },
  {
   "cell_type": "code",
   "execution_count": null,
   "id": "8be9ccfa-851b-417f-b480-74f8f1e7da53",
   "metadata": {},
   "outputs": [],
   "source": []
  }
 ],
 "metadata": {
  "kernelspec": {
   "display_name": "Python 3 (ipykernel)",
   "language": "python",
   "name": "python3"
  },
  "language_info": {
   "codemirror_mode": {
    "name": "ipython",
    "version": 3
   },
   "file_extension": ".py",
   "mimetype": "text/x-python",
   "name": "python",
   "nbconvert_exporter": "python",
   "pygments_lexer": "ipython3",
   "version": "3.10.6"
  }
 },
 "nbformat": 4,
 "nbformat_minor": 5
}
