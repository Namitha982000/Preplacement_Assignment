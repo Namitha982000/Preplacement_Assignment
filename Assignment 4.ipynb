{
 "cells": [
  {
   "cell_type": "markdown",
   "id": "e39506cf-dc52-45fc-9d0c-4a8fbbd1551c",
   "metadata": {},
   "source": [
    "# Assignment 4"
   ]
  },
  {
   "cell_type": "markdown",
   "id": "f1e0624b-a669-420d-ad2e-89162a088595",
   "metadata": {},
   "source": [
    "#### Question 1 Given three integer arrays arr1, arr2 and arr3 sorted in strictly increasing order, return a sorted array of only the integers that appeared in all three arrays.\n",
    "\n",
    "Example 1:\n",
    "\n",
    "Input: arr1 = [1,2,3,4,5], arr2 = [1,2,5,7,9], arr3 = [1,3,4,5,8]\n",
    "\n",
    "Output: [1,5]\n",
    "\n",
    "Explanation: Only 1 and 5 appeared in the three arrays.\n"
   ]
  },
  {
   "cell_type": "code",
   "execution_count": 1,
   "id": "d980751d-f71f-47b5-b399-50c88d12b310",
   "metadata": {},
   "outputs": [
    {
     "name": "stdout",
     "output_type": "stream",
     "text": [
      "[1, 5]\n"
     ]
    }
   ],
   "source": [
    "def repeatedElements(arr1, arr2, arr3):\n",
    "\n",
    "    lst = arr1 + arr2 + arr3\n",
    "\n",
    "    d = {}\n",
    "\n",
    "    l = len(lst)\n",
    "\n",
    "    res = []\n",
    "\n",
    "    for i in range(0, l):\n",
    "\n",
    "        d[lst[i]] = lst.count(lst[i])\n",
    "\n",
    "    for k, v in d.items():\n",
    "\n",
    "        if v == 3:\n",
    "\n",
    "            res.append(k)\n",
    "\n",
    "    return sorted(res)\n",
    "\n",
    "\n",
    "arr1 = [1, 2, 3, 4, 5]\n",
    "\n",
    "arr2 = [1, 2, 5, 7, 9]\n",
    "\n",
    "arr3 = [1, 3, 4, 5, 8]\n",
    "\n",
    "res = repeatedElements(arr1, arr2, arr3)\n",
    "\n",
    "print(res)"
   ]
  },
  {
   "cell_type": "markdown",
   "id": "0c1d81b8-65c8-4ddb-ada9-9a6536a42efa",
   "metadata": {},
   "source": [
    "#### Question 2 Given two 0-indexed integer arrays nums1 and nums2, return a list answer of size 2 where: \n",
    "\n",
    "answer[0] is a list of all distinct integers in nums1 which are not present in nums2*.*\n",
    "\n",
    "answer[1] is a list of all distinct integers in nums2 which are not present in nums1.\n",
    "\n",
    "Note that the integers in the lists may be returned in any order.\n",
    "\n",
    "Example 1:\n",
    "\n",
    "Input: nums1 = [1,2,3], nums2 = [2,4,6]\n",
    "\n",
    "Output: [[1,3],[4,6]]\n",
    "\n",
    "Explanation:\n",
    "\n",
    "For nums1, nums1[1] = 2 is present at index 0 of nums2, whereas nums1[0] = 1 and nums1[2] = 3 are not present in nums2. Therefore, answer[0] = [1,3].\n",
    "\n",
    "For nums2, nums2[0] = 2 is present at index 1 of nums1, whereas nums2[1] = 4 and nums2[2] = 6 are not present in nums2. Therefore, answer[1] = [4,6].\n"
   ]
  },
  {
   "cell_type": "code",
   "execution_count": 2,
   "id": "989c57b1-9185-4436-84a4-3d8c22bbf3e9",
   "metadata": {},
   "outputs": [
    {
     "name": "stdout",
     "output_type": "stream",
     "text": [
      "[[1, 3], [4, 6]]\n"
     ]
    }
   ],
   "source": [
    "def findNums(nums1, nums2):\n",
    "\n",
    "    s1 = set(nums1)\n",
    "\n",
    "    s2 = set(nums2)\n",
    "\n",
    "    res = []\n",
    "\n",
    "    res.append(list(s1 - s2))\n",
    "\n",
    "    res.append(list(s2 - s1))\n",
    "\n",
    "    return res\n",
    "\n",
    "\n",
    "nums1 = [1, 2, 3]\n",
    "\n",
    "nums2 = [2, 4, 6]\n",
    "\n",
    "res = findNums(nums1, nums2)\n",
    "\n",
    "print(res)\n"
   ]
  },
  {
   "cell_type": "markdown",
   "id": "b3148173-1c61-45c3-b395-3c616ce31678",
   "metadata": {},
   "source": [
    "#### Question 3  Given a 2D integer array matrix, return the transpose of matrix. The transpose of a matrix is the matrix flipped over its main diagonal, switching the matrix's row and column indices.\n",
    "\n",
    "Example 1:\n",
    "\n",
    "Input: matrix = [[1,2,3],[4,5,6],[7,8,9]]\n",
    "\n",
    "Output: [[1,4,7],[2,5,8],[3,6,9]]"
   ]
  },
  {
   "cell_type": "code",
   "execution_count": 3,
   "id": "00693080-56bb-47e6-9c67-b101ba9012b9",
   "metadata": {},
   "outputs": [
    {
     "name": "stdout",
     "output_type": "stream",
     "text": [
      "[[1, 4, 7], [2, 5, 8], [3, 6, 9]]\n"
     ]
    }
   ],
   "source": [
    "def transpose(matrix):\n",
    "\n",
    "    rows = len(matrix)\n",
    "\n",
    "    cols = len(matrix[0])\n",
    "\n",
    "    trans = [[0] * rows for _ in range(cols)]\n",
    "\n",
    "    for i in range(rows):\n",
    "\n",
    "        for j in range(cols):\n",
    "\n",
    "            trans[j][i] = matrix[i][j]\n",
    "\n",
    "    return trans\n",
    "\n",
    "\n",
    "matrix = [[1, 2, 3], [4, 5, 6], [7, 8, 9]]\n",
    "\n",
    "trans = transpose(matrix)\n",
    "\n",
    "print(trans)\n"
   ]
  },
  {
   "cell_type": "markdown",
   "id": "b0d12407-e645-4689-809f-5692c2282a55",
   "metadata": {},
   "source": [
    "#### Question 4 Given an integer array nums of 2n integers, group these integers into n pairs (a1, b1), (a2, b2), ..., (an, bn) such that the sum of min(ai, bi) for all i is maximized. Return the maximized sum.\n",
    "\n",
    "Example 1:\n",
    "\n",
    "Input: nums = [1,4,3,2]\n",
    "\n",
    "Output: 4\n",
    "\n",
    "Explanation: All possible pairings (ignoring the ordering of elements) are:\n",
    "\n",
    "(1, 4), (2, 3) -> min(1, 4) + min(2, 3) = 1 + 2 = 3\n",
    "\n",
    "(1, 3), (2, 4) -> min(1, 3) + min(2, 4) = 1 + 2 = 3\n",
    "\n",
    "(1, 2), (3, 4) -> min(1, 2) + min(3, 4) = 1 + 3 = 4\n",
    "\n",
    "So the maximum possible sum is 4.\n"
   ]
  },
  {
   "cell_type": "code",
   "execution_count": 4,
   "id": "eaf161fa-8d40-4ee5-a925-8f2948c0705d",
   "metadata": {},
   "outputs": [
    {
     "name": "stdout",
     "output_type": "stream",
     "text": [
      "4\n"
     ]
    }
   ],
   "source": [
    "from itertools import combinations\n",
    "\n",
    "\n",
    "lst = []\n",
    "\n",
    "\n",
    "maximum = []\n",
    "\n",
    "\n",
    "def maxiSum(nums):\n",
    "\n",
    "    comb = combinations(nums, 2)\n",
    "\n",
    "    for i in list(comb):\n",
    "\n",
    "        lst.append(i)\n",
    "\n",
    "    for j in range(0, len(lst), 2):\n",
    "\n",
    "        maximum.append(min(lst[j]) + min(lst[j+1]))\n",
    "\n",
    "    return max(maximum)\n",
    "\n",
    "\n",
    "nums = [1, 4, 3, 2]\n",
    "\n",
    "res = maxiSum(nums)\n",
    "\n",
    "print(res)\n"
   ]
  },
  {
   "cell_type": "markdown",
   "id": "02d3f895-264f-4107-8688-a0ac674fc2ae",
   "metadata": {},
   "source": [
    "#### Question 5 You have n coins and you want to build a staircase with these coins. The staircase consists of k rows where the i th row has exactly i coins. The last row of the staircase may be incomplete. Given the integer n, return the number of complete rows of the staircase you will build.\n",
    "\n",
    "Example 1:\n",
    "\n",
    "Input: n = 5\n",
    "\n",
    "Output: 2\n",
    "\n",
    "Explanation: Because the 3rd row is incomplete, we return 2.\n"
   ]
  },
  {
   "cell_type": "code",
   "execution_count": 5,
   "id": "903c7bf0-8a89-44b4-b8e3-b5d56ef964c3",
   "metadata": {},
   "outputs": [
    {
     "name": "stdout",
     "output_type": "stream",
     "text": [
      "2\n"
     ]
    }
   ],
   "source": [
    "def Coins(n):\n",
    "    l, r = 0, n\n",
    "\n",
    "    while l <= r:\n",
    "        m = (l + r) // 2\n",
    "        row_sum = (m * (m + 1)) // 2\n",
    "\n",
    "        if row_sum <= n:\n",
    "            l = m + 1\n",
    "        else:\n",
    "            r = m - 1\n",
    "\n",
    "    return r\n",
    "\n",
    "n = 5\n",
    "res = Coins(n)\n",
    "print(res)"
   ]
  },
  {
   "cell_type": "markdown",
   "id": "ffb122c1-424c-40c2-a26d-358b2572787e",
   "metadata": {},
   "source": [
    "#### Question 6  Given an integer array nums sorted in non-decreasing order, return an array of the squares of each number sorted in non-decreasing order.\n",
    "\n",
    "Example 1:\n",
    "\n",
    "Input: nums = [-4,-1,0,3,10]\n",
    "\n",
    "Output: [0,1,9,16,100]\n",
    "\n",
    "Explanation: After squaring, the array becomes [16,1,0,9,100]. After sorting, it becomes [0,1,9,16,100]\n"
   ]
  },
  {
   "cell_type": "code",
   "execution_count": 6,
   "id": "867ce76a-d00b-4ec9-bfac-ba8e06ad0ae0",
   "metadata": {},
   "outputs": [
    {
     "name": "stdout",
     "output_type": "stream",
     "text": [
      "[0, 1, 9, 16, 100]\n"
     ]
    }
   ],
   "source": [
    "def Square(nums):\n",
    "    l, r = 0, len(nums) - 1\n",
    "    res = []\n",
    "\n",
    "    while l <= r:\n",
    "        left_square = nums[l] * nums[l]\n",
    "        right_square = nums[r] * nums[r]\n",
    "\n",
    "        if abs(nums[l]) > abs(nums[r]):\n",
    "            res.append(left_square)\n",
    "            l += 1\n",
    "        else:\n",
    "            res.append(right_square)\n",
    "            r -= 1\n",
    "\n",
    "    return res[::-1]\n",
    "\n",
    "nums = [-4,-1,0,3,10]\n",
    "res = Square(nums)\n",
    "print(res)"
   ]
  },
  {
   "cell_type": "markdown",
   "id": "c8ee25b9-9a31-428b-87e5-3ad3164c37be",
   "metadata": {},
   "source": [
    "#### Question 8 Given the array nums consisting of 2n elements in the form [x1,x2,...,xn,y1,y2,...,yn].\n",
    "\n",
    "Return the array in the form [x1,y1,x2,y2,...,xn,yn].\n",
    "\n",
    "Example 1:\n",
    "\n",
    "Input: nums = [2,5,1,3,4,7], n = 3\n",
    "\n",
    "Output: [2,3,5,4,1,7]\n",
    "\n",
    "Explanation: Since x1=2, x2=5, x3=1, y1=3, y2=4, y3=7 then the answer is [2,3,5,4,1,7].\n"
   ]
  },
  {
   "cell_type": "code",
   "execution_count": 12,
   "id": "743a450d-6663-4798-bec9-ad02391b0210",
   "metadata": {},
   "outputs": [
    {
     "name": "stdout",
     "output_type": "stream",
     "text": [
      "[2, 3, 5, 4, 1, 7]\n"
     ]
    }
   ],
   "source": [
    "def rearrange(nums, n):\n",
    "    res = []\n",
    "    for i in range(n):\n",
    "        res.append(nums[i])\n",
    "        res.append(nums[i+3])\n",
    "\n",
    "    return res\n",
    "\n",
    "nums = [2,5,1,3,4,7]\n",
    "n = 3\n",
    "res = rearrange(nums, n)\n",
    "print(res)"
   ]
  },
  {
   "cell_type": "code",
   "execution_count": null,
   "id": "394e577b-32b2-49e5-be1b-5a32e6d6a76d",
   "metadata": {},
   "outputs": [],
   "source": []
  }
 ],
 "metadata": {
  "kernelspec": {
   "display_name": "Python 3 (ipykernel)",
   "language": "python",
   "name": "python3"
  },
  "language_info": {
   "codemirror_mode": {
    "name": "ipython",
    "version": 3
   },
   "file_extension": ".py",
   "mimetype": "text/x-python",
   "name": "python",
   "nbconvert_exporter": "python",
   "pygments_lexer": "ipython3",
   "version": "3.10.6"
  }
 },
 "nbformat": 4,
 "nbformat_minor": 5
}
