{
 "cells": [
  {
   "cell_type": "markdown",
   "id": "373cef06-1791-439d-914e-07ddeb1fe7f7",
   "metadata": {},
   "source": [
    "# Data Science Assignment"
   ]
  },
  {
   "cell_type": "markdown",
   "id": "f41d5ed6-bf33-4594-8c40-e48f1fe6f927",
   "metadata": {},
   "source": [
    "#### 1. Write a Python program to reverse a string without using any built-in string reversal functions."
   ]
  },
  {
   "cell_type": "code",
   "execution_count": 1,
   "id": "fa5c2a9b-627d-432e-bddf-9547557f2395",
   "metadata": {},
   "outputs": [
    {
     "name": "stdout",
     "output_type": "stream",
     "text": [
      "!dlroW ,olleH\n"
     ]
    }
   ],
   "source": [
    "def reverse_string(s):\n",
    "   \n",
    "    chars = list(s)\n",
    "    \n",
    "   \n",
    "    left = 0\n",
    "    right = len(chars) - 1\n",
    "    \n",
    "    \n",
    "    while left < right:\n",
    "        chars[left], chars[right] = chars[right], chars[left]\n",
    "        left += 1\n",
    "        right -= 1\n",
    "    \n",
    "    \n",
    "    reversed_str = \"\".join(chars)\n",
    "    \n",
    "    return reversed_str\n",
    "\n",
    "\n",
    "\n",
    "string = \"Hello, World!\"\n",
    "reversed_string = reverse_string(string)\n",
    "print(reversed_string) \n"
   ]
  },
  {
   "cell_type": "markdown",
   "id": "a810215e-18e4-4d2f-8546-fb5b4889a70d",
   "metadata": {},
   "source": [
    "#### 2. Implement a function to check if a given string is a palindrome."
   ]
  },
  {
   "cell_type": "code",
   "execution_count": 2,
   "id": "8505ef36-f4a0-4709-8c35-9a89c1746b9b",
   "metadata": {},
   "outputs": [
    {
     "name": "stdout",
     "output_type": "stream",
     "text": [
      "True\n",
      "False\n"
     ]
    }
   ],
   "source": [
    "def is_palindrome(s):\n",
    "    s = ''.join(char.lower() for char in s if char.isalnum())\n",
    "\n",
    "    left = 0\n",
    "    right = len(s) - 1\n",
    "\n",
    "    while left < right:\n",
    "        if s[left] != s[right]:\n",
    "            return False\n",
    "        left += 1\n",
    "        right -= 1\n",
    "\n",
    "    return True\n",
    "\n",
    "\n",
    "string1 = \"A man, a plan, a canal: Panama\"\n",
    "print(is_palindrome(string1))  \n",
    "\n",
    "string2 = \"race a car\"\n",
    "print(is_palindrome(string2))  \n"
   ]
  },
  {
   "cell_type": "markdown",
   "id": "5edd56a6-3525-4a63-b029-4fe398513f2b",
   "metadata": {},
   "source": [
    "#### 3. Write a program to find the largest element in a given list."
   ]
  },
  {
   "cell_type": "code",
   "execution_count": 3,
   "id": "bb85b26f-7d60-48c7-8645-54ad4f2a470c",
   "metadata": {},
   "outputs": [
    {
     "name": "stdout",
     "output_type": "stream",
     "text": [
      "9\n"
     ]
    }
   ],
   "source": [
    "def find_largest_element(lst):\n",
    "   \n",
    "    largest = lst[0]\n",
    "\n",
    "\n",
    "    for num in lst[1:]:\n",
    "        \n",
    "        if num > largest:\n",
    "            largest = num\n",
    "\n",
    "    return largest\n",
    "\n",
    "\n",
    "\n",
    "numbers = [4, 2, 9, 7, 5, 1, 8]\n",
    "largest_number = find_largest_element(numbers)\n",
    "print(largest_number)  \n"
   ]
  },
  {
   "cell_type": "markdown",
   "id": "80de3b8a-12df-46a3-afaa-fabbde6e7310",
   "metadata": {},
   "source": [
    "#### 4. Implement a function to count the occurrence of each element in a list."
   ]
  },
  {
   "cell_type": "code",
   "execution_count": 4,
   "id": "5c33f8a4-24d0-4940-b683-a2762521de10",
   "metadata": {},
   "outputs": [
    {
     "name": "stdout",
     "output_type": "stream",
     "text": [
      "{1: 2, 2: 3, 3: 2, 4: 2, 5: 1}\n"
     ]
    }
   ],
   "source": [
    "def count_occurrences(lst):\n",
    "   \n",
    "    counts = {}\n",
    "\n",
    "  \n",
    "    for element in lst:\n",
    "\n",
    "        if element in counts:\n",
    "            counts[element] += 1\n",
    "\n",
    "        else:\n",
    "            counts[element] = 1\n",
    "\n",
    "    return counts\n",
    "\n",
    "\n",
    "\n",
    "numbers = [1, 2, 3, 2, 4, 1, 3, 2, 4, 5]\n",
    "occurrences = count_occurrences(numbers)\n",
    "print(occurrences) \n"
   ]
  },
  {
   "cell_type": "markdown",
   "id": "48a68864-18ab-49c0-b4b9-d8f6c845bbc0",
   "metadata": {},
   "source": [
    "#### 5. Write a Python program to find the second largest number in a list."
   ]
  },
  {
   "cell_type": "code",
   "execution_count": 5,
   "id": "f0e695e2-bed8-4a7b-ae7e-cb1de620c9bb",
   "metadata": {},
   "outputs": [
    {
     "name": "stdout",
     "output_type": "stream",
     "text": [
      "8\n"
     ]
    }
   ],
   "source": [
    "def find_second_largest(lst):\n",
    "   \n",
    "    if len(lst) < 2:\n",
    "        return None  \n",
    "\n",
    " \n",
    "    largest = max(lst[0], lst[1])\n",
    "    second_largest = min(lst[0], lst[1])\n",
    "\n",
    "\n",
    "    for num in lst[2:]:\n",
    "        if num > largest:\n",
    "            second_largest = largest\n",
    "            largest = num\n",
    "        elif num > second_largest and num != largest:\n",
    "            second_largest = num\n",
    "\n",
    "    return second_largest\n",
    "\n",
    "\n",
    "numbers = [4, 2, 9, 7, 5, 1, 8]\n",
    "second_largest_number = find_second_largest(numbers)\n",
    "print(second_largest_number)  \n"
   ]
  },
  {
   "cell_type": "markdown",
   "id": "9f372037-75ad-4966-bcf2-e347bb05d749",
   "metadata": {},
   "source": [
    "#### 6. Implement a function to remove duplicate elements from a list."
   ]
  },
  {
   "cell_type": "code",
   "execution_count": 6,
   "id": "79e931c5-6f60-4bf0-ae76-b8303b255efb",
   "metadata": {},
   "outputs": [
    {
     "name": "stdout",
     "output_type": "stream",
     "text": [
      "[1, 2, 3, 4, 5]\n"
     ]
    }
   ],
   "source": [
    "def remove_duplicates(lst):\n",
    "    \n",
    "    unique_elements = set(lst)\n",
    "    \n",
    "   \n",
    "    result = list(unique_elements)\n",
    "    \n",
    "    return result\n",
    "\n",
    "\n",
    "\n",
    "numbers = [1, 2, 3, 2, 4, 1, 3, 2, 4, 5]\n",
    "result = remove_duplicates(numbers)\n",
    "print(result)  "
   ]
  },
  {
   "cell_type": "markdown",
   "id": "5f996a19-6c2c-41ba-8a4b-90175e207c29",
   "metadata": {},
   "source": [
    "#### 7. Write a program to calculate the factorial of a given number."
   ]
  },
  {
   "cell_type": "code",
   "execution_count": 7,
   "id": "b7e93a7e-1923-41f3-b9df-5ef3d39e4eca",
   "metadata": {},
   "outputs": [
    {
     "name": "stdout",
     "output_type": "stream",
     "text": [
      "120\n"
     ]
    }
   ],
   "source": [
    "def factorial(n):\n",
    "    if n < 0:\n",
    "        return None  \n",
    "    elif n == 0 or n == 1:\n",
    "        return 1  \n",
    "    else:\n",
    "        result = 1\n",
    "        for i in range(2, n + 1):\n",
    "            result *= i\n",
    "        return result\n",
    "\n",
    "\n",
    "number = 5\n",
    "result = factorial(number)\n",
    "print(result) \n"
   ]
  },
  {
   "cell_type": "markdown",
   "id": "b258c198-3bbc-4647-961b-4dcea2331303",
   "metadata": {},
   "source": [
    "#### 8. Implement a function to check if a given number is prime."
   ]
  },
  {
   "cell_type": "code",
   "execution_count": 8,
   "id": "b664d045-6dd4-4225-b9f5-7b5fee333f3e",
   "metadata": {},
   "outputs": [
    {
     "name": "stdout",
     "output_type": "stream",
     "text": [
      "True\n"
     ]
    }
   ],
   "source": [
    "import math\n",
    "\n",
    "def is_prime(n):\n",
    "    if n < 2:\n",
    "        return False \n",
    "\n",
    "    \n",
    "    for i in range(2, int(math.sqrt(n)) + 1):\n",
    "        if n % i == 0:\n",
    "            return False  \n",
    "\n",
    "    return True  \n",
    "\n",
    "\n",
    "number = 17\n",
    "is_number_prime = is_prime(number)\n",
    "print(is_number_prime)  "
   ]
  },
  {
   "cell_type": "markdown",
   "id": "3ca475e9-6240-4ea3-bf78-56bbfd27258d",
   "metadata": {},
   "source": [
    "#### 9. Write a Python program to sort a list of integers in ascending order."
   ]
  },
  {
   "cell_type": "code",
   "execution_count": 9,
   "id": "c6ac2265-24cf-488b-b9dc-4e4ff60c309e",
   "metadata": {},
   "outputs": [
    {
     "name": "stdout",
     "output_type": "stream",
     "text": [
      "[1, 2, 3, 5, 8, 9]\n",
      "[1, 2, 3, 5, 8, 9]\n"
     ]
    }
   ],
   "source": [
    "numbers = [5, 2, 8, 1, 9, 3]\n",
    "numbers.sort()\n",
    "print(numbers)  \n",
    "\n",
    "numbers = [5, 2, 8, 1, 9, 3]\n",
    "sorted_numbers = sorted(numbers)\n",
    "print(sorted_numbers) \n",
    "\n"
   ]
  },
  {
   "cell_type": "markdown",
   "id": "8a208ab3-240c-49d1-ba49-448c148d5866",
   "metadata": {},
   "source": [
    "#### 10. Implement a function to find the sum of all numbers in a list."
   ]
  },
  {
   "cell_type": "code",
   "execution_count": 10,
   "id": "334fa167-17f4-4399-9715-8fcd8fbabc9c",
   "metadata": {},
   "outputs": [
    {
     "name": "stdout",
     "output_type": "stream",
     "text": [
      "15\n"
     ]
    }
   ],
   "source": [
    "def sum_of_numbers(numbers):\n",
    "    total = 0\n",
    "    for number in numbers:\n",
    "        total += number\n",
    "    return total\n",
    "\n",
    "\n",
    "\n",
    "numbers = [1, 2, 3, 4, 5]\n",
    "result = sum_of_numbers(numbers)\n",
    "print(result) \n"
   ]
  },
  {
   "cell_type": "markdown",
   "id": "fdb9e159-9e5e-4675-a628-e6f82ea9b234",
   "metadata": {},
   "source": [
    "#### 11. Write a program to find the common elements between two lists."
   ]
  },
  {
   "cell_type": "code",
   "execution_count": 2,
   "id": "aa15cf1e-2ffe-45d7-9540-0d8da4d48c39",
   "metadata": {},
   "outputs": [
    {
     "name": "stdout",
     "output_type": "stream",
     "text": [
      "[4, 5]\n"
     ]
    }
   ],
   "source": [
    "def find_common_elements(list1, list2):\n",
    "    common_elements = []\n",
    "    for x in list1:\n",
    "        if x in list2 and x not in common_elements:\n",
    "            common_elements.append(x)\n",
    "    return common_elements\n",
    "\n",
    "list1 = [1, 2, 3, 4, 5]\n",
    "list2 = [4, 5, 6, 7, 8]\n",
    "result = find_common_elements(list1, list2)\n",
    "print(result) \n"
   ]
  },
  {
   "cell_type": "markdown",
   "id": "a37bd09a-46de-4db7-a7c5-cc12f92872b8",
   "metadata": {},
   "source": [
    "#### 12. Implement a function to check if a given string is an anagram of another string."
   ]
  },
  {
   "cell_type": "code",
   "execution_count": 4,
   "id": "2dca486f-5fec-455c-829b-a07bb9c3c0fb",
   "metadata": {},
   "outputs": [
    {
     "name": "stdout",
     "output_type": "stream",
     "text": [
      "True\n"
     ]
    }
   ],
   "source": [
    "def is_anagram(str1, str2):\n",
    "    str1 = str1.lower().replace(\" \", \"\")\n",
    "    str2 = str2.lower().replace(\" \", \"\")\n",
    "    if len(str1) != len(str2):\n",
    "        return False\n",
    "    str1_list = list(str1)\n",
    "    str2_list = list(str2)\n",
    "    str1_list.sort()\n",
    "    str2_list.sort()\n",
    "    for i in range(len(str1_list)):\n",
    "        if str1_list[i] != str2_list[i]:\n",
    "            return False\n",
    "    return True\n",
    "\n",
    "string1 = \"listen\"\n",
    "string2 = \"silent\"\n",
    "result = is_anagram(string1, string2)\n",
    "print(result)  "
   ]
  },
  {
   "cell_type": "markdown",
   "id": "db98d16c-f2af-4dc6-b27e-3000266d48ea",
   "metadata": {},
   "source": [
    "#### 13. Write a Python program to generate all permutations of a given string."
   ]
  },
  {
   "cell_type": "code",
   "execution_count": 6,
   "id": "2481f5f7-4e34-4f90-a243-a4a0eb05b75d",
   "metadata": {},
   "outputs": [
    {
     "name": "stdout",
     "output_type": "stream",
     "text": [
      "abc\n",
      "acb\n",
      "bac\n",
      "bca\n",
      "cab\n",
      "cba\n"
     ]
    }
   ],
   "source": [
    "from itertools import permutations\n",
    "def generate_permutations(string):\n",
    "    \n",
    "    perms = permutations(string)\n",
    "    \n",
    "    for perm in perms:\n",
    "        print(''.join(perm))\n",
    "\n",
    "string = \"abc\"\n",
    "generate_permutations(string)\n"
   ]
  },
  {
   "cell_type": "markdown",
   "id": "ac79522f-1c8c-4282-9d49-653759c20869",
   "metadata": {},
   "source": [
    "#### 14. Implement a function to calculate the Fibonacci sequence up to a given number of terms."
   ]
  },
  {
   "cell_type": "code",
   "execution_count": 8,
   "id": "a1b48c4d-ed78-48f2-9bcc-714d91a7af79",
   "metadata": {},
   "outputs": [
    {
     "name": "stdout",
     "output_type": "stream",
     "text": [
      "[0, 1, 1, 2, 3, 5, 8, 13, 21, 34]\n"
     ]
    }
   ],
   "source": [
    "def calculate_fibonacci(num_terms):\n",
    "    fib_sequence = []\n",
    "    if num_terms <= 0:\n",
    "        return fib_sequence\n",
    "    elif num_terms == 1:\n",
    "        fib_sequence.append(0)\n",
    "        return fib_sequence\n",
    "    elif num_terms == 2:\n",
    "        fib_sequence.extend([0, 1])\n",
    "        return fib_sequence\n",
    "    first, second = 0, 1\n",
    "    fib_sequence.extend([first, second])\n",
    "    for _ in range(num_terms - 2):\n",
    "        next_term = first + second\n",
    "        first = second\n",
    "        second = next_term\n",
    "        fib_sequence.append(next_term)\n",
    "    return fib_sequence\n",
    "\n",
    "num_terms = 10\n",
    "fibonacci_sequence = calculate_fibonacci(num_terms)\n",
    "print(fibonacci_sequence)  \n"
   ]
  },
  {
   "cell_type": "markdown",
   "id": "d75e73c0-5c4d-4c2b-b44c-11969d4e0759",
   "metadata": {},
   "source": [
    "#### 15. Write a program to find the median of a list of numbers."
   ]
  },
  {
   "cell_type": "code",
   "execution_count": 10,
   "id": "225d683c-dd82-4ff0-ba3e-81e2c9143bea",
   "metadata": {},
   "outputs": [
    {
     "name": "stdout",
     "output_type": "stream",
     "text": [
      "4.5\n"
     ]
    }
   ],
   "source": [
    "def find_median(numbers):\n",
    "    sorted_numbers = sorted(numbers)\n",
    "    length = len(sorted_numbers)\n",
    "    if length % 2 == 1:\n",
    "        median = sorted_numbers[length // 2]\n",
    "    else:\n",
    "        median = (sorted_numbers[length // 2] + sorted_numbers[length // 2 - 1]) / 2\n",
    "    return median\n",
    "\n",
    "numbers = [7, 2, 5, 1, 8, 4, 6, 3]\n",
    "median = find_median(numbers)\n",
    "print(median)  "
   ]
  },
  {
   "cell_type": "markdown",
   "id": "64097506-99c3-46e3-b22d-aea55a4f15fa",
   "metadata": {},
   "source": [
    "#### 16. Implement a function to check if a given list is sorted in non-decreasing order."
   ]
  },
  {
   "cell_type": "code",
   "execution_count": 12,
   "id": "c43353da-c2b4-4309-98bb-5c9e811eaa54",
   "metadata": {},
   "outputs": [
    {
     "name": "stdout",
     "output_type": "stream",
     "text": [
      "True\n",
      "False\n"
     ]
    }
   ],
   "source": [
    "def is_sorted(numbers):\n",
    "    for i in range(len(numbers) - 1):\n",
    "        if numbers[i] > numbers[i + 1]:\n",
    "            return False\n",
    "    return True\n",
    "\n",
    "list1 = [1, 2, 3, 4, 5]\n",
    "list2 = [4, 2, 5, 1, 6]\n",
    "print(is_sorted(list1)) \n",
    "print(is_sorted(list2))  \n"
   ]
  },
  {
   "cell_type": "markdown",
   "id": "d7a62269-064e-4bd8-ae70-5c4a722a64fd",
   "metadata": {},
   "source": [
    "#### 17. Write a Python program to find the intersection of two lists."
   ]
  },
  {
   "cell_type": "code",
   "execution_count": 14,
   "id": "de6da6d5-a861-4d55-86ed-d98274fbba1a",
   "metadata": {},
   "outputs": [
    {
     "name": "stdout",
     "output_type": "stream",
     "text": [
      "[4, 5]\n"
     ]
    }
   ],
   "source": [
    "def find_intersection(list1, list2):\n",
    "    set1 = set(list1)\n",
    "    set2 = set(list2)\n",
    "    intersection = set1.intersection(set2)\n",
    "    return list(intersection)\n",
    "\n",
    "list1 = [1, 2, 3, 4, 5]\n",
    "list2 = [4, 5, 6, 7, 8]\n",
    "result = find_intersection(list1, list2)\n",
    "print(result) \n"
   ]
  },
  {
   "cell_type": "markdown",
   "id": "aeaecb47-5eae-4010-99c5-37a7ea08161d",
   "metadata": {},
   "source": [
    "#### 18. Implement a function to find the maximum subarray sum in a given list."
   ]
  },
  {
   "cell_type": "code",
   "execution_count": 16,
   "id": "3aefd18c-5121-4878-b5a6-37b120b75a14",
   "metadata": {},
   "outputs": [
    {
     "name": "stdout",
     "output_type": "stream",
     "text": [
      "6\n"
     ]
    }
   ],
   "source": [
    "def max_subarray_sum(numbers):\n",
    "    max_sum = current_sum = numbers[0]\n",
    "    for num in numbers[1:]:\n",
    "        current_sum = max(num, current_sum + num)\n",
    "        max_sum = max(max_sum, current_sum)\n",
    "    return max_sum\n",
    "\n",
    "list1 = [-2, 1, -3, 4, -1, 2, 1, -5, 4]\n",
    "result = max_subarray_sum(list1)\n",
    "print(result)  \n"
   ]
  },
  {
   "cell_type": "markdown",
   "id": "ee0c410e-29fc-4c8e-9c6f-74bf58e44500",
   "metadata": {},
   "source": [
    "#### 19. Write a program to remove all vowels from a given string."
   ]
  },
  {
   "cell_type": "code",
   "execution_count": 18,
   "id": "a53f9c10-daf3-4993-9db0-d28365095dae",
   "metadata": {},
   "outputs": [
    {
     "name": "stdout",
     "output_type": "stream",
     "text": [
      "Hll, Wrld!\n"
     ]
    }
   ],
   "source": [
    "def remove_vowels(string):\n",
    "    vowels = \"aeiou\"\n",
    "    result = \"\"\n",
    "    for char in string:\n",
    "        if char.lower() not in vowels:\n",
    "            result += char\n",
    "    return result\n",
    "\n",
    "input_string = \"Hello, World!\"\n",
    "modified_string = remove_vowels(input_string)\n",
    "print(modified_string)  \n"
   ]
  },
  {
   "cell_type": "markdown",
   "id": "e3dca80e-1f49-459f-b08d-532788ca98c5",
   "metadata": {},
   "source": [
    "#### 20. Implement a function to reverse the order of words in a given sentence."
   ]
  },
  {
   "cell_type": "code",
   "execution_count": 20,
   "id": "4f219208-c09e-44a7-8d3e-d10b642b5465",
   "metadata": {},
   "outputs": [
    {
     "name": "stdout",
     "output_type": "stream",
     "text": [
      "Python. to Welcome world! Hello,\n"
     ]
    }
   ],
   "source": [
    "def reverse_sentence(sentence):\n",
    "    words = sentence.split()\n",
    "    words.reverse()\n",
    "    reversed_sentence = ' '.join(words)\n",
    "    return reversed_sentence\n",
    "\n",
    "input_sentence = \"Hello, world! Welcome to Python.\"\n",
    "reversed_sentence = reverse_sentence(input_sentence)\n",
    "print(reversed_sentence)  \n"
   ]
  },
  {
   "cell_type": "markdown",
   "id": "e170a70f-8c4e-4113-8252-6688293c1d2b",
   "metadata": {},
   "source": [
    "#### 21. Write a Python program to check if two strings are anagrams of each other."
   ]
  },
  {
   "cell_type": "code",
   "execution_count": 22,
   "id": "2f69850f-ce14-46d3-998d-9c4400535c70",
   "metadata": {},
   "outputs": [
    {
     "name": "stdout",
     "output_type": "stream",
     "text": [
      "True\n",
      "False\n"
     ]
    }
   ],
   "source": [
    "def are_anagrams(str1, str2):\n",
    "    str1 = str1.lower().replace(\" \", \"\")\n",
    "    str2 = str2.lower().replace(\" \", \"\")\n",
    "    if len(str1) != len(str2):\n",
    "        return False\n",
    "    sorted_str1 = sorted(list(str1))\n",
    "    sorted_str2 = sorted(list(str2))\n",
    "    return sorted_str1 == sorted_str2\n",
    "\n",
    "string1 = \"listen\"\n",
    "string2 = \"silent\"\n",
    "print(are_anagrams(string1, string2))  \n",
    "string3 = \"hello\"\n",
    "string4 = \"world\"\n",
    "print(are_anagrams(string3, string4))  \n"
   ]
  },
  {
   "cell_type": "markdown",
   "id": "efcfb1e9-f90b-42dc-80e6-08b65501e42e",
   "metadata": {},
   "source": [
    "#### 22. Implement a function to find the first non-repeating character in a string."
   ]
  },
  {
   "cell_type": "code",
   "execution_count": 24,
   "id": "876c75ca-0948-44d8-aa5a-fa1ad5218d29",
   "metadata": {},
   "outputs": [
    {
     "name": "stdout",
     "output_type": "stream",
     "text": [
      "h\n",
      "b\n",
      "None\n"
     ]
    }
   ],
   "source": [
    "def first_non_repeating_character(string):\n",
    "    char_frequency = {}\n",
    "    \n",
    "    for char in string:\n",
    "        char_frequency[char] = char_frequency.get(char, 0) + 1\n",
    "    \n",
    "    for char in string:\n",
    "        if char_frequency[char] == 1:\n",
    "            return char\n",
    "    return None\n",
    "\n",
    "input_string = \"hello\"\n",
    "result = first_non_repeating_character(input_string)\n",
    "print(result)  \n",
    "input_string2 = \"aabccdd\"\n",
    "result2 = first_non_repeating_character(input_string2)\n",
    "print(result2)  \n",
    "input_string3 = \"aabbcc\"\n",
    "result3 = first_non_repeating_character(input_string3)\n",
    "print(result3) \n"
   ]
  },
  {
   "cell_type": "markdown",
   "id": "b8821d25-bded-4c89-b652-00200248618f",
   "metadata": {},
   "source": [
    "#### 23. Write a program to find the prime factors of a given number."
   ]
  },
  {
   "cell_type": "code",
   "execution_count": 26,
   "id": "9af4f39e-4fa9-47f7-a796-f57fbfb4b991",
   "metadata": {},
   "outputs": [
    {
     "name": "stdout",
     "output_type": "stream",
     "text": [
      "[2, 3, 7, 84]\n",
      "[97]\n",
      "[2, 3, 5, 120]\n"
     ]
    }
   ],
   "source": [
    "import math\n",
    "def prime_factors(number):\n",
    "    factors = []\n",
    "    \n",
    "    for i in range(2, int(math.sqrt(number)) + 1):\n",
    "        if number % i == 0:\n",
    "            is_prime = True\n",
    "            for j in range(2, int(math.sqrt(i)) + 1):\n",
    "                if i % j == 0:\n",
    "                    is_prime = False\n",
    "                    break\n",
    "            if is_prime:\n",
    "                factors.append(i)\n",
    "    \n",
    "    if number > 1:\n",
    "        factors.append(number)\n",
    "    return factors\n",
    "\n",
    "input_number = 84\n",
    "result = prime_factors(input_number)\n",
    "print(result)  \n",
    "input_number2 = 97\n",
    "result2 = prime_factors(input_number2)\n",
    "print(result2) \n",
    "input_number3 = 120\n",
    "result3 = prime_factors(input_number3)\n",
    "print(result3)  \n"
   ]
  },
  {
   "cell_type": "markdown",
   "id": "006d4e85-9816-4907-b253-81f8d895adf3",
   "metadata": {},
   "source": [
    "#### 24. Implement a function to check if a given number is a power of two."
   ]
  },
  {
   "cell_type": "code",
   "execution_count": 28,
   "id": "e53a5323-2879-46cc-8eb5-2574c3d5b389",
   "metadata": {},
   "outputs": [
    {
     "name": "stdout",
     "output_type": "stream",
     "text": [
      "True\n",
      "False\n",
      "True\n"
     ]
    }
   ],
   "source": [
    "def is_power_of_two(number):\n",
    "    if number <= 0:\n",
    "        return False\n",
    "    return (number & (number - 1)) == 0\n",
    "\n",
    "input_number = 16\n",
    "result = is_power_of_two(input_number)\n",
    "print(result)  \n",
    "input_number2 = 10\n",
    "result2 = is_power_of_two(input_number2)\n",
    "print(result2)  \n",
    "input_number3 = 32\n",
    "result3 = is_power_of_two(input_number3)\n",
    "print(result3)  \n"
   ]
  },
  {
   "cell_type": "markdown",
   "id": "9a173863-1ba3-4ae2-9ce6-167a846f4168",
   "metadata": {},
   "source": [
    "#### 25. Write a Python program to merge two sorted lists into a single sorted list."
   ]
  },
  {
   "cell_type": "code",
   "execution_count": 30,
   "id": "311f5fa8-b433-4a20-8b8f-6d90119d061e",
   "metadata": {},
   "outputs": [
    {
     "name": "stdout",
     "output_type": "stream",
     "text": [
      "[1, 2, 3, 4, 5, 6]\n",
      "[1, 2, 3, 4, 6, 7, 8]\n"
     ]
    }
   ],
   "source": [
    "def merge_sorted_lists(list1, list2):\n",
    "    merged_list = []\n",
    "    i = 0\n",
    "    j = 0\n",
    "    while i < len(list1) and j < len(list2):\n",
    "        if list1[i] <= list2[j]:\n",
    "            merged_list.append(list1[i])\n",
    "            i += 1\n",
    "        else:\n",
    "            merged_list.append(list2[j])\n",
    "            j += 1\n",
    "    if i < len(list1):\n",
    "        merged_list.extend(list1[i:])\n",
    "    if j < len(list2):\n",
    "        merged_list.extend(list2[j:])\n",
    "    return merged_list\n",
    "\n",
    "input_list1 = [1, 3, 5]\n",
    "input_list2 = [2, 4, 6]\n",
    "result = merge_sorted_lists(input_list1, input_list2)\n",
    "print(result)  \n",
    "input_list3 = [1, 4, 7]\n",
    "input_list4 = [2, 3, 6, 8]\n",
    "result2 = merge_sorted_lists(input_list3, input_list4)\n",
    "print(result2) \n"
   ]
  },
  {
   "cell_type": "markdown",
   "id": "deb56544-7936-41ce-b572-b5c24c8b2d0f",
   "metadata": {},
   "source": [
    "#### 26. Implement a function to find the mode of a list of numbers."
   ]
  },
  {
   "cell_type": "code",
   "execution_count": 32,
   "id": "3c4c2ad1-0933-4330-ab02-ba27d4670c6a",
   "metadata": {},
   "outputs": [
    {
     "name": "stdout",
     "output_type": "stream",
     "text": [
      "[4]\n",
      "[3, 4, 5]\n"
     ]
    }
   ],
   "source": [
    "from collections import Counter\n",
    "def find_mode(numbers):\n",
    "    frequency_dict = Counter(numbers)\n",
    "    max_frequency = max(frequency_dict.values())\n",
    "    modes = [number for number, frequency in frequency_dict.items() if frequency == max_frequency]\n",
    "    return modes\n",
    "\n",
    "input_numbers = [1, 2, 3, 3, 4, 4, 4, 5]\n",
    "result = find_mode(input_numbers)\n",
    "print(result) \n",
    "input_numbers2 = [1, 2, 2, 3, 3, 3, 4, 4, 4, 5, 5, 5]\n",
    "result2 = find_mode(input_numbers2)\n",
    "print(result2)  \n"
   ]
  },
  {
   "cell_type": "markdown",
   "id": "9a923ec4-b4a9-40f8-a35c-3a4ce95e0e66",
   "metadata": {},
   "source": [
    "#### 27. Write a program to find the greatest common divisor (GCD) of two numbers."
   ]
  },
  {
   "cell_type": "code",
   "execution_count": 34,
   "id": "a5917481-6bd8-438d-aa0e-b0e3f48352aa",
   "metadata": {},
   "outputs": [
    {
     "name": "stdout",
     "output_type": "stream",
     "text": [
      "12\n",
      "12\n"
     ]
    }
   ],
   "source": [
    "def gcd(a, b):\n",
    "    if b == 0:\n",
    "        return a\n",
    "    else:\n",
    "        return gcd(b, a % b)\n",
    "\n",
    "number1 = 48\n",
    "number2 = 60\n",
    "result = gcd(number1, number2)\n",
    "print(result) \n",
    "number3 = 84\n",
    "number4 = 36\n",
    "result2 = gcd(number3, number4)\n",
    "print(result2)  \n"
   ]
  },
  {
   "cell_type": "markdown",
   "id": "944d84da-b5ab-452d-98d5-63f0ba5a38d9",
   "metadata": {},
   "source": [
    "#### 28. Implement a function to calculate the square root of a given number."
   ]
  },
  {
   "cell_type": "code",
   "execution_count": 36,
   "id": "d098bf41-3d02-4ec6-a80d-1c8d218ca80d",
   "metadata": {},
   "outputs": [
    {
     "name": "stdout",
     "output_type": "stream",
     "text": [
      "4.0\n",
      "1.414213562373095\n"
     ]
    }
   ],
   "source": [
    "def sqrt(number):\n",
    "    if number < 0:\n",
    "        raise ValueError(\"Square root is not defined for negative numbers.\")\n",
    "    if number == 0:\n",
    "        return 0\n",
    "    \n",
    "    guess = number / 2\n",
    "    \n",
    "    while True:\n",
    "        new_guess = (guess + number / guess) / 2\n",
    "        if abs(new_guess - guess) < 1e-9: \n",
    "            return new_guess\n",
    "        guess = new_guess\n",
    "\n",
    "input_number = 16\n",
    "result = sqrt(input_number)\n",
    "print(result)  \n",
    "input_number2 = 2\n",
    "result2 = sqrt(input_number2)\n",
    "print(result2) \n"
   ]
  },
  {
   "cell_type": "markdown",
   "id": "929b24d3-4f1b-4773-8008-18045818d494",
   "metadata": {},
   "source": [
    "#### 29. Write a Python program to check if a given string is a valid palindrome ignoring non-alphanumeric characters."
   ]
  },
  {
   "cell_type": "code",
   "execution_count": 38,
   "id": "0e971d0c-6c29-48dd-9358-d761cde92da6",
   "metadata": {},
   "outputs": [
    {
     "name": "stdout",
     "output_type": "stream",
     "text": [
      "True\n",
      "False\n"
     ]
    }
   ],
   "source": [
    "import re\n",
    "def is_valid_palindrome(string):\n",
    "    \n",
    "    alphanumeric_string = re.sub(r'[^a-zA-Z0-9]', '', string).lower()\n",
    "    \n",
    "    return alphanumeric_string == alphanumeric_string[::-1]\n",
    "\n",
    "input_string1 = \"A man, a plan, a canal: Panama\"\n",
    "result1 = is_valid_palindrome(input_string1)\n",
    "print(result1)  \n",
    "input_string2 = \"race a car\"\n",
    "result2 = is_valid_palindrome(input_string2)\n",
    "print(result2)  \n"
   ]
  },
  {
   "cell_type": "markdown",
   "id": "60126896-f6b0-49ad-9019-1b863aa3bb58",
   "metadata": {},
   "source": [
    "#### 30. Implement a function to find the minimum element in a rotated sorted list."
   ]
  },
  {
   "cell_type": "code",
   "execution_count": 40,
   "id": "f82abf6e-4710-43ce-9e6e-ff0bd6fb0f40",
   "metadata": {},
   "outputs": [
    {
     "name": "stdout",
     "output_type": "stream",
     "text": [
      "0\n",
      "1\n"
     ]
    }
   ],
   "source": [
    "def find_minimum(nums):\n",
    "    left = 0\n",
    "    right = len(nums) - 1\n",
    "    while left < right:\n",
    "        mid = left + (right - left) // 2\n",
    "        if nums[mid] > nums[right]:\n",
    "            \n",
    "            left = mid + 1\n",
    "        else:\n",
    "            \n",
    "            right = mid\n",
    "    return nums[left]\n",
    "\n",
    "input_list1 = [4, 5, 6, 7, 0, 1, 2]\n",
    "result1 = find_minimum(input_list1)\n",
    "print(result1)  \n",
    "input_list2 = [3, 4, 5, 1, 2]\n",
    "result2 = find_minimum(input_list2)\n",
    "print(result2) \n"
   ]
  },
  {
   "cell_type": "markdown",
   "id": "29e12dda-2469-4d25-a4df-0df0c261b9d8",
   "metadata": {},
   "source": [
    "#### 31. Write a program to find the sum of all even numbers in a list."
   ]
  },
  {
   "cell_type": "code",
   "execution_count": 42,
   "id": "2153a1e7-aadf-47bd-b49a-d89325c6ceb2",
   "metadata": {},
   "outputs": [
    {
     "name": "stdout",
     "output_type": "stream",
     "text": [
      "30\n"
     ]
    }
   ],
   "source": [
    "def sum_even_numbers(numbers):\n",
    "    even_numbers = [num for num in numbers if num % 2 == 0]\n",
    "    return sum(even_numbers)\n",
    "\n",
    "input_list = [1, 2, 3, 4, 5, 6, 7, 8, 9, 10]\n",
    "result = sum_even_numbers(input_list)\n",
    "print(result)  \n"
   ]
  },
  {
   "cell_type": "markdown",
   "id": "e2b8b7e3-60fc-4844-bfc3-25adfda49da4",
   "metadata": {},
   "source": [
    "#### 32. Implement a function to calculate the power of a number using recursion."
   ]
  },
  {
   "cell_type": "code",
   "execution_count": 44,
   "id": "fa4b04cf-6fef-4efd-b5f4-d96ed4e2f160",
   "metadata": {},
   "outputs": [
    {
     "name": "stdout",
     "output_type": "stream",
     "text": [
      "8\n",
      "0.04\n"
     ]
    }
   ],
   "source": [
    "def power(base, exponent):\n",
    "    if exponent == 0:\n",
    "        return 1\n",
    "    elif exponent > 0:\n",
    "        return base * power(base, exponent - 1)\n",
    "    else:\n",
    "        return 1 / power(base, -exponent)\n",
    "\n",
    "base = 2\n",
    "exponent = 3\n",
    "result = power(base, exponent)\n",
    "print(result)  \n",
    "base2 = 5\n",
    "exponent2 = -2\n",
    "result2 = power(base2, exponent2)\n",
    "print(result2)  \n"
   ]
  },
  {
   "cell_type": "markdown",
   "id": "0b368119-95c0-414c-b7ab-8844e77bc489",
   "metadata": {},
   "source": [
    "#### 33. Write a Python program to remove duplicates from a list while preserving the order."
   ]
  },
  {
   "cell_type": "code",
   "execution_count": 46,
   "id": "6ead3fc4-f92f-4bff-ac12-fbec0c2028d7",
   "metadata": {},
   "outputs": [
    {
     "name": "stdout",
     "output_type": "stream",
     "text": [
      "[1, 2, 3, 4, 5, 6]\n"
     ]
    }
   ],
   "source": [
    "def remove_duplicates(input_list):\n",
    "    unique_list = []\n",
    "    for item in input_list:\n",
    "        if item not in unique_list:\n",
    "            unique_list.append(item)\n",
    "    return unique_list\n",
    "\n",
    "input_list = [1, 2, 3, 2, 4, 3, 5, 6, 1]\n",
    "result = remove_duplicates(input_list)\n",
    "print(result)  \n"
   ]
  },
  {
   "cell_type": "markdown",
   "id": "b325faff-2a6d-4056-a2cf-ba6687245a9e",
   "metadata": {},
   "source": [
    "#### 34. Implement a function to find the longest common prefix among a list of strings."
   ]
  },
  {
   "cell_type": "code",
   "execution_count": 48,
   "id": "ed1017d7-41f8-4c82-b477-c6614a5847e5",
   "metadata": {},
   "outputs": [
    {
     "name": "stdout",
     "output_type": "stream",
     "text": [
      "fl\n",
      "\n"
     ]
    }
   ],
   "source": [
    "def longest_common_prefix(strings):\n",
    "    if not strings:\n",
    "        return \"\"\n",
    "    prefix = strings[0]  \n",
    "    for string in strings[1:]:\n",
    "        \n",
    "        while not string.startswith(prefix):\n",
    "            prefix = prefix[:-1]  \n",
    "            \n",
    "            if not prefix:\n",
    "                return \"\"\n",
    "    return prefix\n",
    "\n",
    "input_strings = [\"flower\", \"flow\", \"flight\"]\n",
    "result = longest_common_prefix(input_strings)\n",
    "print(result)  \n",
    "input_strings2 = [\"dog\", \"racecar\", \"car\"]\n",
    "result2 = longest_common_prefix(input_strings2)\n",
    "print(result2)  \n"
   ]
  },
  {
   "cell_type": "markdown",
   "id": "0f34d7de-ecf8-47fc-bac9-0c2380e8f739",
   "metadata": {},
   "source": [
    "#### 35. Write a program to check if a given number is a perfect square."
   ]
  },
  {
   "cell_type": "code",
   "execution_count": 50,
   "id": "747ced4e-120a-4747-ae75-9ccd60626cc5",
   "metadata": {},
   "outputs": [
    {
     "name": "stdout",
     "output_type": "stream",
     "text": [
      "True\n",
      "False\n"
     ]
    }
   ],
   "source": [
    "import math\n",
    "def is_perfect_square(number):\n",
    "    if number < 0:\n",
    "        return False\n",
    "    sqrt = math.isqrt(number)\n",
    "    return sqrt * sqrt == number\n",
    "\n",
    "input_number1 = 25\n",
    "result1 = is_perfect_square(input_number1)\n",
    "print(result1)  \n",
    "input_number2 = 37\n",
    "result2 = is_perfect_square(input_number2)\n",
    "print(result2) \n"
   ]
  },
  {
   "cell_type": "markdown",
   "id": "e6c73798-126b-4439-a1f2-9755cb19a117",
   "metadata": {},
   "source": [
    "#### 36. Implement a function to calculate the product of all elements in a list."
   ]
  },
  {
   "cell_type": "code",
   "execution_count": 52,
   "id": "037757df-e89d-4a69-833c-0bd199d2bc0a",
   "metadata": {},
   "outputs": [
    {
     "name": "stdout",
     "output_type": "stream",
     "text": [
      "120\n"
     ]
    }
   ],
   "source": [
    "def calculate_product(numbers):\n",
    "    product = 1\n",
    "    for num in numbers:\n",
    "        product *= num\n",
    "    return product\n",
    "\n",
    "input_list = [1, 2, 3, 4, 5]\n",
    "result = calculate_product(input_list)\n",
    "print(result)  \n"
   ]
  },
  {
   "cell_type": "markdown",
   "id": "954b1b5b-2fe6-4ece-8e9a-4bb2452bb770",
   "metadata": {},
   "source": [
    "#### 37. Write a Python program to reverse the order of words in a sentence while preserving the word order."
   ]
  },
  {
   "cell_type": "code",
   "execution_count": 1,
   "id": "22225b10-76c4-45fe-bf96-38c00e44facc",
   "metadata": {},
   "outputs": [
    {
     "name": "stdout",
     "output_type": "stream",
     "text": [
      "you? are how Hello,\n"
     ]
    }
   ],
   "source": [
    "def reverse_sentence(sentence):\n",
    "    words = sentence.split()\n",
    "    reversed_words = words[::-1]\n",
    "    reversed_sentence = \" \".join(reversed_words)\n",
    "    return reversed_sentence\n",
    "\n",
    "input_sentence = \"Hello, how are you?\"\n",
    "result = reverse_sentence(input_sentence)\n",
    "print(result) \n"
   ]
  },
  {
   "cell_type": "markdown",
   "id": "582da0e4-7883-42f3-80e5-045f05675414",
   "metadata": {},
   "source": [
    "#### 38. Implement a function to find the missing number in a given list of consecutive numbers."
   ]
  },
  {
   "cell_type": "code",
   "execution_count": 2,
   "id": "aee5ce31-7bcd-4668-8c96-55df7abc8b00",
   "metadata": {},
   "outputs": [
    {
     "name": "stdout",
     "output_type": "stream",
     "text": [
      "4\n"
     ]
    }
   ],
   "source": [
    "def find_missing_number(numbers):\n",
    "    n = len(numbers) + 1  \n",
    "    expected_sum = (n * (n + 1)) // 2  \n",
    "    actual_sum = sum(numbers)  \n",
    "    missing_number = expected_sum - actual_sum\n",
    "    return missing_number\n",
    "\n",
    "input_list = [1, 2, 3, 5, 6, 7, 8, 9]\n",
    "result = find_missing_number(input_list)\n",
    "print(result)\n"
   ]
  },
  {
   "cell_type": "markdown",
   "id": "2d0c9a51-67bf-45e4-b554-2b666a70f297",
   "metadata": {},
   "source": [
    "#### 39. Write a program to find the sum of digits of a given number."
   ]
  },
  {
   "cell_type": "code",
   "execution_count": 3,
   "id": "8dd5a5f0-d53c-4903-974d-5f004c9358f3",
   "metadata": {},
   "outputs": [
    {
     "name": "stdout",
     "output_type": "stream",
     "text": [
      "15\n"
     ]
    }
   ],
   "source": [
    "def sum_of_digits(number):\n",
    "    sum = 0\n",
    "    while number > 0:\n",
    "        digit = number % 10\n",
    "        sum += digit\n",
    "        number //= 10\n",
    "    return sum\n",
    "\n",
    "input_number = 12345\n",
    "result = sum_of_digits(input_number)\n",
    "print(result) \n"
   ]
  },
  {
   "cell_type": "markdown",
   "id": "81d35874-cddf-4930-b3bd-e659bfcde1e4",
   "metadata": {},
   "source": [
    "#### 40. Implement a function to check if a given string is a valid palindrome considering case sensitivity."
   ]
  },
  {
   "cell_type": "code",
   "execution_count": 4,
   "id": "66e13156-074c-4e42-a74c-9a69f0bc955b",
   "metadata": {},
   "outputs": [
    {
     "name": "stdout",
     "output_type": "stream",
     "text": [
      "True\n",
      "False\n"
     ]
    }
   ],
   "source": [
    "def is_valid_palindrome(string):\n",
    "    reversed_string = string[::-1]\n",
    "    return string == reversed_string\n",
    "\n",
    "input_string1 = \"level\"\n",
    "result1 = is_valid_palindrome(input_string1)\n",
    "print(result1) \n",
    "input_string2 = \"Hello\"\n",
    "result2 = is_valid_palindrome(input_string2)\n",
    "print(result2) \n"
   ]
  },
  {
   "cell_type": "markdown",
   "id": "9476fdfb-559f-400a-9846-a9f3bec3c540",
   "metadata": {},
   "source": [
    "#### 41. Write a Python program to find the smallest missing positive integer in a list."
   ]
  },
  {
   "cell_type": "code",
   "execution_count": 5,
   "id": "e2e89ae0-b7eb-4304-aefb-5981d50a6d40",
   "metadata": {},
   "outputs": [
    {
     "name": "stdout",
     "output_type": "stream",
     "text": [
      "2\n",
      "3\n"
     ]
    }
   ],
   "source": [
    "def find_smallest_missing_positive(nums):\n",
    "    n = len(nums)\n",
    "    \n",
    "    for i in range(n):\n",
    "        while 1 <= nums[i] <= n and nums[i] != nums[nums[i] - 1]:\n",
    "            nums[nums[i] - 1], nums[i] = nums[i], nums[nums[i] - 1]\n",
    "    \n",
    "    for i in range(n):\n",
    "        if nums[i] != i + 1:\n",
    "            return i + 1\n",
    "    \n",
    "    return n + 1\n",
    "\n",
    "input_list = [3, 4, -1, 1]\n",
    "result = find_smallest_missing_positive(input_list)\n",
    "print(result)  \n",
    "input_list2 = [1, 2, 0]\n",
    "result2 = find_smallest_missing_positive(input_list2)\n",
    "print(result2)  \n"
   ]
  },
  {
   "cell_type": "markdown",
   "id": "4d907b43-fce8-4d38-bd3d-3103dc624892",
   "metadata": {},
   "source": [
    "#### 42. Implement a function to find the longest palindrome substring in a given string."
   ]
  },
  {
   "cell_type": "code",
   "execution_count": 6,
   "id": "7a73a50a-21b3-467b-826b-a55a89ba72e6",
   "metadata": {},
   "outputs": [
    {
     "name": "stdout",
     "output_type": "stream",
     "text": [
      "aba\n",
      "bb\n"
     ]
    }
   ],
   "source": [
    "def longest_palindrome_substring(string):\n",
    "    n = len(string)\n",
    "    table = [[False] * n for _ in range(n)]\n",
    "    \n",
    "    max_length = 1\n",
    "    start = 0\n",
    "    for i in range(n):\n",
    "        table[i][i] = True\n",
    "    \n",
    "    for i in range(n - 1):\n",
    "        if string[i] == string[i + 1]:\n",
    "            table[i][i + 1] = True\n",
    "            max_length = 2\n",
    "            start = i\n",
    "\n",
    "    for length in range(3, n + 1):\n",
    "        for i in range(n - length + 1):\n",
    "            j = i + length - 1\n",
    "            if string[i] == string[j] and table[i + 1][j - 1]:\n",
    "                table[i][j] = True\n",
    "                max_length = length\n",
    "                start = i\n",
    "    return string[start : start + max_length]\n",
    "\n",
    "input_string = \"babad\"\n",
    "result = longest_palindrome_substring(input_string)\n",
    "print(result)  \n",
    "input_string2 = \"cbbd\"\n",
    "result2 = longest_palindrome_substring(input_string2)\n",
    "print(result2) \n"
   ]
  },
  {
   "cell_type": "markdown",
   "id": "900d8559-5d67-4081-a00a-b5a02953d6f9",
   "metadata": {},
   "source": [
    "#### 43. Write a program to find the number of occurrences of a given element in a list."
   ]
  },
  {
   "cell_type": "code",
   "execution_count": 7,
   "id": "0ca3f996-0aa0-4f56-9c01-83986c03d80d",
   "metadata": {},
   "outputs": [
    {
     "name": "stdout",
     "output_type": "stream",
     "text": [
      "4\n"
     ]
    }
   ],
   "source": [
    "def count_occurrences(numbers, target):\n",
    "    return numbers.count(target)\n",
    "\n",
    "input_list = [1, 2, 3, 4, 2, 2, 5, 6, 2]\n",
    "target_element = 2\n",
    "result = count_occurrences(input_list, target_element)\n",
    "print(result)  \n"
   ]
  },
  {
   "cell_type": "markdown",
   "id": "a38d24fe-9a1f-4aa8-b547-f9b783e2eb60",
   "metadata": {},
   "source": [
    "#### 44. Implement a function to check if a given number is a perfect number."
   ]
  },
  {
   "cell_type": "code",
   "execution_count": 8,
   "id": "596fed55-1e11-4977-b179-3ee94d1cc6d4",
   "metadata": {},
   "outputs": [
    {
     "name": "stdout",
     "output_type": "stream",
     "text": [
      "True\n",
      "True\n",
      "False\n"
     ]
    }
   ],
   "source": [
    "def is_perfect_number(number):\n",
    "    if number <= 0:\n",
    "        return False\n",
    "    divisor_sum = 0\n",
    "    for i in range(1, number):\n",
    "        if number % i == 0:\n",
    "            divisor_sum += i\n",
    "    return divisor_sum == number\n",
    "\n",
    "input_number1 = 6\n",
    "result1 = is_perfect_number(input_number1)\n",
    "print(result1)  \n",
    "input_number2 = 28\n",
    "result2 = is_perfect_number(input_number2)\n",
    "print(result2)  \n",
    "input_number3 = 12\n",
    "result3 = is_perfect_number(input_number3)\n",
    "print(result3)  \n"
   ]
  },
  {
   "cell_type": "markdown",
   "id": "f4296553-5bf9-4ed5-b663-84e32fbbbd38",
   "metadata": {},
   "source": [
    "#### 45. Write a Python program to remove all duplicates from a string."
   ]
  },
  {
   "cell_type": "code",
   "execution_count": 9,
   "id": "a4f7bc8d-6e69-40a8-8bf5-59be070dc6d0",
   "metadata": {},
   "outputs": [
    {
     "name": "stdout",
     "output_type": "stream",
     "text": [
      "Ho,!erWl d\n"
     ]
    }
   ],
   "source": [
    "def remove_duplicates(string):\n",
    "    unique_chars = set(string)\n",
    "    result = ''.join(unique_chars)\n",
    "    return result\n",
    "\n",
    "input_string = \"Hello, World!\"\n",
    "result = remove_duplicates(input_string)\n",
    "print(result) \n"
   ]
  },
  {
   "cell_type": "markdown",
   "id": "318f49be-e434-4efe-a38c-fe2e93e14022",
   "metadata": {},
   "source": [
    "#### 46. Implement a function to find the first missing positive"
   ]
  },
  {
   "cell_type": "code",
   "execution_count": 10,
   "id": "f5bad3e3-f8cb-488a-b0ba-a16d12b243e0",
   "metadata": {},
   "outputs": [
    {
     "name": "stdout",
     "output_type": "stream",
     "text": [
      "2\n",
      "3\n"
     ]
    }
   ],
   "source": [
    "def find_first_missing_positive(nums):\n",
    "    n = len(nums)\n",
    "    \n",
    "    for i in range(n):\n",
    "        while 1 <= nums[i] <= n and nums[i] != nums[nums[i] - 1]:\n",
    "            nums[nums[i] - 1], nums[i] = nums[i], nums[nums[i] - 1]\n",
    "    \n",
    "    for i in range(n):\n",
    "        if nums[i] != i + 1:\n",
    "            return i + 1\n",
    "    \n",
    "    return n + 1\n",
    "\n",
    "input_list = [3, 4, -1, 1]\n",
    "result = find_first_missing_positive(input_list)\n",
    "print(result)  \n",
    "input_list2 = [1, 2, 0]\n",
    "result2 = find_first_missing_positive(input_list2)\n",
    "print(result2)  \n"
   ]
  },
  {
   "cell_type": "code",
   "execution_count": null,
   "id": "2e2a6ce5-0bb0-41a0-9a81-63a9c7b5c367",
   "metadata": {},
   "outputs": [],
   "source": []
  }
 ],
 "metadata": {
  "kernelspec": {
   "display_name": "Python 3 (ipykernel)",
   "language": "python",
   "name": "python3"
  },
  "language_info": {
   "codemirror_mode": {
    "name": "ipython",
    "version": 3
   },
   "file_extension": ".py",
   "mimetype": "text/x-python",
   "name": "python",
   "nbconvert_exporter": "python",
   "pygments_lexer": "ipython3",
   "version": "3.10.6"
  }
 },
 "nbformat": 4,
 "nbformat_minor": 5
}
