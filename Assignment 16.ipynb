{
 "cells": [
  {
   "cell_type": "markdown",
   "id": "bdec838a-ce38-432f-af1e-ff587ebdb18c",
   "metadata": {},
   "source": [
    "# Assignment 16"
   ]
  },
  {
   "cell_type": "markdown",
   "id": "7b3bdb34-9f04-4c56-8795-9e9683ac7f85",
   "metadata": {},
   "source": [
    "#### Question 1  iven an array, for each element find the value of the nearest element to the right which is having a frequency greater than that of the current element. If there does not exist an answer for a position, then make the value ‘-1’.\n",
    "\n",
    "Examples:\n",
    "\n",
    "Input: a[] = [1, 1, 2, 3, 4, 2, 1]\n",
    "\n",
    "Output : [-1, -1, 1, 2, 2, 1, -1]\n",
    "\n",
    "Explanation:\n",
    "\n",
    "Given array a[] = [1, 1, 2, 3, 4, 2, 1]\n",
    "Frequency of each element is: 3, 3, 2, 1, 1, 2, 3\n",
    "\n",
    "Lets calls Next Greater Frequency element as NGF\n",
    "\n",
    "1. For element a[0] = 1 which has a frequency = 3,\n",
    "   As it has frequency of 3 and no other next element\n",
    "   has frequency more than 3 so  '-1'\n",
    "   \n",
    "2. For element a[1] = 1 it will be -1 same logic\n",
    "   like a[0]\n",
    "   \n",
    "3. For element a[2] = 2 which has frequency = 2,\n",
    "   NGF element is 1 at position = 6  with frequency\n",
    "   of 3 > 2\n",
    "   \n",
    "4. For element a[3] = 3 which has frequency = 1,\n",
    "   NGF element is 2 at position = 5 with frequency\n",
    "   of 2 > 1\n",
    "   \n",
    "5. For element a[4] = 4 which has frequency = 1,\n",
    "   NGF element is 2 at position = 5 with frequency\n",
    "   of 2 > 1\n",
    "   \n",
    "6. For element a[5] = 2 which has frequency = 2,\n",
    "   NGF element is 1 at position = 6 with frequency\n",
    "   of 3 > 2\n",
    "   \n",
    "7. For element a[6] = 1 there is no element to its\n",
    "   right, hence -1\n",
    "\n",
    "Input : a[] = [1, 1, 1, 2, 2, 2, 2, 11, 3, 3]\n",
    "\n",
    "Output : [2, 2, 2, -1, -1, -1, -1, 3, -1, -1]\n"
   ]
  },
  {
   "cell_type": "code",
   "execution_count": 3,
   "id": "5f368b2e-ac73-4490-90ca-3774a7191f06",
   "metadata": {},
   "outputs": [
    {
     "name": "stdout",
     "output_type": "stream",
     "text": [
      "[-1, 1, 2, 2, 1, -1, -1]\n",
      "[2, 2, 2, -1, -1, -1, -1, 2, 2, 2]\n"
     ]
    }
   ],
   "source": [
    "def find_Next_Greater_Frequency(arr):\n",
    "    freq_dict = {}\n",
    "    stack = []\n",
    "    res = []\n",
    "\n",
    "    # Step 1: Calculate the frequency of each element\n",
    "    for element in arr[::-1]:\n",
    "        if element not in freq_dict:\n",
    "            freq_dict[element] = 1\n",
    "        else:\n",
    "            freq_dict[element] += 1\n",
    "        stack.append(element)\n",
    "\n",
    "    for element in arr:\n",
    "        while stack and freq_dict[stack[-1]] <= freq_dict[element]:\n",
    "            stack.pop()\n",
    "        if not stack:\n",
    "            res.append(-1)\n",
    "        else:\n",
    "            res.append(stack[-1])\n",
    "        stack.append(element)\n",
    "\n",
    "    return res[::-1]\n",
    "\n",
    "arr1 = [1, 1, 2, 3, 4, 2, 1]\n",
    "print(find_Next_Greater_Frequency(arr1))\n",
    "\n",
    "arr2 = [1, 1, 1, 2, 2, 2, 2, 11, 3, 3]\n",
    "print(find_Next_Greater_Frequency(arr2))\n"
   ]
  },
  {
   "cell_type": "markdown",
   "id": "b872b2bc-8507-4cb6-a96c-1c486cfe9016",
   "metadata": {},
   "source": [
    "#### Question 2 Given a stack of integers, sort it in ascending order using another temporary stack.\n",
    "\n",
    "Examples:\n",
    "\n",
    "Input : [34, 3, 31, 98, 92, 23]\n",
    "\n",
    "Output : [3, 23, 31, 34, 92, 98]\n",
    "\n",
    "Input : [3, 5, 1, 4, 2, 8]\n",
    "\n",
    "Output : [1, 2, 3, 4, 5, 8]\n"
   ]
  },
  {
   "cell_type": "code",
   "execution_count": 6,
   "id": "ca533d4f-be2a-4e85-8e41-b3af053c50d6",
   "metadata": {},
   "outputs": [
    {
     "name": "stdout",
     "output_type": "stream",
     "text": [
      "[3, 23, 31, 34, 92, 98]\n",
      "[1, 2, 3, 4, 5, 8]\n"
     ]
    }
   ],
   "source": [
    "def sort_Stack(stack):\n",
    "    temp_stack = []\n",
    "\n",
    "    while stack:\n",
    "        temp = stack.pop()\n",
    "\n",
    "        while temp_stack and temp_stack[-1] > temp:\n",
    "            stack.append(temp_stack.pop())\n",
    "\n",
    "        temp_stack.append(temp)\n",
    "\n",
    "    res_stack = []\n",
    "    while temp_stack:\n",
    "        res_stack.append(temp_stack.pop())\n",
    "\n",
    "    return sorted(res_stack)\n",
    "\n",
    "stack1 = [34, 3, 31, 98, 92, 23]\n",
    "print(sort_Stack(stack1))\n",
    "\n",
    "stack2 = [3, 5, 1, 4, 2, 8]\n",
    "print(sort_Stack(stack2))\n"
   ]
  },
  {
   "cell_type": "markdown",
   "id": "7c763e4f-b044-40cb-8758-bea49f073201",
   "metadata": {},
   "source": [
    "#### Question 3 Given a stack with push(), pop(), and empty() operations, The task is to delete the middle element ****of it without using any additional data structure.\n",
    "\n",
    "Input  : Stack[] = [1, 2, 3, 4, 5]\n",
    "\n",
    "Output : Stack[] = [1, 2, 4, 5]\n",
    "\n",
    "Input  : Stack[] = [1, 2, 3, 4, 5, 6]\n",
    "\n",
    "Output : Stack[] = [1, 2, 4, 5, 6]\n"
   ]
  },
  {
   "cell_type": "code",
   "execution_count": 9,
   "id": "251e8556-4620-4abc-bff6-0e76b3ab4428",
   "metadata": {},
   "outputs": [
    {
     "name": "stdout",
     "output_type": "stream",
     "text": [
      "[1, 2, 4, 5]\n",
      "[1, 2, 4, 5, 6]\n"
     ]
    }
   ],
   "source": [
    "def delete_Middle(stack, n, curr):\n",
    "    if curr == n // 2:\n",
    "        stack.pop()\n",
    "        return\n",
    "\n",
    "    temp = stack.pop()\n",
    "    delete_Middle(stack, n, curr + 1)\n",
    "    stack.append(temp)\n",
    "\n",
    "\n",
    "def delete_Middle_Element(stack):\n",
    "    n = len(stack)\n",
    "    curr = 0\n",
    "    delete_Middle(stack, n, curr)\n",
    "\n",
    "\n",
    "stack1 = [1, 2, 3, 4, 5]\n",
    "delete_Middle_Element(stack1)\n",
    "print(stack1)\n",
    "\n",
    "stack2 = [1, 2, 3, 4, 5, 6]\n",
    "delete_Middle_Element(stack2)\n",
    "print(stack2)\n"
   ]
  },
  {
   "cell_type": "markdown",
   "id": "6b0db16d-6009-466f-a224-5d4e236199b7",
   "metadata": {},
   "source": [
    "#### Question 4 Given a Queue consisting of first n natural numbers (in random order). The task is to check whether the given Queue elements can be arranged in increasing order in another Queue using a stack. The operation allowed are:\n",
    "\n",
    "Push and pop elements from the stack\n",
    "\n",
    "Pop (Or Dequeue) from the given Queue.\n",
    "\n",
    "Push (Or Enqueue) in the another Queue.\n",
    "\n",
    "Examples :\n",
    "\n",
    "Input : Queue[] = { 5, 1, 2, 3, 4 }\n",
    "\n",
    "Output : Yes\n",
    "\n",
    "Pop the first element of the given Queue\n",
    "\n",
    "i.e 5. Push 5 into the stack.\n",
    "\n",
    "Now, pop all the elements of the given Queue and push them to second Queue.\n",
    "\n",
    "Now, pop element 5 in the stack and push it to the second Queue.\n",
    "\n",
    "Input : Queue[] = { 5, 1, 2, 6, 3, 4 }\n",
    "\n",
    "Output : No\n",
    "\n",
    "Push 5 to stack.\n",
    "\n",
    "Pop 1, 2 from given Queue and push it to another Queue.\n",
    "\n",
    "Pop 6 from given Queue and push to stack.\n",
    "\n",
    "Pop 3, 4 from given Queue and push to second Queue.\n",
    "\n",
    "Now, from using any of above operation, we cannot push 5 into the second Queue because it is below the 6 in the stack.\n"
   ]
  },
  {
   "cell_type": "code",
   "execution_count": 11,
   "id": "52551f14-49d0-411c-9e69-b744ca18edde",
   "metadata": {},
   "outputs": [
    {
     "name": "stdout",
     "output_type": "stream",
     "text": [
      "Yes\n",
      "No\n"
     ]
    }
   ],
   "source": [
    "def check_Queue_Order(queue):\n",
    "    stack = []\n",
    "    second_Queue = []\n",
    "    expected = 1\n",
    "\n",
    "    while queue:\n",
    "        if queue[0] == expected:\n",
    "            queue.pop(0)\n",
    "            expected += 1\n",
    "        elif stack and stack[-1] == expected:\n",
    "            second_Queue.append(stack.pop())\n",
    "            expected += 1\n",
    "        else:\n",
    "            stack.append(queue.pop(0))\n",
    "\n",
    "    while stack:\n",
    "        second_Queue.append(stack.pop())\n",
    "\n",
    "    # Check if the second queue is sorted\n",
    "    isSorted = all(second_Queue[i] <= second_Queue[i+1] for i in range(len(second_Queue)-1))\n",
    "\n",
    "    if isSorted:\n",
    "        return \"Yes\"\n",
    "    else:\n",
    "        return \"No\"\n",
    "\n",
    "queue1 = [5, 1, 2, 3, 4]\n",
    "print(check_Queue_Order(queue1))\n",
    "\n",
    "queue2 = [5, 1, 2, 6, 3, 4]\n",
    "print(check_Queue_Order(queue2))\n"
   ]
  },
  {
   "cell_type": "markdown",
   "id": "8cdbf2f2-a225-4c8f-a8c6-4a1d5b3c7064",
   "metadata": {},
   "source": [
    "#### Question 5 Given a number , write a program to reverse this number using stack.\n",
    "\n",
    "Examples:\n",
    "\n",
    "Input : 365\n",
    "\n",
    "Output : 563\n",
    "\n",
    "Input : 6899\n",
    "\n",
    "Output : 9986\n"
   ]
  },
  {
   "cell_type": "code",
   "execution_count": 12,
   "id": "c401b1c1-8481-4ab6-9b2f-ff6daf7493e1",
   "metadata": {},
   "outputs": [
    {
     "name": "stdout",
     "output_type": "stream",
     "text": [
      "563\n",
      "9986\n"
     ]
    }
   ],
   "source": [
    "def reverse_Number(number):\n",
    "    number_Str = str(number)\n",
    "    stack = []\n",
    "\n",
    "    for digit in number_Str:\n",
    "        stack.append(digit)\n",
    "\n",
    "    reversed_NumberStr = \"\"\n",
    "    while stack:\n",
    "        reversed_NumberStr += stack.pop()\n",
    "\n",
    "    reversed_Number = int(reversed_NumberStr)\n",
    "    return reversed_Number\n",
    "\n",
    "\n",
    "number1 = 365\n",
    "print(reverse_Number(number1))\n",
    "\n",
    "number2 = 6899\n",
    "print(reverse_Number(number2))\n"
   ]
  },
  {
   "cell_type": "markdown",
   "id": "e63e1444-8890-4f26-8721-f8519bb9d2ab",
   "metadata": {},
   "source": [
    "#### Question 6  Given an integer k and a queue of integers, The task is to reverse the order of the first k elements of the queue, leaving the other elements in the same relative order.\n",
    "\n",
    "Only following standard operations are allowed on queue.\n",
    "\n",
    "enqueue(x) : Add an item x to rear of queue\n",
    "\n",
    "dequeue() : Remove an item from front of queue\n",
    "\n",
    "size() : Returns number of elements in queue.\n",
    "\n",
    "front() : Finds front item. "
   ]
  },
  {
   "cell_type": "code",
   "execution_count": 15,
   "id": "621b2f14-d959-425c-b57d-492a7dcd7eaa",
   "metadata": {},
   "outputs": [
    {
     "name": "stdout",
     "output_type": "stream",
     "text": [
      "5 6 4 3 2 1 "
     ]
    }
   ],
   "source": [
    "from queue import Queue\n",
    "\n",
    "def reverseKElements(queue, k):\n",
    "    stack = []\n",
    "    tempQueue = Queue()\n",
    "\n",
    "    for _ in range(k):\n",
    "        stack.append(queue.get())\n",
    "\n",
    "    while not queue.empty():\n",
    "        tempQueue.put(queue.get())\n",
    "\n",
    "    while stack:\n",
    "        tempQueue.put(stack.pop())\n",
    "\n",
    "    while not tempQueue.empty():\n",
    "        queue.put(tempQueue.get())\n",
    "\n",
    "    return queue\n",
    "\n",
    "\n",
    "queue = Queue()\n",
    "queue.put(1)\n",
    "queue.put(2)\n",
    "queue.put(3)\n",
    "queue.put(4)\n",
    "queue.put(5)\n",
    "queue.put(6)\n",
    "\n",
    "k = 4\n",
    "\n",
    "reversedQueue = reverseKElements(queue, k)\n",
    "\n",
    "while not reversedQueue.empty():\n",
    "    print(reversedQueue.get(), end=\" \")\n"
   ]
  },
  {
   "cell_type": "markdown",
   "id": "e3fa7ded-4086-4a37-830d-acd279de0a67",
   "metadata": {},
   "source": [
    "####  Question 7 Given a sequence of n strings, the task is to check if any two similar words come together and then destroy each other then print the number of words left in the sequence after this pairwise destruction.\n",
    "\n",
    "Examples:\n",
    "\n",
    "Input : ab aa aa bcd ab\n",
    "\n",
    "Output : 3\n",
    "\n",
    "As aa, aa destroys each other so,\n",
    "ab bcd ab is the new sequence.\n",
    "\n",
    "Input :  tom jerry jerry tom\n",
    "\n",
    "Output : 0\n",
    "\n",
    "As first both jerry will destroy each other.\n",
    "Then sequence will be tom, tom they will also destroy\n",
    "each other. So, the final sequence doesn’t contain any\n",
    "word.\n"
   ]
  },
  {
   "cell_type": "code",
   "execution_count": 16,
   "id": "361136c6-ab42-4f0c-a316-f219f49d8a0d",
   "metadata": {},
   "outputs": [
    {
     "name": "stdout",
     "output_type": "stream",
     "text": [
      "3\n",
      "0\n"
     ]
    }
   ],
   "source": [
    "def count_Words_Left(sequence):\n",
    "    stack = []\n",
    "\n",
    "    for word in sequence:\n",
    "        if not stack or word != stack[-1]:\n",
    "            stack.append(word)\n",
    "        else:\n",
    "            stack.pop()\n",
    "\n",
    "    return len(stack)\n",
    "\n",
    "\n",
    "sequence1 = [\"ab\", \"aa\", \"aa\", \"bcd\", \"ab\"]\n",
    "sequence2 = [\"tom\", \"jerry\", \"jerry\", \"tom\"]\n",
    "\n",
    "print(count_Words_Left(sequence1)) \n",
    "print(count_Words_Left(sequence2))\n"
   ]
  },
  {
   "cell_type": "markdown",
   "id": "fd7c9139-df6e-44a8-8389-c652f0923b4d",
   "metadata": {},
   "source": [
    "####  Question 8 Given an array of integers, the task is to find the maximum absolute difference between the nearest left and the right smaller element of every element in the array.\n",
    "\n",
    "Note: If there is no smaller element on right side or left side of any element then we take zero as the smaller element. For example for the leftmost element, the nearest smaller element on the left side is considered as 0. Similarly, for rightmost elements, the smaller element on the right side is considered as 0.\n",
    "\n",
    "Examples:\n",
    "\n",
    "Input : arr[] = {2, 1, 8}\n",
    "\n",
    "Output : 1\n",
    "\n",
    "Left smaller  LS[] {0, 0, 1}\n",
    "\n",
    "Right smaller RS[] {1, 0, 0}\n",
    "\n",
    "Maximum Diff of abs(LS[i] - RS[i]) = 1\n",
    "\n",
    "Input  : arr[] = {2, 4, 8, 7, 7, 9, 3}\n",
    "\n",
    "Output : 4\n",
    "\n",
    "Left smaller   LS[] = {0, 2, 4, 4, 4, 7, 2}\n",
    "\n",
    "Right smaller  RS[] = {0, 3, 7, 3, 3, 3, 0}\n",
    "\n",
    "Maximum Diff of abs(LS[i] - RS[i]) = 7 - 3 = 4\n",
    "\n",
    "Input : arr[] = {5, 1, 9, 2, 5, 1, 7}\n",
    "\n",
    "Output : 1\n"
   ]
  },
  {
   "cell_type": "code",
   "execution_count": 18,
   "id": "82b91391-da01-4c4b-850f-9ab062721bd7",
   "metadata": {},
   "outputs": [
    {
     "name": "stdout",
     "output_type": "stream",
     "text": [
      "1\n",
      "4\n",
      "1\n"
     ]
    }
   ],
   "source": [
    "def max_Abs_Difference(arr):\n",
    "    n = len(arr)\n",
    "    LS = [0] * n\n",
    "    RS = [0] * n\n",
    "    stack = []\n",
    "\n",
    "    for i in range(n):\n",
    "        while stack and arr[stack[-1]] >= arr[i]:\n",
    "            stack.pop()\n",
    "        if stack:\n",
    "            LS[i] = arr[stack[-1]]\n",
    "        stack.append(i)\n",
    "\n",
    "    stack = []\n",
    "\n",
    "    for i in range(n - 1, -1, -1):\n",
    "        while stack and arr[stack[-1]] >= arr[i]:\n",
    "            stack.pop()\n",
    "        if stack:\n",
    "            RS[i] = arr[stack[-1]]\n",
    "        stack.append(i)\n",
    "\n",
    "    maxDiff = 0\n",
    "    for i in range(n):\n",
    "        maxDiff = max(maxDiff, abs(LS[i] - RS[i]))\n",
    "\n",
    "    return maxDiff\n",
    "\n",
    "\n",
    "arr1 = [2, 1, 8]\n",
    "arr2 = [2, 4, 8, 7, 7, 9, 3]\n",
    "arr3 = [5, 1, 9, 2, 5, 1, 7]\n",
    "\n",
    "print(max_Abs_Difference(arr1)) \n",
    "print(max_Abs_Difference(arr2)) \n",
    "print(max_Abs_Difference(arr3)) \n"
   ]
  },
  {
   "cell_type": "code",
   "execution_count": null,
   "id": "5adef93d-b780-4d13-8ee3-3ba788d77865",
   "metadata": {},
   "outputs": [],
   "source": []
  }
 ],
 "metadata": {
  "kernelspec": {
   "display_name": "Python 3 (ipykernel)",
   "language": "python",
   "name": "python3"
  },
  "language_info": {
   "codemirror_mode": {
    "name": "ipython",
    "version": 3
   },
   "file_extension": ".py",
   "mimetype": "text/x-python",
   "name": "python",
   "nbconvert_exporter": "python",
   "pygments_lexer": "ipython3",
   "version": "3.10.6"
  }
 },
 "nbformat": 4,
 "nbformat_minor": 5
}
