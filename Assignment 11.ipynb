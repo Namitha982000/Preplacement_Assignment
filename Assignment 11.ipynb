{
 "cells": [
  {
   "cell_type": "markdown",
   "id": "1a23e849-8244-4031-a0d0-5e5fb177e6f6",
   "metadata": {},
   "source": [
    "# Assignment 11"
   ]
  },
  {
   "cell_type": "markdown",
   "id": "75493186-970e-410e-9d45-9d5982d5ec4b",
   "metadata": {},
   "source": [
    "**Question 1**\n",
    "Given a non-negative integer `x`, return *the square root of* `x` *rounded down to the nearest integer*. The returned integer should be **non-negative** as well.\n",
    "You **must not use** any built-in exponent function or operator.\n",
    "- For example, do not use `pow(x, 0.5)` in c++ or `x ** 0.5` in python.\n",
    "**Example 1:**\n",
    "```\n",
    "Input: x = 4\n",
    "Output: 2\n",
    "Explanation: The square root of 4 is 2, so we return 2.\n",
    "```\n",
    "**Example 2:**\n",
    "</aside>"
   ]
  },
  {
   "cell_type": "code",
   "execution_count": 3,
   "id": "e3ddad44-ebcb-4f75-a47e-2cf98d836c2f",
   "metadata": {},
   "outputs": [
    {
     "name": "stdout",
     "output_type": "stream",
     "text": [
      "2\n",
      "2\n"
     ]
    }
   ],
   "source": [
    "def Sqrt(x):\n",
    "    if x < 2:\n",
    "        return x\n",
    "    \n",
    "    l, r = 0, x\n",
    "    while l <= r:\n",
    "        m = (l + r) // 2\n",
    "        sq = m * m\n",
    "        \n",
    "        if sq == x:\n",
    "            return m\n",
    "        elif sq < x:\n",
    "            l = m + 1\n",
    "        else:\n",
    "            r = m - 1\n",
    "    \n",
    "    return r\n",
    "\n",
    "print(Sqrt(4))\n",
    "print(Sqrt(8))"
   ]
  },
  {
   "cell_type": "markdown",
   "id": "dc6544ee-ee09-4c09-a245-c39d6fa1598d",
   "metadata": {},
   "source": [
    "**Question 2**\n",
    "\n",
    "A peak element is an element that is strictly greater than its neighbors.\n",
    "\n",
    "Given a **0-indexed** integer array `nums`, find a peak element, and return its index. If the array contains multiple peaks, return the index to **any of the peaks**.\n",
    "\n",
    "You may imagine that `nums[-1] = nums[n] = -∞`. In other words, an element is always considered to be strictly greater than a neighbor that is outside the array.\n",
    "\n",
    "You must write an algorithm that runs in `O(log n)` time.\n",
    "\n",
    "**Example 1:**\n",
    "\n",
    "Input: nums = [1,2,3,1]\n",
    "\n",
    "Output: 2\n",
    "\n",
    "Explanation: 3 is a peak element and your function should return the index number 2.\n",
    "\n",
    "**Example 2:**\n",
    "\n",
    "Input: nums = [1,2,1,3,5,6,4]\n",
    "\n",
    "Output: 5\n",
    "\n",
    "Explanation: Your function can return either index number 1 where the peak element is 2, or index number 5 where the peak element is 6."
   ]
  },
  {
   "cell_type": "code",
   "execution_count": 6,
   "id": "3c698b99-0062-4498-a67e-1ae1b53b2c54",
   "metadata": {},
   "outputs": [
    {
     "name": "stdout",
     "output_type": "stream",
     "text": [
      "2\n",
      "5\n"
     ]
    }
   ],
   "source": [
    "def find_Peak_Element(nums):\n",
    "    l, r = 0, len(nums) - 1\n",
    "    while l < r:\n",
    "        m = (l + r) // 2\n",
    "        if nums[m] < nums[m+1]:\n",
    "            l = m + 1\n",
    "        else:\n",
    "            r = m\n",
    "    return l\n",
    "\n",
    "print(find_Peak_Element([1, 2, 3, 1]))\n",
    "print(find_Peak_Element([1, 2, 1, 3, 5, 6, 4]))\n"
   ]
  },
  {
   "cell_type": "markdown",
   "id": "229147da-6277-4830-9964-867be204dc7b",
   "metadata": {},
   "source": [
    "**Question 3**\n",
    "\n",
    "****\n",
    "\n",
    "Given an array `nums` containing `n` distinct numbers in the range `[0, n]`, return *the only number in the range that is missing from the array.*\n",
    "\n",
    "**Example 1:**\n",
    "\n",
    "```\n",
    "Input: nums = [3,0,1]\n",
    "Output: 2\n",
    "Explanation: n = 3 since there are 3 numbers, so all numbers are in the range [0,3]. 2 is the missing number in the range since it does not appear in nums.\n",
    "\n",
    "```\n",
    "\n",
    "**Example 2:**\n",
    "\n",
    "```\n",
    "Input: nums = [0,1]\n",
    "Output: 2\n",
    "Explanation: n = 2 since there are 2 numbers, so all numbers are in the range [0,2]. 2 is the missing number in the range since it does not appear in nums.\n",
    "\n",
    "```\n",
    "\n",
    "**Example 3:**\n",
    "\n",
    "Input: nums = [9,6,4,2,3,5,7,0,1]\n",
    "Output: 8\n",
    "Explanation: n = 9 since there are 9 numbers, so all numbers are in the range [0,9]. 8 is the missing number in the range since it does not appear in nums."
   ]
  },
  {
   "cell_type": "code",
   "execution_count": 8,
   "id": "01e34d19-84f2-4da9-93af-3e094a31f58c",
   "metadata": {},
   "outputs": [
    {
     "name": "stdout",
     "output_type": "stream",
     "text": [
      "2\n",
      "2\n",
      "8\n"
     ]
    }
   ],
   "source": [
    "def missing_Number(nums):\n",
    "    n = len(nums)\n",
    "    m = n\n",
    "    for idx, num in enumerate(nums):\n",
    "        m ^= idx ^ num\n",
    "    return m\n",
    "\n",
    "print(missing_Number([3, 0, 1]))\n",
    "print(missing_Number([0, 1]))\n",
    "print(missing_Number([9,6,4,2,3,5,7,0,1])) "
   ]
  },
  {
   "cell_type": "markdown",
   "id": "aca78a0b-f02b-41e1-b195-c4d530b188e5",
   "metadata": {},
   "source": [
    "**Question 4**\n",
    "\n",
    "Given an array of integers `nums` containing `n + 1` integers where each integer is in the range `[1, n]` inclusive.\n",
    "\n",
    "There is only **one repeated number** in `nums`, return *this repeated number*.\n",
    "\n",
    "You must solve the problem **without** modifying the array `nums` and uses only constant extra space.\n",
    "\n",
    "**Example 1:**\n",
    "\n",
    "```\n",
    "Input: nums = [1,3,4,2,2]\n",
    "Output: 2\n",
    "\n",
    "```\n",
    "\n",
    "**Example 2:**\n",
    "\n",
    "Input: nums = [3,1,3,4,2]\n",
    "Output: 3"
   ]
  },
  {
   "cell_type": "code",
   "execution_count": 9,
   "id": "69987c40-4076-4b3d-8507-7f36ebdf6938",
   "metadata": {},
   "outputs": [
    {
     "name": "stdout",
     "output_type": "stream",
     "text": [
      "2\n",
      "3\n"
     ]
    }
   ],
   "source": [
    "def Duplicate(nums):\n",
    "    s = nums[0]\n",
    "    f = nums[0]\n",
    "\n",
    "    while True:\n",
    "        s = nums[s]\n",
    "        f = nums[nums[f]]\n",
    "        if s == f:\n",
    "            break\n",
    "\n",
    "    s = nums[0]\n",
    "    while s != f:\n",
    "        s = nums[s]\n",
    "        f = nums[f]\n",
    "    return s\n",
    "\n",
    "print(Duplicate([1, 3, 4, 2, 2]))\n",
    "print(Duplicate([3, 1, 3, 4, 2]))"
   ]
  },
  {
   "cell_type": "markdown",
   "id": "7a41931c-e8e3-426e-bb20-c8987ccffd39",
   "metadata": {},
   "source": [
    "**Question 5**\n",
    "\n",
    "Given two integer arrays `nums1` and `nums2`, return *an array of their intersection*. Each element in the result must be **unique** and you may return the result in **any order**.\n",
    "\n",
    "**Example 1:**\n",
    "\n",
    "```\n",
    "Input: nums1 = [1,2,2,1], nums2 = [2,2]\n",
    "Output: [2]\n",
    "\n",
    "```\n",
    "\n",
    "**Example 2:**\n",
    "\n",
    "Input: nums1 = [4,9,5], nums2 = [9,4,9,8,4]\n",
    "Output: [9,4]\n",
    "Explanation: [4,9] is also accepted.\n"
   ]
  },
  {
   "cell_type": "code",
   "execution_count": 10,
   "id": "8b3dc2b8-2033-4580-8ab2-3053aecc83aa",
   "metadata": {},
   "outputs": [
    {
     "name": "stdout",
     "output_type": "stream",
     "text": [
      "[2]\n",
      "[9, 4]\n"
     ]
    }
   ],
   "source": [
    "def intersection(nums1, nums2):\n",
    "    set1 = set(nums1)\n",
    "    set2 = set(nums2)\n",
    "    result = list(set1.intersection(set2))\n",
    "    return result\n",
    "\n",
    "print(intersection([1, 2, 2, 1], [2, 2]))\n",
    "print(intersection([4, 9, 5], [9,4,9,8,4])) \n",
    "\n"
   ]
  },
  {
   "cell_type": "markdown",
   "id": "e32d55ec-dbc9-45e4-b095-9cef9ffcb8dd",
   "metadata": {},
   "source": [
    "**Question 6**\n",
    "\n",
    "Suppose an array of length `n` sorted in ascending order is **rotated** between `1` and `n` times. For example, the array `nums = [0,1,2,4,5,6,7]` might become:\n",
    "\n",
    "- `[4,5,6,7,0,1,2]` if it was rotated `4` times.\n",
    "- `[0,1,2,4,5,6,7]` if it was rotated `7` times.\n",
    "\n",
    "Notice that **rotating** an array `[a[0], a[1], a[2], ..., a[n-1]]` 1 time results in the array `[a[n-1], a[0], a[1], a[2], ..., a[n-2]]`.\n",
    "\n",
    "Given the sorted rotated array `nums` of **unique** elements, return *the minimum element of this array*.\n",
    "\n",
    "You must write an algorithm that runs in `O(log n) time.`\n",
    "\n",
    "**Example 1:**\n",
    "    \n",
    "Input: nums = [3,4,5,1,2]\n",
    "Output: 1\n",
    "Explanation: The original array was [1,2,3,4,5] rotated 3 times.\n",
    "\n",
    "**Example 2:**\n",
    "Input: nums = [4,5,6,7,0,1,2]\n",
    "Output: 0\n",
    "Explanation: The original array was [0,1,2,4,5,6,7] and it was rotated 4 times.\n",
    "\n",
    "**Example 3:**\n",
    "    \n",
    "Input: nums = [11,13,15,17]\n",
    "Output: 11\n",
    "Explanation: The original array was [11,13,15,17] and it was rotated 4 times.\n"
   ]
  },
  {
   "cell_type": "code",
   "execution_count": 16,
   "id": "dee8f50b-18b2-4af1-a427-ba3294dbe474",
   "metadata": {},
   "outputs": [
    {
     "name": "stdout",
     "output_type": "stream",
     "text": [
      "1\n",
      "0\n",
      "11\n"
     ]
    }
   ],
   "source": [
    "def find_Min(nums):\n",
    "    l = 0\n",
    "    r = len(nums) - 1\n",
    "    while l < r:\n",
    "        m = (l + r) // 2\n",
    "        if nums[m] > nums[r]:\n",
    "            l = m + 1\n",
    "        else:\n",
    "            r = m\n",
    "    return nums[l]\n",
    "\n",
    "print(find_Min([3, 4, 5, 1, 2]))\n",
    "print(find_Min([4, 5, 6, 7, 0, 1, 2]))\n",
    "print(find_Min([11,13,15,17]))"
   ]
  },
  {
   "cell_type": "markdown",
   "id": "623752f6-c0cb-4ca6-a6bf-4f3048e8d54a",
   "metadata": {},
   "source": [
    "**Question 7**\n",
    "\n",
    "Given an array of integers `nums` sorted in non-decreasing order, find the starting and ending position of a given `target` value.\n",
    "\n",
    "If `target` is not found in the array, return `[-1, -1]`.\n",
    "\n",
    "You must write an algorithm with `O(log n)` runtime complexity.\n",
    "\n",
    "**Example 1:**\n",
    "\n",
    "```\n",
    "Input: nums = [5,7,7,8,8,10], target = 8\n",
    "Output: [3,4]\n",
    "\n",
    "```\n",
    "\n",
    "**Example 2:**\n",
    "\n",
    "```\n",
    "Input: nums = [5,7,7,8,8,10], target = 6\n",
    "Output: [-1,-1]\n",
    "\n",
    "```\n",
    "\n",
    "**Example 3:**\n",
    "\n",
    "'''\n",
    "Input: nums = [], target = 0\n",
    "Output: [-1,-1]\n",
    "'''"
   ]
  },
  {
   "cell_type": "code",
   "execution_count": 1,
   "id": "e7cb82b5-6252-4965-8652-d8fc414feabe",
   "metadata": {},
   "outputs": [
    {
     "name": "stdout",
     "output_type": "stream",
     "text": [
      "[3, 4]\n",
      "[-1, -1]\n",
      "[-1, -1]\n"
     ]
    }
   ],
   "source": [
    "def search_Range(nums, target):\n",
    "    def binary_Search_Left(nums, target):\n",
    "        l, r = 0, len(nums) - 1\n",
    "        while l <= r:\n",
    "            m = (l + r) // 2\n",
    "            if nums[m] == target:\n",
    "                r = m - 1\n",
    "            elif nums[m] < target:\n",
    "                l = m + 1\n",
    "            else:\n",
    "                r = m - 1\n",
    "        return l\n",
    "    \n",
    "    def binary_Search_Right(nums, target):\n",
    "        l, r = 0, len(nums) - 1\n",
    "        while l <= r:\n",
    "            m = (l + r) // 2\n",
    "            if nums[m] == target:\n",
    "                l = m + 1\n",
    "            elif nums[m] < target:\n",
    "                l = m+ 1\n",
    "            else:\n",
    "                r = m - 1\n",
    "        return r\n",
    "    \n",
    "    l = binary_Search_Left(nums, target)\n",
    "    r = binary_Search_Right(nums, target)\n",
    "    \n",
    "    if l <= r:\n",
    "        return [l, r]\n",
    "    else:\n",
    "        return [-1, -1]\n",
    "\n",
    "    \n",
    "nums = [5, 7, 7, 8, 8, 10]\n",
    "target = 8\n",
    "print(search_Range(nums, target))\n",
    "\n",
    "nums = [5, 7, 7, 8, 8, 10]\n",
    "target = 6\n",
    "print(search_Range(nums, target))\n",
    "\n",
    "nums = []\n",
    "target = 0\n",
    "print(search_Range(nums, target))"
   ]
  },
  {
   "cell_type": "markdown",
   "id": "d4d5a2c7-7a10-440a-ad3e-75196c008d3e",
   "metadata": {},
   "source": [
    "**Question 8**\n",
    "\n",
    "Given two integer arrays `nums1` and `nums2`, return *an array of their intersection*. Each element in the result must appear as many times as it shows in both arrays and you may return the result in **any order**.\n",
    "\n",
    "**Example 1:**\n",
    "\n",
    "```\n",
    "Input: nums1 = [1,2,2,1], nums2 = [2,2]\n",
    "Output: [2,2]\n",
    "\n",
    "```\n",
    "\n",
    "**Example 2:**\n",
    "\n",
    "'''\n",
    "Input: nums1 = [4,9,5], nums2 = [9,4,9,8,4]\n",
    "Output: [4,9]\n",
    "Explanation: [9,4] is also accepted.\n",
    "'''"
   ]
  },
  {
   "cell_type": "code",
   "execution_count": 3,
   "id": "5aa6dc7e-946f-4c49-80da-ed46b46fc629",
   "metadata": {},
   "outputs": [
    {
     "name": "stdout",
     "output_type": "stream",
     "text": [
      "[2, 2]\n",
      "[9, 4]\n"
     ]
    }
   ],
   "source": [
    "from collections import defaultdict\n",
    "\n",
    "def intersect(nums1, nums2):\n",
    "    freq_Map = defaultdict(int)\n",
    "    res = []\n",
    "    \n",
    "    for num in nums1:\n",
    "        freq_Map[num] += 1\n",
    "    \n",
    "    for num in nums2:\n",
    "        if freq_Map[num] > 0:\n",
    "            res.append(num)\n",
    "            freq_Map[num] -= 1\n",
    "    \n",
    "    return res\n",
    "\n",
    "nums1 = [1, 2, 2, 1]\n",
    "nums2 = [2, 2]\n",
    "print(intersect(nums1, nums2))\n",
    "\n",
    "nums1 = [4, 9, 5]\n",
    "nums2 = [9, 4, 9, 8, 4]\n",
    "print(intersect(nums1, nums2))\n"
   ]
  },
  {
   "cell_type": "code",
   "execution_count": null,
   "id": "728f30e6-2c01-4a93-8971-dc446bde43ec",
   "metadata": {},
   "outputs": [],
   "source": []
  }
 ],
 "metadata": {
  "kernelspec": {
   "display_name": "Python 3 (ipykernel)",
   "language": "python",
   "name": "python3"
  },
  "language_info": {
   "codemirror_mode": {
    "name": "ipython",
    "version": 3
   },
   "file_extension": ".py",
   "mimetype": "text/x-python",
   "name": "python",
   "nbconvert_exporter": "python",
   "pygments_lexer": "ipython3",
   "version": "3.10.6"
  }
 },
 "nbformat": 4,
 "nbformat_minor": 5
}
