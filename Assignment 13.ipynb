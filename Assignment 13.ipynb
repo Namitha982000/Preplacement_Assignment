{
 "cells": [
  {
   "cell_type": "markdown",
   "id": "c26e3ef0-011a-4812-b871-3a4319d49673",
   "metadata": {},
   "source": [
    "# Assignment 13"
   ]
  },
  {
   "cell_type": "markdown",
   "id": "0f3f4f4b-b6e9-4db6-b66e-9266f296567f",
   "metadata": {},
   "source": [
    "#### Question 1 Given two linked list of the same size, the task is to create a new linked list using those linked lists. The condition is that the greater node among both linked list will be added to the new linked list.\n",
    "\n",
    "\n",
    "Examples:\n",
    "\n",
    "Input: list1 = 5->2->3->8\n",
    "\n",
    "list2 = 1->7->4->5\n",
    "\n",
    "Output: New list = 5->7->4->8\n",
    "\n",
    "Input:list1 = 2->8->9->3\n",
    "\n",
    "list2 = 5->3->6->4\n",
    "\n",
    "Output: New list = 5->8->9->4\n"
   ]
  },
  {
   "cell_type": "code",
   "execution_count": 1,
   "id": "9aedaeac-bd04-446b-b4d5-fb208a800262",
   "metadata": {},
   "outputs": [
    {
     "name": "stdout",
     "output_type": "stream",
     "text": [
      "5->2->3->8->1->7->4->5->"
     ]
    }
   ],
   "source": [
    "class Node:\n",
    "    def __init__(self, data=None):\n",
    "        self.data = data\n",
    "        self.next = None\n",
    "def create_new_linked_list(list1, list2):\n",
    "    \n",
    "    pointer1 = list1\n",
    "    pointer2 = list2\n",
    "\n",
    "    new_list = None\n",
    "    new_list_tail = None\n",
    "    \n",
    "    while pointer1 and pointer2:\n",
    "        \n",
    "        if pointer1.data >= pointer2.data:\n",
    "            \n",
    "            if new_list is None:\n",
    "                new_list = Node(pointer1.data)\n",
    "                new_list_tail = new_list\n",
    "            else:\n",
    "                new_list_tail.next = Node(pointer1.data)\n",
    "                new_list_tail = new_list_tail.next\n",
    "            pointer1 = pointer1.next\n",
    "        else:\n",
    "            if new_list is None:\n",
    "                new_list = Node(pointer2.data)\n",
    "                new_list_tail = new_list\n",
    "            else:\n",
    "                new_list_tail.next = Node(pointer2.data)\n",
    "                new_list_tail = new_list_tail.next\n",
    "            pointer2 = pointer2.next\n",
    "    \n",
    "    while pointer1:\n",
    "        new_list_tail.next = Node(pointer1.data)\n",
    "        new_list_tail = new_list_tail.next\n",
    "        pointer1 = pointer1.next\n",
    "    \n",
    "    while pointer2:\n",
    "        new_list_tail.next = Node(pointer2.data)\n",
    "        new_list_tail = new_list_tail.next\n",
    "        pointer2 = pointer2.next\n",
    "    return new_list\n",
    "\n",
    "list1 = Node(5)\n",
    "list1.next = Node(2)\n",
    "list1.next.next = Node(3)\n",
    "list1.next.next.next = Node(8)\n",
    "\n",
    "list2 = Node(1)\n",
    "list2.next = Node(7)\n",
    "list2.next.next = Node(4)\n",
    "list2.next.next.next = Node(5)\n",
    "\n",
    "new_list = create_new_linked_list(list1, list2)\n",
    "\n",
    "while new_list:\n",
    "    print(new_list.data, end=\"->\")\n",
    "    new_list = new_list.next\n"
   ]
  },
  {
   "cell_type": "markdown",
   "id": "c867e8f8-a041-4169-bfa9-2dae2e77357f",
   "metadata": {},
   "source": [
    "#### Question 2 Write a function that takes a list sorted in non-decreasing order and deletes any duplicate nodes from the list. The list should only be traversed once.\n",
    "\n",
    "For example if the linked list is 11->11->11->21->43->43->60 then removeDuplicates() should convert the list to 11->21->43->60.\n",
    "\n",
    "Example 1:\n",
    "\n",
    "Input:\n",
    "\n",
    "LinkedList: \n",
    "\n",
    "11->11->11->21->43->43->60\n",
    "\n",
    "Output:\n",
    "\n",
    "11->21->43->60\n",
    "\n",
    "Example 2:\n",
    "\n",
    "Input:\n",
    "\n",
    "LinkedList: \n",
    "\n",
    "10->12->12->25->25->25->34\n",
    "\n",
    "Output:\n",
    "\n",
    "10->12->25->34\n"
   ]
  },
  {
   "cell_type": "code",
   "execution_count": 2,
   "id": "693e9fa0-f97e-49a9-971d-519e355095f4",
   "metadata": {},
   "outputs": [
    {
     "name": "stdout",
     "output_type": "stream",
     "text": [
      "11->21->43->60->"
     ]
    }
   ],
   "source": [
    "class Node:\n",
    "    def __init__(self, data=None):\n",
    "        self.data = data\n",
    "        self.next = None\n",
    "def remove_duplicates(head):\n",
    "    if not head or not head.next:\n",
    "        return head\n",
    "    current = head\n",
    "    while current.next:\n",
    "        if current.data == current.next.data:\n",
    "            current.next = current.next.next\n",
    "        else:\n",
    "            current = current.next\n",
    "    return head\n",
    "\n",
    "list1 = Node(11)\n",
    "list1.next = Node(11)\n",
    "list1.next.next = Node(11)\n",
    "list1.next.next.next = Node(21)\n",
    "list1.next.next.next.next = Node(43)\n",
    "list1.next.next.next.next.next = Node(43)\n",
    "list1.next.next.next.next.next.next = Node(60)\n",
    "\n",
    "new_list = remove_duplicates(list1)\n",
    "\n",
    "while new_list:\n",
    "    print(new_list.data, end=\"->\")\n",
    "    new_list = new_list.next\n"
   ]
  },
  {
   "cell_type": "markdown",
   "id": "1f49aef1-0f7e-4459-b65e-e35a31341333",
   "metadata": {},
   "source": [
    "#### Question 3 Given a linked list of size N. The task is to reverse every k nodes (where k is an input to the function) in the linked list. If the number of nodes is not a multiple of k then left-out nodes, in the end, should be considered as a group and must be reversed (See Example 2 for clarification).\n",
    "\n",
    "Example 1:\n",
    "\n",
    "Input:\n",
    "\n",
    "LinkedList: 1->2->2->4->5->6->7->8\n",
    "\n",
    "K = 4\n",
    "\n",
    "Output:4 2 2 1 8 7 6 5\n",
    "\n",
    "Explanation:\n",
    "\n",
    "The first 4 elements 1,2,2,4 are reversed first\n",
    "and then the next 4 elements 5,6,7,8. Hence, the\n",
    "resultant linked list is\n",
    "\n",
    "4->2->2->1->8->7->6->5.\n",
    "\n",
    "Example 2:\n",
    "\n",
    "Input:\n",
    "\n",
    "LinkedList: 1->2->3->4->5\n",
    "\n",
    "K = 3\n",
    "\n",
    "Output:3 2 1 5 4\n",
    "\n",
    "Explanation:\n",
    "\n",
    "The first 3 elements are 1,2,3 are reversed\n",
    "first and then elements 4,5 are reversed.Hence,\n",
    "the resultant linked list is \n",
    "\n",
    "3->2->1->5->4.\n"
   ]
  },
  {
   "cell_type": "code",
   "execution_count": 3,
   "id": "08d1c72a-d1c6-41b4-96ca-9f3d52a8215d",
   "metadata": {},
   "outputs": [
    {
     "name": "stdout",
     "output_type": "stream",
     "text": [
      "4 2 2 1 8 7 6 5 "
     ]
    }
   ],
   "source": [
    "class Node:\n",
    "    def __init__(self, data=None):\n",
    "        self.data = data\n",
    "        self.next = None\n",
    "def reverse_k_nodes(head, k):\n",
    "    if not head or k == 1:\n",
    "        return head\n",
    "    dummy = Node(0)\n",
    "    dummy.next = head\n",
    "    previous = dummy\n",
    "    current = head\n",
    "    index = 0\n",
    "    while current:\n",
    "        index += 1\n",
    "        if index % k == 0:\n",
    "            previous = reverse_group(previous, current.next)\n",
    "            current = previous.next\n",
    "        else:\n",
    "            current = current.next\n",
    "    return dummy.next\n",
    "def reverse_group(previous, next_node):\n",
    "    last = previous.next\n",
    "    current = last.next\n",
    "    while current != next_node:\n",
    "        last.next = current.next\n",
    "        current.next = previous.next\n",
    "        previous.next = current\n",
    "        current = last.next\n",
    "    return last\n",
    "\n",
    "list1 = Node(1)\n",
    "list1.next = Node(2)\n",
    "list1.next.next = Node(2)\n",
    "list1.next.next.next = Node(4)\n",
    "list1.next.next.next.next = Node(5)\n",
    "list1.next.next.next.next.next = Node(6)\n",
    "list1.next.next.next.next.next.next = Node(7)\n",
    "list1.next.next.next.next.next.next.next = Node(8)\n",
    "new_list = reverse_k_nodes(list1, 4)\n",
    "\n",
    "while new_list:\n",
    "    print(new_list.data, end=\" \")\n",
    "    new_list = new_list.next\n"
   ]
  },
  {
   "cell_type": "markdown",
   "id": "06f793fe-06cb-481e-9bf5-23402ab1ce9d",
   "metadata": {},
   "source": [
    "#### Question 4 Given a linked list, write a function to reverse every alternate k nodes (where k is an input to the function) in an efficient way. Give the complexity of your algorithm.\n",
    "\n",
    "Example:\n",
    "\n",
    "Inputs:   1->2->3->4->5->6->7->8->9->NULL and k = 3\n",
    "\n",
    "Output:   3->2->1->4->5->6->9->8->7->NULL.\n"
   ]
  },
  {
   "cell_type": "code",
   "execution_count": 4,
   "id": "fe1f859b-0260-49dc-9fdc-0c74d3e8b61f",
   "metadata": {},
   "outputs": [
    {
     "name": "stdout",
     "output_type": "stream",
     "text": [
      "3->2->1->4->5->6->7->8->9->"
     ]
    }
   ],
   "source": [
    "class Node:\n",
    "    def __init__(self, data=None):\n",
    "        self.data = data\n",
    "        self.next = None\n",
    "def reverse_alternate_k_nodes(head, k):\n",
    "    if not head or k == 1:\n",
    "        return head\n",
    "    dummy = Node(0)\n",
    "    dummy.next = head\n",
    "    previous = dummy\n",
    "    current = head\n",
    "    index = 0\n",
    "    reverse = True\n",
    "    while current:\n",
    "        index += 1\n",
    "        if index % k == 0 and reverse:\n",
    "            previous = reverse_group(previous, current.next)\n",
    "            current = previous.next\n",
    "            reverse = not reverse\n",
    "        else:\n",
    "            current = current.next\n",
    "    return dummy.next\n",
    "def reverse_group(previous, next_node):\n",
    "    last = previous.next\n",
    "    current = last.next\n",
    "    while current != next_node:\n",
    "        last.next = current.next\n",
    "        current.next = previous.next\n",
    "        previous.next = current\n",
    "        current = last.next\n",
    "    return last\n",
    "\n",
    "list1 = Node(1)\n",
    "list1.next = Node(2)\n",
    "list1.next.next = Node(3)\n",
    "list1.next.next.next = Node(4)\n",
    "list1.next.next.next.next = Node(5)\n",
    "list1.next.next.next.next.next = Node(6)\n",
    "list1.next.next.next.next.next.next = Node(7)\n",
    "list1.next.next.next.next.next.next.next = Node(8)\n",
    "list1.next.next.next.next.next.next.next.next = Node(9)\n",
    "\n",
    "new_list = reverse_alternate_k_nodes(list1, 3)\n",
    "\n",
    "while new_list:\n",
    "    print(new_list.data, end=\"->\")\n",
    "    new_list = new_list.next\n"
   ]
  },
  {
   "cell_type": "markdown",
   "id": "5000fa2d-ca62-4b0c-85e0-6a0e88862be4",
   "metadata": {},
   "source": [
    "#### Question 5 Given a linked list and a key to be deleted. Delete last occurrence of key from linked. The list may have duplicates.\n",
    "\n",
    "Examples:\n",
    "\n",
    "Input:   1->2->3->5->2->10, \n",
    "\n",
    "key = 2\n",
    "\n",
    "Output:  1->2->3->5->10\n"
   ]
  },
  {
   "cell_type": "code",
   "execution_count": 5,
   "id": "f0d2e6bf-106f-4469-911a-ae10c47246ea",
   "metadata": {},
   "outputs": [
    {
     "name": "stdout",
     "output_type": "stream",
     "text": [
      "1->2->3->5->10->"
     ]
    }
   ],
   "source": [
    "class Node:\n",
    "    def __init__(self, data=None):\n",
    "        self.data = data\n",
    "        self.next = None\n",
    "def delete_last_occurrence(head, key):\n",
    "    if not head:\n",
    "        return head\n",
    "    \n",
    "    last_occurrence = None\n",
    "    previous = None\n",
    "    current = head\n",
    "    \n",
    "    while current:\n",
    "        if current.data == key:\n",
    "            last_occurrence = current\n",
    "        current = current.next\n",
    "    \n",
    "    if last_occurrence == head:\n",
    "        head = head.next\n",
    "    else:\n",
    "        current = head\n",
    "        while current.next != last_occurrence:\n",
    "            current = current.next\n",
    "        current.next = last_occurrence.next\n",
    "    return head\n",
    "\n",
    "list1 = Node(1)\n",
    "list1.next = Node(2)\n",
    "list1.next.next = Node(3)\n",
    "list1.next.next.next = Node(5)\n",
    "list1.next.next.next.next = Node(2)\n",
    "list1.next.next.next.next.next = Node(10)\n",
    "\n",
    "new_list = delete_last_occurrence(list1, 2)\n",
    "\n",
    "while new_list:\n",
    "    print(new_list.data, end=\"->\")\n",
    "    new_list = new_list.next\n"
   ]
  },
  {
   "cell_type": "markdown",
   "id": "da06aed3-1df8-45a5-bc61-eca1e1e0164b",
   "metadata": {},
   "source": [
    "#### Question 6 Given two sorted linked lists consisting of N and M nodes respectively. The task is to merge both of the lists (in place) and return the head of the merged list.\n",
    "\n",
    "Examples:\n",
    "\n",
    "Input: a: 5->10->15, b: 2->3->20\n",
    "\n",
    "Output: 2->3->5->10->15->20\n",
    "\n",
    "Input: a: 1->1, b: 2->4\n",
    "\n",
    "Output: 1->1->2->4\n"
   ]
  },
  {
   "cell_type": "code",
   "execution_count": 6,
   "id": "42adf892-05b5-4612-88d3-39fca115fdf9",
   "metadata": {},
   "outputs": [],
   "source": [
    "class ListNode:\n",
    "    def __init__(self, val=0, next=None):\n",
    "        self.val = val\n",
    "        self.next = next\n",
    "def mergeTwoLists(a, b):\n",
    "    dummy = ListNode(-1)\n",
    "    current = dummy\n",
    "    ptr1, ptr2 = a, b\n",
    "    while ptr1 and ptr2:\n",
    "        if ptr1.val <= ptr2.val:\n",
    "            current.next = ptr1\n",
    "            ptr1 = ptr1.next\n",
    "        else:\n",
    "            current.next = ptr2\n",
    "            ptr2 = ptr2.next\n",
    "        current = current.next\n",
    "\n",
    "    if ptr1:\n",
    "        current.next = ptr1\n",
    "    \n",
    "    if ptr2:\n",
    "        current.next = ptr2\n",
    "    return dummy.next\n"
   ]
  },
  {
   "cell_type": "code",
   "execution_count": 7,
   "id": "3db7975a-7cb8-45c2-869c-868b2fc0e8f2",
   "metadata": {},
   "outputs": [
    {
     "name": "stdout",
     "output_type": "stream",
     "text": [
      "2->3->5->10->15->20->1->1->2->4->"
     ]
    }
   ],
   "source": [
    "a = ListNode(5)\n",
    "a.next = ListNode(10)\n",
    "a.next.next = ListNode(15)\n",
    "b = ListNode(2)\n",
    "b.next = ListNode(3)\n",
    "b.next.next = ListNode(20)\n",
    "merged = mergeTwoLists(a, b)\n",
    "\n",
    "while merged:\n",
    "    print(merged.val, end=\"->\")\n",
    "    merged = merged.next\n",
    "\n",
    "a = ListNode(1)\n",
    "a.next = ListNode(1)\n",
    "b = ListNode(2)\n",
    "b.next = ListNode(4)\n",
    "merged = mergeTwoLists(a, b)\n",
    "\n",
    "while merged:\n",
    "    print(merged.val, end=\"->\")\n",
    "    merged = merged.next\n",
    "\n"
   ]
  },
  {
   "cell_type": "markdown",
   "id": "d9a92b93-691a-434d-81c8-c778c4a2d623",
   "metadata": {},
   "source": [
    "#### Question 7 Given a Doubly Linked List, the task is to reverse the given Doubly Linked List.\n",
    "\n",
    "Example:\n",
    "\n",
    "Original Linked list 10 8 4 2\n",
    "\n",
    "Reversed Linked list 2 4 8 10\n"
   ]
  },
  {
   "cell_type": "code",
   "execution_count": 8,
   "id": "9f8939b8-54b2-41ba-88b3-9663c04682ca",
   "metadata": {},
   "outputs": [],
   "source": [
    "class Node:\n",
    "    def __init__(self, data):\n",
    "        self.data = data\n",
    "        self.next = None\n",
    "        self.prev = None\n",
    "def reverseLinkedList(head):\n",
    "    current = head\n",
    "    prev = None\n",
    "    while current:\n",
    "        next_node = current.next\n",
    "        current.next = prev\n",
    "        current.prev = next_node\n",
    "        prev = current\n",
    "        current = next_node\n",
    "    return prev\n"
   ]
  },
  {
   "cell_type": "code",
   "execution_count": 9,
   "id": "b7a41694-b771-4fad-84d5-d7832f7c8ad6",
   "metadata": {},
   "outputs": [
    {
     "name": "stdout",
     "output_type": "stream",
     "text": [
      "2 4 8 10 "
     ]
    }
   ],
   "source": [
    "head = Node(10)\n",
    "head.next = Node(8)\n",
    "head.next.prev = head\n",
    "head.next.next = Node(4)\n",
    "head.next.next.prev = head.next\n",
    "head.next.next.next = Node(2)\n",
    "head.next.next.next.prev = head.next.next\n",
    "\n",
    "reversed_head = reverseLinkedList(head)\n",
    "\n",
    "current = reversed_head\n",
    "while current:\n",
    "    print(current.data, end=\" \")\n",
    "    current = current.next\n",
    "\n"
   ]
  },
  {
   "cell_type": "markdown",
   "id": "13d25166-afdb-4375-9e3b-2ec7859a507e",
   "metadata": {},
   "source": [
    "#### Question 8 Given a doubly linked list and a position. The task is to delete a node from given position in a doubly linked list.\n",
    "\n",
    "Example 1:\n",
    "\n",
    "Input:\n",
    "\n",
    "LinkedList = 1 <--> 3 <--> 4\n",
    "\n",
    "x = 3\n",
    "\n",
    "Output:1 3\n",
    "\n",
    "Explanation: After deleting the node at\n",
    "position 3 (position starts from 1),\n",
    "the linked list will be now as 1->3.\n"
   ]
  },
  {
   "cell_type": "code",
   "execution_count": 10,
   "id": "259acfe2-687d-44e0-aec7-a57c2786292f",
   "metadata": {},
   "outputs": [],
   "source": [
    "class Node:\n",
    "    def __init__(self, data):\n",
    "        self.data = data\n",
    "        self.prev = None\n",
    "        self.next = None\n",
    "def deleteNode(head, position):\n",
    "    if position == 1:\n",
    "        if head:\n",
    "            new_head = head.next\n",
    "            if new_head:\n",
    "                new_head.prev = None\n",
    "            return new_head\n",
    "        else:\n",
    "            return None\n",
    "    current = head\n",
    "    count = 1\n",
    "    while current and count < position:\n",
    "        current = current.next\n",
    "        count += 1\n",
    "    if current:\n",
    "        current.prev.next = current.next\n",
    "        if current.next:\n",
    "            current.next.prev = current.prev\n",
    "        del current\n",
    "    return head\n"
   ]
  },
  {
   "cell_type": "code",
   "execution_count": 11,
   "id": "23956c0d-0e7e-43f8-aec7-161381edb2e6",
   "metadata": {},
   "outputs": [
    {
     "name": "stdout",
     "output_type": "stream",
     "text": [
      "1 3 "
     ]
    }
   ],
   "source": [
    "head = Node(1)\n",
    "head.next = Node(3)\n",
    "head.next.prev = head\n",
    "head.next.next = Node(4)\n",
    "head.next.next.prev = head.next\n",
    "\n",
    "position = 3\n",
    "new_head = deleteNode(head, position)\n",
    "\n",
    "current = new_head\n",
    "while current:\n",
    "    print(current.data, end=\" \")\n",
    "    current = current.next\n",
    "\n"
   ]
  },
  {
   "cell_type": "code",
   "execution_count": null,
   "id": "9e0aeff4-fcaf-47e4-a906-6e6afe86dd67",
   "metadata": {},
   "outputs": [],
   "source": []
  }
 ],
 "metadata": {
  "kernelspec": {
   "display_name": "Python 3 (ipykernel)",
   "language": "python",
   "name": "python3"
  },
  "language_info": {
   "codemirror_mode": {
    "name": "ipython",
    "version": 3
   },
   "file_extension": ".py",
   "mimetype": "text/x-python",
   "name": "python",
   "nbconvert_exporter": "python",
   "pygments_lexer": "ipython3",
   "version": "3.10.6"
  }
 },
 "nbformat": 4,
 "nbformat_minor": 5
}
