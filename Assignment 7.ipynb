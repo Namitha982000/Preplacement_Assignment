{
 "cells": [
  {
   "cell_type": "markdown",
   "id": "e1cd2685-83df-4b1b-a22d-cb289f46269c",
   "metadata": {},
   "source": [
    "# Assignment 7"
   ]
  },
  {
   "cell_type": "markdown",
   "id": "6e0f854d-0876-448e-9f22-9d3ac0f67e16",
   "metadata": {},
   "source": [
    "#### Question 1 Given two strings s and t, determine if they are isomorphic. Two strings s and t are isomorphic if the characters in s can be replaced to get t. All occurrences of a character must be replaced with another character while preserving the order of characters. No two characters may map to the same character, but a character may map to itself.\n",
    "\n",
    "Example 1:\n",
    "\n",
    "Input: s = \"egg\", t = \"add\"\n",
    "\n",
    "Output: true"
   ]
  },
  {
   "cell_type": "code",
   "execution_count": 1,
   "id": "4210f75a-0ed4-4169-a173-f33f3a5a3639",
   "metadata": {},
   "outputs": [
    {
     "name": "stdout",
     "output_type": "stream",
     "text": [
      "True\n"
     ]
    }
   ],
   "source": [
    "def isomorphic(s, t):\n",
    "\n",
    "    if len(s) != len(t):\n",
    "\n",
    "        return False\n",
    "\n",
    "    s_to_t = {}\n",
    "\n",
    "    t_to_s = {}\n",
    "\n",
    "    for s, t in zip(s, t):\n",
    "\n",
    "        if s in s_to_t and s_to_t[s] != t:\n",
    "\n",
    "            return False\n",
    "\n",
    "        if t in t_to_s and t_to_s[t] != s:\n",
    "\n",
    "            return False\n",
    "\n",
    "        if s not in s_to_t and t not in t_to_s:\n",
    "\n",
    "            s_to_t[s] = t\n",
    "\n",
    "            t_to_s[t] = s\n",
    "\n",
    "    return True\n",
    "\n",
    "\n",
    "s = \"egg\"\n",
    "\n",
    "t = \"add\"\n",
    "\n",
    "print(isomorphic(s, t))\n"
   ]
  },
  {
   "cell_type": "markdown",
   "id": "98ba090e-9331-4968-b323-509068a457f9",
   "metadata": {},
   "source": [
    "#### Question 2 Given a string num which represents an integer, return true if num is a strobogrammatic number. A strobogrammatic number is a number that looks the same when rotated 180 degrees (looked at upside down).\n",
    "\n",
    "Example 1:\n",
    "\n",
    "Input: num = \"69\"\n",
    "\n",
    "Output:\n",
    "\n",
    "true\n"
   ]
  },
  {
   "cell_type": "code",
   "execution_count": 2,
   "id": "82b6a4c9-50cc-4414-9586-5b6697298680",
   "metadata": {},
   "outputs": [
    {
     "name": "stdout",
     "output_type": "stream",
     "text": [
      "True\n"
     ]
    }
   ],
   "source": [
    "def is_strobogrammatic(num):\n",
    "\n",
    "    strobogrammatic = {'0': '0', '1': '1', '6': '9', '8': '8', '9': '6'}\n",
    "\n",
    "    l, r = 0, len(num) - 1\n",
    "\n",
    "    while l <= r:\n",
    "\n",
    "        if num[l] not in strobogrammatic or num[r] not in strobogrammatic:\n",
    "\n",
    "            return False\n",
    "\n",
    "        if strobogrammatic[num[l]] != num[r]:\n",
    "\n",
    "            return False\n",
    "\n",
    "        l += 1\n",
    "\n",
    "        r -= 1\n",
    "\n",
    "    return True\n",
    "\n",
    "\n",
    "num = \"69\"\n",
    "\n",
    "print(is_strobogrammatic(num))\n"
   ]
  },
  {
   "cell_type": "markdown",
   "id": "4e2eb975-84f5-443b-a1d8-7af700dd77b4",
   "metadata": {},
   "source": [
    "#### Question 3 Given two non-negative integers, num1 and num2 represented as string, return the sum of num1 and num2 as a string. You must solve the problem without using any built-in library for handling large integers (such as BigInteger). You must also not convert the inputs to integers directly.\n",
    "\n",
    "Example 1:\n",
    "\n",
    "Input: num1 = \"11\", num2 = \"123\"\n",
    "\n",
    "Output:\n",
    "\n",
    "\"134\"\n"
   ]
  },
  {
   "cell_type": "code",
   "execution_count": 3,
   "id": "f00526dc-b1b2-456d-953d-ce9f25540273",
   "metadata": {},
   "outputs": [
    {
     "name": "stdout",
     "output_type": "stream",
     "text": [
      "134\n"
     ]
    }
   ],
   "source": [
    "def add_strings(num1, num2):\n",
    "\n",
    "    i, j = len(num1) - 1, len(num2) - 1\n",
    "\n",
    "    c = 0\n",
    "\n",
    "    res = \"\"\n",
    "\n",
    "    while i >= 0 or j >= 0:\n",
    "\n",
    "        d1 = int(num1[i]) if i >= 0 else 0\n",
    "\n",
    "        d2 = int(num2[j]) if j >= 0 else 0\n",
    "\n",
    "        d_sum = d1 + d2 + c\n",
    "\n",
    "        c = d_sum // 10\n",
    "\n",
    "        res += str(d_sum % 10)\n",
    "\n",
    "        i -= 1\n",
    "\n",
    "        j -= 1\n",
    "\n",
    "    if c == 1:\n",
    "\n",
    "        res += str(c)\n",
    "\n",
    "    return res[::-1]\n",
    "\n",
    "\n",
    "num1 = \"11\"\n",
    "\n",
    "num2 = \"123\"\n",
    "\n",
    "print(add_strings(num1, num2))\n"
   ]
  },
  {
   "cell_type": "markdown",
   "id": "e3a10baa-6935-46f1-9106-7f54199deb09",
   "metadata": {},
   "source": [
    "#### Question 4 Given a string s, reverse the order of characters in each word within a sentence while still preserving whitespace and initial word order.\n",
    "\n",
    "Example 1:\n",
    "\n",
    "Input: s = \"Let's take LeetCode contest\"\n",
    "\n",
    "Output: \"s'teL ekat edoCteeL tsetnoc\"\n"
   ]
  },
  {
   "cell_type": "code",
   "execution_count": 4,
   "id": "a84388d1-0a38-4d14-8efb-ab88fee879fa",
   "metadata": {},
   "outputs": [
    {
     "name": "stdout",
     "output_type": "stream",
     "text": [
      "s'teL ekat edoCteeL tsetnoc\n"
     ]
    }
   ],
   "source": [
    "def reverse_words(s):\n",
    "\n",
    "    words = s.split()\n",
    "\n",
    "    rev_words = []\n",
    "\n",
    "    for w in words:\n",
    "\n",
    "        rev_word = w[::-1]\n",
    "\n",
    "        rev_words.append(rev_word)\n",
    "\n",
    "    rev_sent = ' '.join(rev_words)\n",
    "\n",
    "    return rev_sent\n",
    "\n",
    "\n",
    "s = \"Let's take LeetCode contest\"\n",
    "\n",
    "print(reverse_words(s))\n"
   ]
  },
  {
   "cell_type": "markdown",
   "id": "baf328c5-9321-4ec8-aad0-17cb59498684",
   "metadata": {},
   "source": [
    "#### Question 5 Given a string s and an integer k, reverse the first k characters for every 2k characters counting from the start of the string. If there are fewer than k characters left, reverse all of them. If there are less than 2k but greater than or equal to k characters, then reverse the first k characters and leave the other as original.\n",
    "\n",
    "Example 1:\n",
    "\n",
    "Input: s = \"abcdefg\", k = 2\n",
    "\n",
    "Output:\n",
    "\n",
    "\"bacdfeg\"\n"
   ]
  },
  {
   "cell_type": "code",
   "execution_count": 5,
   "id": "21b24295-e53a-4a27-bd86-c6aedd9c9347",
   "metadata": {},
   "outputs": [
    {
     "name": "stdout",
     "output_type": "stream",
     "text": [
      "bacdfeg\n"
     ]
    }
   ],
   "source": [
    "def str_reverse(s, k):\n",
    "\n",
    "    c = list(s)\n",
    "\n",
    "    n = len(s)\n",
    "\n",
    "    for i in range(0, n, 2*k):\n",
    "\n",
    "        l = i\n",
    "\n",
    "        r = min(i + k - 1, n - 1)\n",
    "\n",
    "        while l < r:\n",
    "\n",
    "            c[l], c[r] = c[r], c[l]\n",
    "\n",
    "            l += 1\n",
    "\n",
    "            r -= 1\n",
    "\n",
    "    return ''.join(c)\n",
    "\n",
    "\n",
    "s = \"abcdefg\"\n",
    "\n",
    "k = 2\n",
    "\n",
    "print(str_reverse(s, k))\n"
   ]
  },
  {
   "cell_type": "markdown",
   "id": "0f0042c8-6297-449d-bed4-b5c28612227c",
   "metadata": {},
   "source": [
    "#### Question 6 Given two strings s and goal, return true if and only if s can become goal after some number of shifts on s. A shift on s consists of moving the leftmost character of s to the rightmost position.\n",
    "\n",
    "For example, if s = \"abcde\", then it will be \"bcdea\" after one shift.\n",
    "\n",
    "Example 1:\n",
    "\n",
    "Input: s = \"abcde\", goal = \"cdeab\"\n",
    "\n",
    "Output:\n",
    "\n",
    "True\n"
   ]
  },
  {
   "cell_type": "code",
   "execution_count": 6,
   "id": "504a1c13-42bf-49fd-a032-10c9d1ee2101",
   "metadata": {},
   "outputs": [
    {
     "name": "stdout",
     "output_type": "stream",
     "text": [
      "True\n"
     ]
    }
   ],
   "source": [
    "def str_rotate(s, goal):\n",
    "\n",
    "    if len(s) != len(goal):\n",
    "\n",
    "        return False\n",
    "\n",
    "    concat = s + s\n",
    "\n",
    "    if goal in concat:\n",
    "\n",
    "        return True\n",
    "\n",
    "    return False\n",
    "\n",
    "\n",
    "s = \"abcde\"\n",
    "\n",
    "goal = \"cdeab\"\n",
    "\n",
    "print(str_rotate(s, goal))\n"
   ]
  },
  {
   "cell_type": "markdown",
   "id": "12d30e83-35e8-4969-abb8-912c7283606e",
   "metadata": {},
   "source": [
    "#### Question 7 Given two strings s and t, return true if they are equal when both are typed into empty text editors. '#' means a backspace character. Note that after backspacing an empty text, the text will continue empty.\n",
    "\n",
    "Example 1:\n",
    "\n",
    "Input: s = \"ab#c\", t = \"ad#c\"\n",
    "\n",
    "Output: true\n",
    "\n",
    "Explanation:\n",
    "\n",
    "Both s and t become \"ac\".\n"
   ]
  },
  {
   "cell_type": "code",
   "execution_count": 7,
   "id": "dd6e0746-9836-427e-a954-b8e4e100baef",
   "metadata": {},
   "outputs": [
    {
     "name": "stdout",
     "output_type": "stream",
     "text": [
      "True\n"
     ]
    }
   ],
   "source": [
    "def compare_backspace(s, t):\n",
    "\n",
    "    def process_str(string):\n",
    "\n",
    "        proc = []\n",
    "\n",
    "        for c in string:\n",
    "\n",
    "            if c != '#':\n",
    "\n",
    "                proc.append(c)\n",
    "\n",
    "            elif proc:\n",
    "\n",
    "                proc.pop()\n",
    "\n",
    "        return ''.join(proc)\n",
    "\n",
    "    def final_str(s, t):\n",
    "\n",
    "        final_s = process_str(s)\n",
    "\n",
    "        final_t = process_str(t)\n",
    "\n",
    "        return final_s, final_t\n",
    "\n",
    "    final_s, final_t = final_str(s, t)\n",
    "\n",
    "    return final_s == final_t\n",
    "\n",
    "\n",
    "s = \"ab#c\"\n",
    "\n",
    "t = \"ad#c\"\n",
    "\n",
    "print(compare_backspace(s, t))\n"
   ]
  },
  {
   "cell_type": "markdown",
   "id": "7e8d192c-ab7e-4c2e-b913-465ab0ad1390",
   "metadata": {},
   "source": [
    "#### Question 8 You are given an array coordinates, coordinates[i] = [x, y], where [x, y] represents the coordinate of a point. Check if these points make a straight line in the XY plane.\n",
    "\n",
    "Example 1:\n",
    "\n",
    "Input: coordinates = [[1,2],[2,3],[3,4],[4,5],[5,6],[6,7]]\n",
    "\n",
    "Output: true\n"
   ]
  },
  {
   "cell_type": "code",
   "execution_count": 8,
   "id": "7a1c7e95-85e1-493b-b326-9ec756852bde",
   "metadata": {},
   "outputs": [
    {
     "name": "stdout",
     "output_type": "stream",
     "text": [
      "True\n"
     ]
    }
   ],
   "source": [
    "def straight_line(coordinates):\n",
    "\n",
    "    n = len(coordinates)\n",
    "\n",
    "    if n <= 2:\n",
    "\n",
    "        return True\n",
    "\n",
    "    x0, y0 = coordinates[0]\n",
    "\n",
    "    for i in range(1, n):\n",
    "\n",
    "        x, y = coordinates[i]\n",
    "\n",
    "        if x - x0 == 0:\n",
    "\n",
    "            return False\n",
    "\n",
    "        if (y - y0) / (x - x0) != (coordinates[i][1] - coordinates[i-1][1]) / (coordinates[i][0] - coordinates[i-1][0]):\n",
    "\n",
    "            return False\n",
    "\n",
    "    return True\n",
    "\n",
    "\n",
    "coordinates = [[1, 2], [2, 3], [3, 4], [4, 5], [5, 6], [6, 7]]\n",
    "\n",
    "print(straight_line(coordinates))\n"
   ]
  },
  {
   "cell_type": "code",
   "execution_count": null,
   "id": "7a1ead7e-e601-48d8-a633-852b0f21fa8c",
   "metadata": {},
   "outputs": [],
   "source": []
  }
 ],
 "metadata": {
  "kernelspec": {
   "display_name": "Python 3 (ipykernel)",
   "language": "python",
   "name": "python3"
  },
  "language_info": {
   "codemirror_mode": {
    "name": "ipython",
    "version": 3
   },
   "file_extension": ".py",
   "mimetype": "text/x-python",
   "name": "python",
   "nbconvert_exporter": "python",
   "pygments_lexer": "ipython3",
   "version": "3.10.6"
  }
 },
 "nbformat": 4,
 "nbformat_minor": 5
}
