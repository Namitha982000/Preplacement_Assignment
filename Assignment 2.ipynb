{
 "cells": [
  {
   "cell_type": "markdown",
   "id": "e4a74e25-b90f-4571-9c45-aa5f697899b3",
   "metadata": {},
   "source": [
    "# Assignment 2"
   ]
  },
  {
   "cell_type": "markdown",
   "id": "25f4cb16-d637-47e8-bc1c-68d7e205846e",
   "metadata": {},
   "source": [
    "#### Question 1 Given an integer array nums of 2n integers, group these integers into n pairs (a1, b1), (a2, b2),..., (an, bn) such that the sum of min(ai, bi) for all i is maximized. Return the maximized sum.\n",
    "\n",
    "Example 1: Input: nums = [1,4,3,2] Output: 4\n",
    "\n",
    "Explanation: All possible pairings (ignoring the ordering of elements) are:\n",
    "\n",
    "(1, 4), (2, 3) -> min(1, 4) + min(2, 3) = 1 + 2 = 3\n",
    "\n",
    "(1, 3), (2, 4) -> min(1, 3) + min(2, 4) = 1 + 2 = 3\n",
    "\n",
    "(1, 2), (3, 4) -> min(1, 2) + min(3, 4) = 1 + 3 = 4 \n",
    "\n",
    "So the maximum possible sum is 4 \n"
   ]
  },
  {
   "cell_type": "code",
   "execution_count": 1,
   "id": "2c70fab0-8fcf-46be-ae84-c4da942c68e7",
   "metadata": {},
   "outputs": [
    {
     "name": "stdout",
     "output_type": "stream",
     "text": [
      "4\n"
     ]
    }
   ],
   "source": [
    "from itertools import combinations\n",
    "\n",
    "lst = []\n",
    "\n",
    "maximum = []\n",
    "\n",
    "def maxiSum(nums):\n",
    "\n",
    "  comb = combinations(nums, 2)\n",
    "\n",
    "  for i in list(comb):\n",
    "\n",
    "    lst.append(i)\n",
    "\n",
    "     \n",
    "  for j in range(0, len(lst), 2):\n",
    "\n",
    "    maximum.append(min(lst[j])+ min(lst[j+1]))\n",
    "\n",
    "  return max(maximum)\n",
    "\n",
    "   \n",
    "nums = [1,4,3,2]\n",
    "\n",
    "res = maxiSum(nums)\n",
    "\n",
    "print(res)"
   ]
  },
  {
   "cell_type": "markdown",
   "id": "4facbc0f-b7de-461b-a220-d6f913eafcd9",
   "metadata": {},
   "source": [
    "#### Question 2 Alice has n candies, where the ith candy is of type candyType[i]. Alice noticed that she started to gain weight, so she visited a doctor. \n",
    "\n",
    "The doctor advised Alice to only eat n / 2 of the candies she has (n is always even). Alice likes her candies very much, and she wants to eat the maximum number of different types of candies while still following the doctor's advice. \n",
    "\n",
    "Given the integer array candyType of length n, return the maximum number of different types of candies she can eat if she only eats n / 2 of them.\n",
    "\n",
    "Example 1:\n",
    "\n",
    "Input: candyType = [1,1,2,2,3,3]\n",
    "\n",
    "Output: 3\n",
    "\n",
    "Explanation: Alice can only eat 6 / 2 = 3 candies. Since there are only 3 types, she can eat one of each type.\n"
   ]
  },
  {
   "cell_type": "code",
   "execution_count": 2,
   "id": "b401a4ee-2cf0-47f6-b0ce-11add80324c5",
   "metadata": {},
   "outputs": [
    {
     "name": "stdout",
     "output_type": "stream",
     "text": [
      "3\n"
     ]
    }
   ],
   "source": [
    "def candies(candyType):\n",
    "\n",
    "  unique_candies = set(candyType)\n",
    "\n",
    "  maximum_candies = min(len(unique_candies), len(candyType) // 2)\n",
    "\n",
    "  return maximum_candies\n",
    "\n",
    "   \n",
    "\n",
    "candyType = [1, 1, 2, 2, 3, 3]\n",
    "\n",
    "res = candies(candyType)\n",
    "\n",
    "print(res)\n",
    "\n"
   ]
  },
  {
   "cell_type": "markdown",
   "id": "01378378-04b3-411f-aedc-1faf79b2cff9",
   "metadata": {},
   "source": [
    "#### Question 3 We define a harmonious array as an array where the difference between its maximum value and its minimum value is exactly 1.\n",
    "\n",
    "Given an integer array nums, return the length of its longest harmonious subsequence\n",
    "among all its possible subsequences.\n",
    "\n",
    "A subsequence of an array is a sequence that can be derived from the array by deleting some or no elements without changing the order of the remaining elements.\n",
    "\n",
    "Example 1:\n",
    "\n",
    "Input: nums = [1,3,2,2,5,2,3,7]\n",
    "\n",
    "Output: 5\n",
    "\n",
    "Explanation: The longest harmonious subsequence is [3,2,2,2,3].\n"
   ]
  },
  {
   "cell_type": "code",
   "execution_count": 3,
   "id": "a84718c5-0209-41c5-9738-d518399d0d68",
   "metadata": {},
   "outputs": [
    {
     "name": "stdout",
     "output_type": "stream",
     "text": [
      "5\n"
     ]
    }
   ],
   "source": [
    "def largest_subseq(nums):\n",
    "\n",
    "  max_length = 0\n",
    "\n",
    "  c = {}\n",
    "\n",
    "   \n",
    "  for i in nums:\n",
    "\n",
    "    c[i] = nums.count(i)\n",
    "\n",
    "     \n",
    "  for j in c.values():\n",
    "\n",
    "    if j > 1:\n",
    "\n",
    "      max_length += j\n",
    "\n",
    "  return max_length\n",
    "\n",
    "\n",
    "nums = [1,3,2,2,5,2,3,7]\n",
    "\n",
    "res = largest_subseq(nums)\n",
    "\n",
    "print(res)"
   ]
  },
  {
   "cell_type": "markdown",
   "id": "fac1279a-100d-4a8b-8a36-2e120839c322",
   "metadata": {},
   "source": [
    "#### Question 4 You have a long flowerbed in which some of the plots are planted, and some are not.\n",
    "However, flowers cannot be planted in adjacent plots.\n",
    "\n",
    "Given an integer array flowerbed containing 0's and 1's, where 0 means empty and 1 means not empty, and an integer n, return true if n new flowers can be planted in the flowerbed without violating the no-adjacent-flowers rule and false otherwise.\n",
    "\n",
    "Example 1:\n",
    "\n",
    "Input: flowerbed = [1,0,0,0,1], n = 1\n",
    "\n",
    "Output: true\n"
   ]
  },
  {
   "cell_type": "code",
   "execution_count": 4,
   "id": "960b3ecd-203f-400e-9888-6f3f0ae90c44",
   "metadata": {},
   "outputs": [
    {
     "name": "stdout",
     "output_type": "stream",
     "text": [
      "True\n"
     ]
    }
   ],
   "source": [
    "def flowers(flowerbed, n):\n",
    "\n",
    "  count = 0\n",
    "\n",
    "  i = 0\n",
    "\n",
    "\n",
    "  while i < len(flowerbed):\n",
    "\n",
    "    if (\n",
    "\n",
    "      flowerbed[i] == 0\n",
    "\n",
    "      and (i == 0 or flowerbed[i - 1] == 0)\n",
    "\n",
    "      and (i == len(flowerbed) - 1 or flowerbed[i + 1] == 0)\n",
    "\n",
    "    ):\n",
    "\n",
    "      count += 1\n",
    "\n",
    "      flowerbed[i] = 1\n",
    "\n",
    "      if count == n:\n",
    "\n",
    "        return True\n",
    "\n",
    "    i += 1\n",
    "\n",
    "\n",
    "  return False\n",
    "\n",
    "flowerbed = [1, 0, 0, 0, 1]\n",
    "\n",
    "n = 1\n",
    "\n",
    "res = flowers(flowerbed, n)\n",
    "\n",
    "print(res)"
   ]
  },
  {
   "cell_type": "markdown",
   "id": "3cb65d95-4a5a-4aa9-9787-00bd0930f1fc",
   "metadata": {},
   "source": [
    "#### Question 5 Given an integer array nums, find three numbers whose product is maximum and return the maximum product.\n",
    "\n",
    "Example 1:\n",
    "\n",
    "Input: nums = [1,2,3]\n",
    "\n",
    "Output: 6\n"
   ]
  },
  {
   "cell_type": "code",
   "execution_count": 5,
   "id": "7c878a00-7b0a-4978-b696-76bcfaf6052d",
   "metadata": {},
   "outputs": [
    {
     "name": "stdout",
     "output_type": "stream",
     "text": [
      "6\n"
     ]
    }
   ],
   "source": [
    "from itertools import combinations\n",
    "\n",
    "def maxProd(nums):\n",
    "\n",
    "  lst = []\n",
    "\n",
    "  maximum = []\n",
    "\n",
    "  comb = combinations(nums, 3)\n",
    "\n",
    "  for i in list(comb):\n",
    "\n",
    "    lst.append(i)\n",
    "\n",
    "  for j in range(0, len(lst)):\n",
    "\n",
    "    maximum.append(lst[j][0]*lst[j][1]*lst[j][2])\n",
    "\n",
    "  return max(maximum)\n",
    "\n",
    "nums = [1,2,3]\n",
    "\n",
    "res = maxProd(nums)\n",
    "\n",
    "print(res)"
   ]
  },
  {
   "cell_type": "markdown",
   "id": "42a5ee36-a8c3-4384-92db-2e953106e676",
   "metadata": {},
   "source": [
    "#### Question 6 Given an array of integers nums which is sorted in ascending order, and an integer target, write a function to search target in nums. If target exists, then return its index. Otherwise, return -1.\n",
    "\n",
    "You must write an algorithm with O(log n) runtime complexity.\n",
    "\n",
    "Input: nums = [-1,0,3,5,9,12], target = 9\n",
    "\n",
    "Output: 4\n",
    "\n",
    "Explanation: 9 exists in nums and its index is 4\n"
   ]
  },
  {
   "cell_type": "code",
   "execution_count": 6,
   "id": "0ab02b1a-ebbb-4d77-8671-7317503546eb",
   "metadata": {},
   "outputs": [
    {
     "name": "stdout",
     "output_type": "stream",
     "text": [
      "4\n"
     ]
    }
   ],
   "source": [
    "def search(nums, target):\n",
    "\n",
    "  l = 0\n",
    "\n",
    "  r = len(nums) - 1\n",
    "\n",
    "  while l <= r:\n",
    "\n",
    "    m = (l + r) // 2\n",
    "\n",
    "\n",
    "    if nums[m] == target:\n",
    "\n",
    "      return m\n",
    "\n",
    "    elif nums[m] < target:\n",
    "\n",
    "      l = m + 1\n",
    "\n",
    "    else:\n",
    "\n",
    "      r = m - 1\n",
    "\n",
    "\n",
    "  return -1\n",
    "\n",
    "\n",
    "nums = [-1, 0, 3, 5, 9, 12]\n",
    "\n",
    "target = 9\n",
    "\n",
    "res = search(nums, target)\n",
    "\n",
    "print(res)"
   ]
  },
  {
   "cell_type": "markdown",
   "id": "2dc5159c-426b-4889-9b9b-72c683c6fe08",
   "metadata": {},
   "source": [
    "#### Question 7 An array is monotonic if it is either monotone increasing or monotone decreasing.\n",
    "\n",
    "An array nums is monotone increasing if for all i <= j, nums[i] <= nums[j]. An array nums is\n",
    "monotone decreasing if for all i <= j, nums[i] >= nums[j].\n",
    "\n",
    "Given an integer array nums, return true if the given array is monotonic, or false otherwise.\n",
    "\n",
    "Example 1:\n",
    "\n",
    "Input: nums = [1,2,2,3]\n",
    "\n",
    "Output: true\n"
   ]
  },
  {
   "cell_type": "code",
   "execution_count": 7,
   "id": "f1adea58-0107-4500-a22f-ebe54dc51c82",
   "metadata": {},
   "outputs": [
    {
     "name": "stdout",
     "output_type": "stream",
     "text": [
      "True\n"
     ]
    }
   ],
   "source": [
    "def is_monotone(nums):\n",
    "\n",
    "  increasing = True\n",
    "\n",
    "  decreasing = True\n",
    "\n",
    "  for i in range(1, len(nums)):\n",
    "\n",
    "    if nums[i] < nums[i-1]:\n",
    "\n",
    "      increasing = False\n",
    "\n",
    "    if nums[i] > nums[i-1]:\n",
    "\n",
    "      decreasing = False\n",
    "\n",
    "  return increasing or decreasing\n",
    "\n",
    "\n",
    "nums = [1, 2, 2, 3]\n",
    "\n",
    "res = is_monotone(nums)\n",
    "\n",
    "print(res)"
   ]
  },
  {
   "cell_type": "code",
   "execution_count": 8,
   "id": "68eaadc2-17a4-4681-b5ef-51d495e494bb",
   "metadata": {},
   "outputs": [
    {
     "name": "stdout",
     "output_type": "stream",
     "text": [
      "False\n"
     ]
    }
   ],
   "source": [
    "nums = [6, 2, 4, 2]\n",
    "\n",
    "res = is_monotone(nums)\n",
    "\n",
    "print(res)"
   ]
  },
  {
   "cell_type": "markdown",
   "id": "0c4d2cd4-854c-4717-9c67-105166aee065",
   "metadata": {},
   "source": [
    "#### Question 8 You are given an integer array nums and an integer k.\n",
    "\n",
    "In one operation, you can choose any index i where 0 <= i < nums.length and change nums[i] to nums[i] + x where x is an integer from the range [-k, k]. You can apply this operation at most once for each index i.\n",
    "\n",
    "The score of nums is the difference between the maximum and minimum elements in nums.\n",
    "\n",
    "Return the minimum score of nums after applying the mentioned operation at most once for each index in it.\n",
    "\n",
    "Example 1:\n",
    "\n",
    "Input: nums = [1], k = 0\n",
    "\n",
    "Output: 0\n",
    "\n",
    "Explanation: The score is max(nums) - min(nums) = 1 - 1 = 0.\n"
   ]
  },
  {
   "cell_type": "code",
   "execution_count": 9,
   "id": "ab7a1aa6-fb96-4bba-a0fe-61c163f3cdfe",
   "metadata": {},
   "outputs": [
    {
     "name": "stdout",
     "output_type": "stream",
     "text": [
      "0\n"
     ]
    }
   ],
   "source": [
    "def minScore(nums, k):\n",
    "\n",
    "  minimum = min(nums)\n",
    "\n",
    "  maximum = max(nums)\n",
    "\n",
    "  if minimum == maximum:\n",
    "\n",
    "    return 0\n",
    "\n",
    "  for num in nums:\n",
    "\n",
    "    a_min = num - k\n",
    "\n",
    "    a_max = num + k\n",
    "\n",
    "\n",
    "    if a_min < minimum and a_max > maximum:\n",
    "\n",
    "      minimum = a_min\n",
    "\n",
    "      maximum = a_max\n",
    "\n",
    "    elif a_min < minimum:\n",
    "\n",
    "      minimum = a_min\n",
    "\n",
    "    elif a_max > maximum:\n",
    "\n",
    "      maximum = a_max\n",
    "\n",
    "  return maximum - minimum\n",
    "\n",
    "\n",
    "nums = [1]\n",
    "\n",
    "k = 0\n",
    "\n",
    "res = minScore(nums, k)\n",
    "\n",
    "print(res)"
   ]
  },
  {
   "cell_type": "code",
   "execution_count": null,
   "id": "8acd99a1-a91a-4cb6-858e-0224af9eaf58",
   "metadata": {},
   "outputs": [],
   "source": []
  }
 ],
 "metadata": {
  "kernelspec": {
   "display_name": "Python 3 (ipykernel)",
   "language": "python",
   "name": "python3"
  },
  "language_info": {
   "codemirror_mode": {
    "name": "ipython",
    "version": 3
   },
   "file_extension": ".py",
   "mimetype": "text/x-python",
   "name": "python",
   "nbconvert_exporter": "python",
   "pygments_lexer": "ipython3",
   "version": "3.10.6"
  }
 },
 "nbformat": 4,
 "nbformat_minor": 5
}
